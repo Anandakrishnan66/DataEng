{
  "cells": [
    {
      "cell_type": "code",
      "execution_count": 1,
      "metadata": {},
      "outputs": [
        {
          "data": {
            "application/vnd.livy.statement-meta+json": {
              "execution_finish_time": null,
              "execution_start_time": null,
              "livy_statement_state": null,
              "normalized_state": "session_error",
              "parent_msg_id": "0b8e8e25-d26e-41b2-8d3c-24d846da299f",
              "queued_time": "2024-07-18T12:24:21.4888239Z",
              "session_id": null,
              "session_start_time": "2024-07-18T12:24:21.531872Z",
              "spark_jobs": null,
              "spark_pool": null,
              "state": "session_error",
              "statement_id": -1,
              "statement_ids": []
            },
            "text/plain": [
              "StatementMeta(, , -1, SessionError, , SessionError)"
            ]
          },
          "metadata": {},
          "output_type": "display_data"
        },
        {
          "ename": "AVAILABLE_WORKSPACE_CAPACITY_EXCEEDED",
          "evalue": "Livy session has failed. Session state: Error. Error code: AVAILABLE_WORKSPACE_CAPACITY_EXCEEDED. Your job requested 12 vcores. However, the workspace only has 0 vcores available out of quota of 12 vcores for node size family [MemoryOptimized]. Try ending the running job(s), reducing the numbers of vcores requested or increasing your vcore quota. https://learn.microsoft.com/en-us/azure/synapse-analytics/spark/apache-spark-concepts#workspace-level Source: User.",
          "output_type": "error",
          "traceback": [
            "AVAILABLE_WORKSPACE_CAPACITY_EXCEEDED: Livy session has failed. Session state: Error. Error code: AVAILABLE_WORKSPACE_CAPACITY_EXCEEDED. Your job requested 12 vcores. However, the workspace only has 0 vcores available out of quota of 12 vcores for node size family [MemoryOptimized]. Try ending the running job(s), reducing the numbers of vcores requested or increasing your vcore quota. https://learn.microsoft.com/en-us/azure/synapse-analytics/spark/apache-spark-concepts#workspace-level Source: User."
          ]
        }
      ],
      "source": [
        "sc"
      ]
    },
    {
      "cell_type": "code",
      "execution_count": null,
      "metadata": {},
      "outputs": [],
      "source": []
    },
    {
      "cell_type": "code",
      "execution_count": null,
      "metadata": {
        "jupyter": {
          "outputs_hidden": false,
          "source_hidden": false
        },
        "nteract": {
          "transient": {
            "deleting": false
          }
        }
      },
      "outputs": [
        {
          "data": {
            "application/vnd.livy.statement-meta+json": {
              "execution_finish_time": "2024-07-18T12:12:57.5031353Z",
              "execution_start_time": null,
              "livy_statement_state": null,
              "normalized_state": "cancelled",
              "parent_msg_id": "df773519-0110-49e3-9459-9cc2da33c279",
              "queued_time": "2024-07-18T12:12:47.2698463Z",
              "session_id": null,
              "session_start_time": null,
              "spark_jobs": null,
              "spark_pool": null,
              "state": "cancelled",
              "statement_id": null,
              "statement_ids": null
            },
            "text/plain": [
              "StatementMeta(, , , Cancelled, , Cancelled)"
            ]
          },
          "metadata": {},
          "output_type": "display_data"
        }
      ],
      "source": [
        "df=spark.readStream.format(\"parquet\").option(\"path\",\"abfss://datasynapsefs@datasynapselake.dfs.core.windows.net/synapse/workspaces/azuresynapseworks/warehouse/taxi_tb/*.parquet\")"
      ]
    },
    {
      "cell_type": "code",
      "execution_count": null,
      "metadata": {
        "jupyter": {
          "outputs_hidden": false,
          "source_hidden": false
        },
        "nteract": {
          "transient": {
            "deleting": false
          }
        }
      },
      "outputs": [
        {
          "data": {
            "application/vnd.livy.statement-meta+json": {
              "execution_finish_time": "2024-07-18T12:12:57.5037559Z",
              "execution_start_time": null,
              "livy_statement_state": null,
              "normalized_state": "cancelled",
              "parent_msg_id": "70e624f0-c224-4e6e-8847-c4c844516c5e",
              "queued_time": "2024-07-18T12:12:47.363032Z",
              "session_id": null,
              "session_start_time": null,
              "spark_jobs": null,
              "spark_pool": null,
              "state": "cancelled",
              "statement_id": null,
              "statement_ids": null
            },
            "text/plain": [
              "StatementMeta(, , , Cancelled, , Cancelled)"
            ]
          },
          "metadata": {},
          "output_type": "display_data"
        }
      ],
      "source": [
        "userSchema = spark.read.parquet(\"abfss://datasynapsefs@datasynapselake.dfs.core.windows.net/synapse/workspaces/azuresynapseworks/warehouse/taxi_tb/\").schema\n",
        "taxi_df=spark.readStream.schema(schema=userSchema).format(\"parquet\").option(\"path\",\"abfss://datasynapsefs@datasynapselake.dfs.core.windows.net/synapse/workspaces/azuresynapseworks/warehouse/taxi_tb/*.parquet\").load()"
      ]
    },
    {
      "cell_type": "code",
      "execution_count": null,
      "metadata": {
        "jupyter": {
          "outputs_hidden": false,
          "source_hidden": false
        },
        "nteract": {
          "transient": {
            "deleting": false
          }
        }
      },
      "outputs": [
        {
          "data": {
            "application/vnd.livy.statement-meta+json": {
              "execution_finish_time": "2024-07-18T12:12:57.5043168Z",
              "execution_start_time": null,
              "livy_statement_state": null,
              "normalized_state": "cancelled",
              "parent_msg_id": "663a4807-9e77-4786-9758-aeb28d98f5a9",
              "queued_time": "2024-07-18T12:12:47.4830967Z",
              "session_id": null,
              "session_start_time": null,
              "spark_jobs": null,
              "spark_pool": null,
              "state": "cancelled",
              "statement_id": null,
              "statement_ids": null
            },
            "text/plain": [
              "StatementMeta(, , , Cancelled, , Cancelled)"
            ]
          },
          "metadata": {},
          "output_type": "display_data"
        }
      ],
      "source": [
        "df=spark.read.load(\"abfss://datasynapsefs@datasynapselake.dfs.core.windows.net/synapse/workspaces/azuresynapseworks/warehouse/taxi_tb/\")"
      ]
    },
    {
      "cell_type": "code",
      "execution_count": null,
      "metadata": {
        "jupyter": {
          "outputs_hidden": true,
          "source_hidden": false
        },
        "nteract": {
          "transient": {
            "deleting": false
          }
        }
      },
      "outputs": [
        {
          "data": {
            "application/vnd.livy.statement-meta+json": {
              "execution_finish_time": "2024-07-18T12:12:57.5048905Z",
              "execution_start_time": null,
              "livy_statement_state": null,
              "normalized_state": "cancelled",
              "parent_msg_id": "279c0307-1785-43fe-9424-af266b86ecec",
              "queued_time": "2024-07-18T12:12:47.8262182Z",
              "session_id": null,
              "session_start_time": null,
              "spark_jobs": null,
              "spark_pool": null,
              "state": "cancelled",
              "statement_id": null,
              "statement_ids": null
            },
            "text/plain": [
              "StatementMeta(, , , Cancelled, , Cancelled)"
            ]
          },
          "metadata": {},
          "output_type": "display_data"
        }
      ],
      "source": [
        "df.show()"
      ]
    },
    {
      "cell_type": "code",
      "execution_count": null,
      "metadata": {
        "jupyter": {
          "outputs_hidden": false,
          "source_hidden": false
        },
        "nteract": {
          "transient": {
            "deleting": false
          }
        }
      },
      "outputs": [
        {
          "data": {
            "application/vnd.livy.statement-meta+json": {
              "execution_finish_time": "2024-07-18T12:12:57.5054074Z",
              "execution_start_time": null,
              "livy_statement_state": null,
              "normalized_state": "cancelled",
              "parent_msg_id": "9040ffca-6da6-429b-8ce3-002c96d20425",
              "queued_time": "2024-07-18T12:12:48.1528151Z",
              "session_id": null,
              "session_start_time": null,
              "spark_jobs": null,
              "spark_pool": null,
              "state": "cancelled",
              "statement_id": null,
              "statement_ids": null
            },
            "text/plain": [
              "StatementMeta(, , , Cancelled, , Cancelled)"
            ]
          },
          "metadata": {},
          "output_type": "display_data"
        }
      ],
      "source": [
        "df=df.select('VendorID',\n",
        " 'Passengercount',\n",
        " 'Tripdistances',\n",
        " 'Pickuptime',\n",
        " 'Droptime',\n",
        " 'PickuplocationID',\n",
        " 'DroplocationID',\n",
        " 'Tripdistance',\n",
        " 'fare_amount',\n",
        " 'total_amount',\n",
        " 'payment_type',\n",
        " 'trip_type',\n",
        " 'Triptype').\\\n",
        " withColumnRenamed(\"fare_amount\",\"FareAmount\").\\\n",
        " withColumnRenamed(\"total_amount\",\"TotalAmount\")"
      ]
    },
    {
      "cell_type": "code",
      "execution_count": null,
      "metadata": {
        "jupyter": {
          "outputs_hidden": false,
          "source_hidden": false
        },
        "nteract": {
          "transient": {
            "deleting": false
          }
        }
      },
      "outputs": [
        {
          "data": {
            "application/vnd.livy.statement-meta+json": {
              "execution_finish_time": "2024-07-18T12:12:57.5068111Z",
              "execution_start_time": null,
              "livy_statement_state": null,
              "normalized_state": "cancelled",
              "parent_msg_id": "e149db89-7384-4d77-a92c-22785cf98ff3",
              "queued_time": "2024-07-18T12:12:48.3348215Z",
              "session_id": null,
              "session_start_time": null,
              "spark_jobs": null,
              "spark_pool": null,
              "state": "cancelled",
              "statement_id": null,
              "statement_ids": null
            },
            "text/plain": [
              "StatementMeta(, , , Cancelled, , Cancelled)"
            ]
          },
          "metadata": {},
          "output_type": "display_data"
        }
      ],
      "source": [
        "df.select('trip_type','VendorID','payment_type').distinct().show()"
      ]
    },
    {
      "cell_type": "code",
      "execution_count": null,
      "metadata": {
        "jupyter": {
          "outputs_hidden": false,
          "source_hidden": false
        },
        "nteract": {
          "transient": {
            "deleting": false
          }
        }
      },
      "outputs": [
        {
          "data": {
            "application/vnd.livy.statement-meta+json": {
              "execution_finish_time": "2024-07-18T12:12:57.5075206Z",
              "execution_start_time": null,
              "livy_statement_state": null,
              "normalized_state": "cancelled",
              "parent_msg_id": "19c69b01-3720-4d63-8f16-b86a32ac8adf",
              "queued_time": "2024-07-18T12:12:48.6529679Z",
              "session_id": null,
              "session_start_time": null,
              "spark_jobs": null,
              "spark_pool": null,
              "state": "cancelled",
              "statement_id": null,
              "statement_ids": null
            },
            "text/plain": [
              "StatementMeta(, , , Cancelled, , Cancelled)"
            ]
          },
          "metadata": {},
          "output_type": "display_data"
        }
      ],
      "source": [
        "df.columns"
      ]
    },
    {
      "cell_type": "code",
      "execution_count": null,
      "metadata": {
        "jupyter": {
          "outputs_hidden": false,
          "source_hidden": false
        },
        "nteract": {
          "transient": {
            "deleting": false
          }
        }
      },
      "outputs": [
        {
          "data": {
            "application/vnd.livy.statement-meta+json": {
              "execution_finish_time": "2024-07-18T12:12:57.5081591Z",
              "execution_start_time": null,
              "livy_statement_state": null,
              "normalized_state": "cancelled",
              "parent_msg_id": "32cddd70-b516-4767-b595-e3368241b917",
              "queued_time": "2024-07-18T12:12:48.9252068Z",
              "session_id": null,
              "session_start_time": null,
              "spark_jobs": null,
              "spark_pool": null,
              "state": "cancelled",
              "statement_id": null,
              "statement_ids": null
            },
            "text/plain": [
              "StatementMeta(, , , Cancelled, , Cancelled)"
            ]
          },
          "metadata": {},
          "output_type": "display_data"
        }
      ],
      "source": [
        "taxi_df.writeStream.outputMode(\"append\")\\\n",
        ".format(\"json\")\\\n",
        ".option(\"path\",\"abfss://datasynapsefs@datasynapselake.dfs.core.windows.net/output_data/\")\\\n",
        ".option(\"checkpointlocation\",\"abfss://datasynapsefs@datasynapselake.dfs.core.windows.net/checkpoint\")\\\n",
        ".start()"
      ]
    },
    {
      "cell_type": "code",
      "execution_count": null,
      "metadata": {
        "jupyter": {
          "outputs_hidden": false,
          "source_hidden": false
        },
        "nteract": {
          "transient": {
            "deleting": false
          }
        }
      },
      "outputs": [
        {
          "data": {
            "application/vnd.livy.statement-meta+json": {
              "execution_finish_time": "2024-07-18T12:12:57.5087954Z",
              "execution_start_time": null,
              "livy_statement_state": null,
              "normalized_state": "cancelled",
              "parent_msg_id": "40959a17-5f63-4033-af12-6a646b4d70c0",
              "queued_time": "2024-07-18T12:12:49.0885265Z",
              "session_id": null,
              "session_start_time": null,
              "spark_jobs": null,
              "spark_pool": null,
              "state": "cancelled",
              "statement_id": null,
              "statement_ids": null
            },
            "text/plain": [
              "StatementMeta(, , , Cancelled, , Cancelled)"
            ]
          },
          "metadata": {},
          "output_type": "display_data"
        }
      ],
      "source": [
        "userSchema = spark.read.parquet(\"abfss://datasynapsefs@datasynapselake.dfs.core.windows.net/synapse/workspaces/azuresynapseworks/warehouse/taxi_tb/\").schema\n",
        "taxi_df=spark.readStream.schema(schema=userSchema).format(\"parquet\").option(\"path\",\"abfss://datasynapsefs@datasynapselake.dfs.core.windows.net/synapse/workspaces/azuresynapseworks/warehouse/taxi_tb/*.parquet\").load()\n",
        "\n",
        "taxi_df=taxi_df.select('VendorID',\n",
        " 'Passengercount',\n",
        " 'Tripdistances',\n",
        " 'Pickuptime',\n",
        " 'Droptime',\n",
        " 'PickuplocationID',\n",
        " 'DroplocationID',\n",
        " 'Tripdistance',\n",
        " 'fare_amount',\n",
        " 'total_amount',\n",
        " 'payment_type',\n",
        " 'trip_type',\n",
        " 'Triptype').\\\n",
        " withColumnRenamed(\"fare_amount\",\"FareAmount\").\\\n",
        " withColumnRenamed(\"total_amount\",\"TotalAmount\")\n",
        "\n",
        "taxi_df.writeStream.outputMode(\"append\")\\\n",
        ".format(\"json\")\\\n",
        ".option(\"path\",\"abfss://datasynapsefs@datasynapselake.dfs.core.windows.net/output_data1/\")\\\n",
        ".option(\"checkpointlocation\",\"abfss://datasynapsefs@datasynapselake.dfs.core.windows.net/checkpoint1\")\\\n",
        ".start()"
      ]
    },
    {
      "cell_type": "markdown",
      "metadata": {
        "nteract": {
          "transient": {
            "deleting": false
          }
        }
      },
      "source": [
        "Example 2"
      ]
    },
    {
      "cell_type": "code",
      "execution_count": null,
      "metadata": {
        "jupyter": {
          "outputs_hidden": false,
          "source_hidden": false
        },
        "nteract": {
          "transient": {
            "deleting": false
          }
        }
      },
      "outputs": [],
      "source": [
        "userSchema = spark.read.parquet(\"abfss://datasynapsefs@datasynapselake.dfs.core.windows.net/synapse/workspaces/azuresynapseworks/warehouse/taxi_tb/\").schema\n",
        "taxi_df=spark.readStream.schema(schema=userSchema).format(\"parquet\").option(\"path\",\"abfss://datasynapsefs@datasynapselake.dfs.core.windows.net/synapse/workspaces/azuresynapseworks/warehouse/taxi_tb/*.parquet\").load()\n",
        "\n",
        "taxi_df=taxi_df.select('VendorID',\n",
        " 'payment_type',\n",
        " 'trip_type',\n",
        " ).\\\n",
        " groupBy('VendorID','Triptype','payment_type').agg(sum(col('FareAmount')+col('TotalAmount')))\n",
        "\n",
        "taxi_df.writeStream.outputMode(\"append\")\\\n",
        ".format(\"json\")\\\n",
        ".option(\"path\",\"abfss://datasynapsefs@datasynapselake.dfs.core.windows.net/output_data3/\")\\\n",
        ".option(\"checkpointlocation\",\"abfss://datasynapsefs@datasynapselake.dfs.core.windows.net/checkpoint3\")\\\n",
        ".start()"
      ]
    }
  ],
  "metadata": {
    "description": null,
    "kernel_info": {
      "name": "synapse_pyspark"
    },
    "kernelspec": {
      "display_name": "Synapse PySpark",
      "language": "Python",
      "name": "synapse_pyspark"
    },
    "language_info": {
      "name": "python"
    },
    "save_output": true,
    "synapse_widget": {
      "state": {},
      "version": "0.1"
    }
  },
  "nbformat": 4,
  "nbformat_minor": 2
}
