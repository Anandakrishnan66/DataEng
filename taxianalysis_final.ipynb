{
  "cells": [
    {
      "cell_type": "code",
      "source": [
        "sc"
      ],
      "outputs": [
        {
          "output_type": "display_data",
          "data": {
            "application/vnd.livy.statement-meta+json": {
              "spark_pool": "sparkpool",
              "statement_id": 2,
              "statement_ids": [
                2
              ],
              "livy_statement_state": "available",
              "spark_jobs": null,
              "session_id": "23",
              "state": "finished",
              "normalized_state": "finished",
              "queued_time": "2024-07-19T09:06:54.0840591Z",
              "session_start_time": "2024-07-19T09:06:54.1682486Z",
              "execution_start_time": "2024-07-19T09:08:46.4526042Z",
              "execution_finish_time": "2024-07-19T09:08:46.5978609Z",
              "parent_msg_id": "7c8b09d3-fadb-44d9-9485-27f5fa9cf253"
            },
            "text/plain": "StatementMeta(sparkpool, 23, 2, Finished, Available, Finished)"
          },
          "metadata": {}
        },
        {
          "output_type": "execute_result",
          "execution_count": 5,
          "data": {
            "text/plain": "<SparkContext master=yarn appName=taxianalysis_final_sparkpool_1721380014>",
            "text/html": "\n        <div>\n            <p><b>SparkContext</b></p>\n\n            <p><a href=\"https://web.azuresynapse.net/sparkui/84d16d2d-d167-4eed-8209-f12cd1de2bc5/workspaces/azuresynapseworks/sparkpools/sparkpool/sessions/23/applications/application_1721378906941_0002\">Spark UI</a></p>\n\n            <dl>\n              <dt>Version</dt>\n                <dd><code>v3.4.1.5.3.20240528.1</code></dd>\n              <dt>Master</dt>\n                <dd><code>yarn</code></dd>\n              <dt>AppName</dt>\n                <dd><code>taxianalysis_final_sparkpool_1721380014</code></dd>\n            </dl>\n        </div>\n        "
          },
          "metadata": {}
        }
      ],
      "execution_count": 1,
      "metadata": {}
    },
    {
      "cell_type": "code",
      "source": [
        "spark"
      ],
      "outputs": [
        {
          "output_type": "display_data",
          "data": {
            "application/vnd.livy.statement-meta+json": {
              "spark_pool": "sparkpool",
              "statement_id": 3,
              "statement_ids": [
                3
              ],
              "livy_statement_state": "available",
              "spark_jobs": null,
              "session_id": "23",
              "state": "finished",
              "normalized_state": "finished",
              "queued_time": "2024-07-19T09:06:54.0849888Z",
              "session_start_time": null,
              "execution_start_time": "2024-07-19T09:08:46.753648Z",
              "execution_finish_time": "2024-07-19T09:08:46.9229795Z",
              "parent_msg_id": "8989258d-ffd4-4d80-a525-46348233236c"
            },
            "text/plain": "StatementMeta(sparkpool, 23, 3, Finished, Available, Finished)"
          },
          "metadata": {}
        },
        {
          "output_type": "execute_result",
          "execution_count": 7,
          "data": {
            "text/plain": "<pyspark.sql.session.SparkSession at 0x7a58206febc0>",
            "text/html": "\n            <div>\n                <p><b>SparkSession - hive</b></p>\n                \n        <div>\n            <p><b>SparkContext</b></p>\n\n            <p><a href=\"https://web.azuresynapse.net/sparkui/84d16d2d-d167-4eed-8209-f12cd1de2bc5/workspaces/azuresynapseworks/sparkpools/sparkpool/sessions/23/applications/application_1721378906941_0002\">Spark UI</a></p>\n\n            <dl>\n              <dt>Version</dt>\n                <dd><code>v3.4.1.5.3.20240528.1</code></dd>\n              <dt>Master</dt>\n                <dd><code>yarn</code></dd>\n              <dt>AppName</dt>\n                <dd><code>taxianalysis_final_sparkpool_1721380014</code></dd>\n            </dl>\n        </div>\n        \n            </div>\n        "
          },
          "metadata": {}
        }
      ],
      "execution_count": 2,
      "metadata": {
        "jupyter": {
          "source_hidden": false,
          "outputs_hidden": false
        },
        "nteract": {
          "transient": {
            "deleting": false
          }
        }
      }
    },
    {
      "cell_type": "code",
      "source": [
        "from pyspark.sql.functions import *\r\n",
        "from pyspark.sql.types import *\r\n",
        "from datetime import datetime"
      ],
      "outputs": [
        {
          "output_type": "display_data",
          "data": {
            "application/vnd.livy.statement-meta+json": {
              "spark_pool": "sparkpool",
              "statement_id": 4,
              "statement_ids": [
                4
              ],
              "livy_statement_state": "available",
              "spark_jobs": null,
              "session_id": "23",
              "state": "finished",
              "normalized_state": "finished",
              "queued_time": "2024-07-19T09:06:54.0859565Z",
              "session_start_time": null,
              "execution_start_time": "2024-07-19T09:08:47.0516193Z",
              "execution_finish_time": "2024-07-19T09:08:47.2073535Z",
              "parent_msg_id": "84fcba86-dc11-4e54-ba41-0166ed6e2a40"
            },
            "text/plain": "StatementMeta(sparkpool, 23, 4, Finished, Available, Finished)"
          },
          "metadata": {}
        }
      ],
      "execution_count": 3,
      "metadata": {
        "jupyter": {
          "source_hidden": false,
          "outputs_hidden": false
        },
        "nteract": {
          "transient": {
            "deleting": false
          }
        }
      }
    },
    {
      "cell_type": "code",
      "source": [
        "trip_df = spark.read.load(\"abfss://datasynapsefs@datasynapselake.dfs.core.windows.net/TripData.csv\", header =True, inferschema = True, format = \"csv\")\r\n"
      ],
      "outputs": [
        {
          "output_type": "display_data",
          "data": {
            "application/vnd.livy.statement-meta+json": {
              "spark_pool": "sparkpool",
              "statement_id": 5,
              "statement_ids": [
                5
              ],
              "livy_statement_state": "available",
              "spark_jobs": null,
              "session_id": "23",
              "state": "finished",
              "normalized_state": "finished",
              "queued_time": "2024-07-19T09:06:54.0870199Z",
              "session_start_time": null,
              "execution_start_time": "2024-07-19T09:08:47.3517422Z",
              "execution_finish_time": "2024-07-19T09:09:14.370134Z",
              "parent_msg_id": "57606dcf-8769-49dd-a6c8-ab60f96c1139"
            },
            "text/plain": "StatementMeta(sparkpool, 23, 5, Finished, Available, Finished)"
          },
          "metadata": {}
        }
      ],
      "execution_count": 4,
      "metadata": {
        "jupyter": {
          "source_hidden": false,
          "outputs_hidden": false
        },
        "nteract": {
          "transient": {
            "deleting": false
          }
        }
      }
    },
    {
      "cell_type": "code",
      "source": [
        "trip_df.printSchema()"
      ],
      "outputs": [
        {
          "output_type": "display_data",
          "data": {
            "application/vnd.livy.statement-meta+json": {
              "spark_pool": "sparkpool",
              "statement_id": 6,
              "statement_ids": [
                6
              ],
              "livy_statement_state": "available",
              "spark_jobs": null,
              "session_id": "23",
              "state": "finished",
              "normalized_state": "finished",
              "queued_time": "2024-07-19T09:06:54.0881133Z",
              "session_start_time": null,
              "execution_start_time": "2024-07-19T09:09:14.5345905Z",
              "execution_finish_time": "2024-07-19T09:09:14.6947125Z",
              "parent_msg_id": "8d054b9d-0f64-4087-81a0-033485a21feb"
            },
            "text/plain": "StatementMeta(sparkpool, 23, 6, Finished, Available, Finished)"
          },
          "metadata": {}
        },
        {
          "output_type": "stream",
          "name": "stdout",
          "text": [
            "root\n |-- VendorID: integer (nullable = true)\n |-- lpep_pickup_datetime: string (nullable = true)\n |-- lpep_dropoff_datetime: string (nullable = true)\n |-- store_and_fwd_flag: string (nullable = true)\n |-- RatecodeID: integer (nullable = true)\n |-- PULocationID: integer (nullable = true)\n |-- DOLocationID: integer (nullable = true)\n |-- passenger_count: integer (nullable = true)\n |-- trip_distance: double (nullable = true)\n |-- fare_amount: double (nullable = true)\n |-- extra: double (nullable = true)\n |-- mta_tax: double (nullable = true)\n |-- tip_amount: double (nullable = true)\n |-- tolls_amount: double (nullable = true)\n |-- ehail_fee: string (nullable = true)\n |-- improvement_surcharge: double (nullable = true)\n |-- total_amount: double (nullable = true)\n |-- payment_type: integer (nullable = true)\n |-- trip_type: integer (nullable = true)\n |-- congestion_surcharge: double (nullable = true)\n\n"
          ]
        }
      ],
      "execution_count": 5,
      "metadata": {
        "jupyter": {
          "source_hidden": false,
          "outputs_hidden": false
        },
        "nteract": {
          "transient": {
            "deleting": false
          }
        }
      }
    },
    {
      "cell_type": "code",
      "source": [
        "print(trip_df.columns)"
      ],
      "outputs": [
        {
          "output_type": "display_data",
          "data": {
            "application/vnd.livy.statement-meta+json": {
              "spark_pool": "sparkpool",
              "statement_id": 7,
              "statement_ids": [
                7
              ],
              "livy_statement_state": "available",
              "spark_jobs": null,
              "session_id": "23",
              "state": "finished",
              "normalized_state": "finished",
              "queued_time": "2024-07-19T09:06:54.0896017Z",
              "session_start_time": null,
              "execution_start_time": "2024-07-19T09:09:14.8363144Z",
              "execution_finish_time": "2024-07-19T09:09:14.9913258Z",
              "parent_msg_id": "4c92c3d0-e74f-465b-907b-e2c88e178771"
            },
            "text/plain": "StatementMeta(sparkpool, 23, 7, Finished, Available, Finished)"
          },
          "metadata": {}
        },
        {
          "output_type": "stream",
          "name": "stdout",
          "text": [
            "['VendorID', 'lpep_pickup_datetime', 'lpep_dropoff_datetime', 'store_and_fwd_flag', 'RatecodeID', 'PULocationID', 'DOLocationID', 'passenger_count', 'trip_distance', 'fare_amount', 'extra', 'mta_tax', 'tip_amount', 'tolls_amount', 'ehail_fee', 'improvement_surcharge', 'total_amount', 'payment_type', 'trip_type', 'congestion_surcharge']\n"
          ]
        }
      ],
      "execution_count": 6,
      "metadata": {
        "jupyter": {
          "source_hidden": false,
          "outputs_hidden": false
        },
        "nteract": {
          "transient": {
            "deleting": false
          }
        }
      }
    },
    {
      "cell_type": "code",
      "source": [
        "#filter records with no passenger count and '0' trip distance\r\n",
        "trip_df1 = trip_df.where(col('passenger_count')>0).filter(col('trip_distance')>0.0).drop_duplicates() \r\n"
      ],
      "outputs": [
        {
          "output_type": "display_data",
          "data": {
            "application/vnd.livy.statement-meta+json": {
              "spark_pool": "sparkpool",
              "statement_id": 8,
              "statement_ids": [
                8
              ],
              "livy_statement_state": "available",
              "spark_jobs": null,
              "session_id": "23",
              "state": "finished",
              "normalized_state": "finished",
              "queued_time": "2024-07-19T09:06:54.0915672Z",
              "session_start_time": null,
              "execution_start_time": "2024-07-19T09:09:15.1365637Z",
              "execution_finish_time": "2024-07-19T09:09:15.2900892Z",
              "parent_msg_id": "d268ba5c-9c7d-4bfb-a701-2650e8d76a8c"
            },
            "text/plain": "StatementMeta(sparkpool, 23, 8, Finished, Available, Finished)"
          },
          "metadata": {}
        }
      ],
      "execution_count": 7,
      "metadata": {
        "jupyter": {
          "source_hidden": false,
          "outputs_hidden": false
        },
        "nteract": {
          "transient": {
            "deleting": false
          }
        }
      }
    },
    {
      "cell_type": "code",
      "source": [
        "print(trip_df1.rdd.getNumPartitions())"
      ],
      "outputs": [
        {
          "output_type": "display_data",
          "data": {
            "application/vnd.livy.statement-meta+json": {
              "spark_pool": "sparkpool",
              "statement_id": 9,
              "statement_ids": [
                9
              ],
              "livy_statement_state": "available",
              "spark_jobs": null,
              "session_id": "23",
              "state": "finished",
              "normalized_state": "finished",
              "queued_time": "2024-07-19T09:06:54.0929184Z",
              "session_start_time": null,
              "execution_start_time": "2024-07-19T09:09:15.443606Z",
              "execution_finish_time": "2024-07-19T09:09:28.1383726Z",
              "parent_msg_id": "b0ccdd9d-2cb7-4c16-8b67-307d2e915a7d"
            },
            "text/plain": "StatementMeta(sparkpool, 23, 9, Finished, Available, Finished)"
          },
          "metadata": {}
        },
        {
          "output_type": "stream",
          "name": "stdout",
          "text": [
            "4\n"
          ]
        }
      ],
      "execution_count": 8,
      "metadata": {
        "jupyter": {
          "source_hidden": false,
          "outputs_hidden": false
        },
        "nteract": {
          "transient": {
            "deleting": false
          }
        }
      }
    },
    {
      "cell_type": "code",
      "source": [
        "trip_df2 = trip_df1.select(col('VendorID'),\r\n",
        "col('lpep_pickup_datetime').alias('PickUpTime'),\r\n",
        "col('lpep_dropoff_datetime').alias('DropTime'),\r\n",
        "col('passenger_count').alias('PassengerCount'),\r\n",
        "col('trip_distance').alias('TripDistance'),\r\n",
        "col('PULocationID').alias('PickUpLocation'),\r\n",
        "col('DOLocationID').alias('DropLocationID'),col('RatecodeID'),\r\n",
        "col('fare_amount'),col('total_amount'),col('payment_type'),col('trip_type'),\r\n",
        ")"
      ],
      "outputs": [
        {
          "output_type": "display_data",
          "data": {
            "application/vnd.livy.statement-meta+json": {
              "spark_pool": "sparkpool",
              "statement_id": 10,
              "statement_ids": [
                10
              ],
              "livy_statement_state": "available",
              "spark_jobs": null,
              "session_id": "23",
              "state": "finished",
              "normalized_state": "finished",
              "queued_time": "2024-07-19T09:06:54.0945057Z",
              "session_start_time": null,
              "execution_start_time": "2024-07-19T09:09:28.2711147Z",
              "execution_finish_time": "2024-07-19T09:09:28.4197297Z",
              "parent_msg_id": "765a5b0a-d292-4248-85f8-0ec7110b53d8"
            },
            "text/plain": "StatementMeta(sparkpool, 23, 10, Finished, Available, Finished)"
          },
          "metadata": {}
        }
      ],
      "execution_count": 9,
      "metadata": {
        "jupyter": {
          "source_hidden": false,
          "outputs_hidden": false
        },
        "nteract": {
          "transient": {
            "deleting": false
          }
        }
      }
    },
    {
      "cell_type": "code",
      "source": [
        "trip_df2.show(1)"
      ],
      "outputs": [
        {
          "output_type": "display_data",
          "data": {
            "application/vnd.livy.statement-meta+json": {
              "spark_pool": "sparkpool",
              "statement_id": 11,
              "statement_ids": [
                11
              ],
              "livy_statement_state": "available",
              "spark_jobs": null,
              "session_id": "23",
              "state": "finished",
              "normalized_state": "finished",
              "queued_time": "2024-07-19T09:06:54.0965758Z",
              "session_start_time": null,
              "execution_start_time": "2024-07-19T09:09:28.5467501Z",
              "execution_finish_time": "2024-07-19T09:09:35.4985206Z",
              "parent_msg_id": "2319dbee-6d0e-4aee-aa6e-9ac9981f53a8"
            },
            "text/plain": "StatementMeta(sparkpool, 23, 11, Finished, Available, Finished)"
          },
          "metadata": {}
        },
        {
          "output_type": "stream",
          "name": "stdout",
          "text": [
            "+--------+--------------------+--------------------+--------------+------------+--------------+--------------+----------+-----------+------------+------------+---------+\n|VendorID|          PickUpTime|            DropTime|PassengerCount|TripDistance|PickUpLocation|DropLocationID|RatecodeID|fare_amount|total_amount|payment_type|trip_type|\n+--------+--------------------+--------------------+--------------+------------+--------------+--------------+----------+-----------+------------+------------+---------+\n|       2|01/01/2021 08:59:...|01/01/2021 09:04:...|             1|        1.44|            74|            75|         1|        6.5|        8.76|           1|        1|\n+--------+--------------------+--------------------+--------------+------------+--------------+--------------+----------+-----------+------------+------------+---------+\nonly showing top 1 row\n\n"
          ]
        }
      ],
      "execution_count": 10,
      "metadata": {
        "jupyter": {
          "source_hidden": false,
          "outputs_hidden": false
        },
        "nteract": {
          "transient": {
            "deleting": false
          }
        }
      }
    },
    {
      "cell_type": "code",
      "source": [
        "trip_df2.select('PickUpTime').show(2,truncate=False)"
      ],
      "outputs": [
        {
          "output_type": "display_data",
          "data": {
            "application/vnd.livy.statement-meta+json": {
              "spark_pool": "sparkpool",
              "statement_id": 12,
              "statement_ids": [
                12
              ],
              "livy_statement_state": "available",
              "spark_jobs": null,
              "session_id": "23",
              "state": "finished",
              "normalized_state": "finished",
              "queued_time": "2024-07-19T09:06:54.0980457Z",
              "session_start_time": null,
              "execution_start_time": "2024-07-19T09:09:35.6276891Z",
              "execution_finish_time": "2024-07-19T09:09:40.9386881Z",
              "parent_msg_id": "6a70653b-a2ea-47e6-87c2-a5280de3c361"
            },
            "text/plain": "StatementMeta(sparkpool, 23, 12, Finished, Available, Finished)"
          },
          "metadata": {}
        },
        {
          "output_type": "stream",
          "name": "stdout",
          "text": [
            "+----------------------+\n|PickUpTime            |\n+----------------------+\n|01/01/2021 08:59:00 AM|\n|01/01/2021 11:56:17 AM|\n+----------------------+\nonly showing top 2 rows\n\n"
          ]
        }
      ],
      "execution_count": 11,
      "metadata": {
        "jupyter": {
          "source_hidden": false,
          "outputs_hidden": false
        },
        "nteract": {
          "transient": {
            "deleting": false
          }
        }
      }
    },
    {
      "cell_type": "code",
      "source": [
        "trip_df2.select('RatecodeID').distinct().show()"
      ],
      "outputs": [
        {
          "output_type": "display_data",
          "data": {
            "application/vnd.livy.statement-meta+json": {
              "spark_pool": "sparkpool",
              "statement_id": 13,
              "statement_ids": [
                13
              ],
              "livy_statement_state": "available",
              "spark_jobs": null,
              "session_id": "23",
              "state": "finished",
              "normalized_state": "finished",
              "queued_time": "2024-07-19T09:06:54.0997735Z",
              "session_start_time": null,
              "execution_start_time": "2024-07-19T09:09:41.0771881Z",
              "execution_finish_time": "2024-07-19T09:09:45.0428754Z",
              "parent_msg_id": "2e1c41f8-9d9b-41ea-9bef-6b91e321e6b5"
            },
            "text/plain": "StatementMeta(sparkpool, 23, 13, Finished, Available, Finished)"
          },
          "metadata": {}
        },
        {
          "output_type": "stream",
          "name": "stdout",
          "text": [
            "+----------+\n|RatecodeID|\n+----------+\n|         1|\n|         3|\n|         5|\n|         4|\n|         2|\n|         6|\n+----------+\n\n"
          ]
        }
      ],
      "execution_count": 12,
      "metadata": {
        "jupyter": {
          "source_hidden": false,
          "outputs_hidden": false
        },
        "nteract": {
          "transient": {
            "deleting": false
          }
        }
      }
    },
    {
      "cell_type": "code",
      "source": [
        "from pyspark.sql.functions import to_timestamp\r\n",
        "\r\n",
        "datetime_format = \"MM/dd/yyyy hh:mm:ss a\"\r\n",
        "\r\n",
        "trip_df2 = trip_df2.withColumn('PickUpTime', to_timestamp('PickUpTime', datetime_format))\r\n",
        "trip_df2 = trip_df2.withColumn('DropTime', to_timestamp('DropTime', datetime_format))\r\n"
      ],
      "outputs": [
        {
          "output_type": "display_data",
          "data": {
            "application/vnd.livy.statement-meta+json": {
              "spark_pool": "sparkpool",
              "statement_id": 14,
              "statement_ids": [
                14
              ],
              "livy_statement_state": "available",
              "spark_jobs": null,
              "session_id": "23",
              "state": "finished",
              "normalized_state": "finished",
              "queued_time": "2024-07-19T09:06:54.1022968Z",
              "session_start_time": null,
              "execution_start_time": "2024-07-19T09:09:45.1769568Z",
              "execution_finish_time": "2024-07-19T09:09:45.3266998Z",
              "parent_msg_id": "30c89cab-374a-42b0-94f0-8cdd7e1a6804"
            },
            "text/plain": "StatementMeta(sparkpool, 23, 14, Finished, Available, Finished)"
          },
          "metadata": {}
        }
      ],
      "execution_count": 13,
      "metadata": {
        "jupyter": {
          "source_hidden": false,
          "outputs_hidden": false
        },
        "nteract": {
          "transient": {
            "deleting": false
          }
        }
      }
    },
    {
      "cell_type": "code",
      "source": [
        "trip_df3 = trip_df2.withColumn(\"TripYear\",year(\"PickUpTime\"))\\\r\n",
        ".withColumn(\"TripMonth\",month(\"PickUpTime\"))\\\r\n",
        ".withColumn(\"TripDay\",dayofmonth(\"PickUpTime\"))\\\r\n",
        ".withColumn(\"TripDuration\",round((unix_timestamp(col(\"DropTime\"))-unix_timestamp(col(\"PickUpTime\")))/60,2))"
      ],
      "outputs": [
        {
          "output_type": "display_data",
          "data": {
            "application/vnd.livy.statement-meta+json": {
              "spark_pool": "sparkpool",
              "statement_id": 15,
              "statement_ids": [
                15
              ],
              "livy_statement_state": "available",
              "spark_jobs": null,
              "session_id": "23",
              "state": "finished",
              "normalized_state": "finished",
              "queued_time": "2024-07-19T09:06:54.1042833Z",
              "session_start_time": null,
              "execution_start_time": "2024-07-19T09:09:45.4682731Z",
              "execution_finish_time": "2024-07-19T09:09:46.0289833Z",
              "parent_msg_id": "a060b23a-737e-40de-9f18-e9372befde50"
            },
            "text/plain": "StatementMeta(sparkpool, 23, 15, Finished, Available, Finished)"
          },
          "metadata": {}
        }
      ],
      "execution_count": 14,
      "metadata": {
        "jupyter": {
          "source_hidden": false,
          "outputs_hidden": false
        },
        "nteract": {
          "transient": {
            "deleting": false
          }
        }
      }
    },
    {
      "cell_type": "code",
      "source": [
        "trip_df3.show(1)"
      ],
      "outputs": [
        {
          "output_type": "display_data",
          "data": {
            "application/vnd.livy.statement-meta+json": {
              "spark_pool": "sparkpool",
              "statement_id": 16,
              "statement_ids": [
                16
              ],
              "livy_statement_state": "available",
              "spark_jobs": null,
              "session_id": "23",
              "state": "finished",
              "normalized_state": "finished",
              "queued_time": "2024-07-19T09:06:54.1059629Z",
              "session_start_time": null,
              "execution_start_time": "2024-07-19T09:09:46.1746328Z",
              "execution_finish_time": "2024-07-19T09:09:51.566145Z",
              "parent_msg_id": "d1a9c5e6-75c8-400a-a14a-b50cc8da6b14"
            },
            "text/plain": "StatementMeta(sparkpool, 23, 16, Finished, Available, Finished)"
          },
          "metadata": {}
        },
        {
          "output_type": "stream",
          "name": "stdout",
          "text": [
            "+--------+-------------------+-------------------+--------------+------------+--------------+--------------+----------+-----------+------------+------------+---------+--------+---------+-------+------------+\n|VendorID|         PickUpTime|           DropTime|PassengerCount|TripDistance|PickUpLocation|DropLocationID|RatecodeID|fare_amount|total_amount|payment_type|trip_type|TripYear|TripMonth|TripDay|TripDuration|\n+--------+-------------------+-------------------+--------------+------------+--------------+--------------+----------+-----------+------------+------------+---------+--------+---------+-------+------------+\n|       2|2021-01-01 08:59:00|2021-01-01 09:04:13|             1|        1.44|            74|            75|         1|        6.5|        8.76|           1|        1|    2021|        1|      1|        5.22|\n+--------+-------------------+-------------------+--------------+------------+--------------+--------------+----------+-----------+------------+------------+---------+--------+---------+-------+------------+\nonly showing top 1 row\n\n"
          ]
        }
      ],
      "execution_count": 15,
      "metadata": {
        "jupyter": {
          "source_hidden": false,
          "outputs_hidden": false
        },
        "nteract": {
          "transient": {
            "deleting": false
          }
        }
      }
    },
    {
      "cell_type": "code",
      "source": [
        "trip_df4 = trip_df3.withColumn(\"TripMethod\",when(col(\"RatecodeID\")==6,\"SharedTrip\").otherwise(\"SoloTrip\"))\r\n",
        "trip_df4.show()"
      ],
      "outputs": [
        {
          "output_type": "display_data",
          "data": {
            "application/vnd.livy.statement-meta+json": {
              "spark_pool": "sparkpool",
              "statement_id": 17,
              "statement_ids": [
                17
              ],
              "livy_statement_state": "available",
              "spark_jobs": null,
              "session_id": "23",
              "state": "finished",
              "normalized_state": "finished",
              "queued_time": "2024-07-19T09:06:54.1079585Z",
              "session_start_time": null,
              "execution_start_time": "2024-07-19T09:09:51.7087385Z",
              "execution_finish_time": "2024-07-19T09:09:57.0334933Z",
              "parent_msg_id": "2bbc8f49-a6ca-463f-b852-16911c86110a"
            },
            "text/plain": "StatementMeta(sparkpool, 23, 17, Finished, Available, Finished)"
          },
          "metadata": {}
        },
        {
          "output_type": "stream",
          "name": "stdout",
          "text": [
            "+--------+-------------------+-------------------+--------------+------------+--------------+--------------+----------+-----------+------------+------------+---------+--------+---------+-------+------------+----------+\n|VendorID|         PickUpTime|           DropTime|PassengerCount|TripDistance|PickUpLocation|DropLocationID|RatecodeID|fare_amount|total_amount|payment_type|trip_type|TripYear|TripMonth|TripDay|TripDuration|TripMethod|\n+--------+-------------------+-------------------+--------------+------------+--------------+--------------+----------+-----------+------------+------------+---------+--------+---------+-------+------------+----------+\n|       2|2021-01-01 08:59:00|2021-01-01 09:04:13|             1|        1.44|            74|            75|         1|        6.5|        8.76|           1|        1|    2021|        1|      1|        5.22|  SoloTrip|\n|       1|2021-01-01 11:56:17|2021-01-01 11:58:47|             1|         0.8|            74|            75|         1|        4.5|         6.5|           1|        1|    2021|        1|      1|         2.5|  SoloTrip|\n|       2|2021-01-01 12:15:47|2021-01-01 12:23:19|             2|         1.1|             7|           179|         1|        7.0|         7.8|           2|        1|    2021|        1|      1|        7.53|  SoloTrip|\n|       2|2021-01-01 15:46:21|2021-01-01 16:25:28|             1|        7.15|           130|            61|         1|       28.5|        29.3|           1|        1|    2021|        1|      1|       39.12|  SoloTrip|\n|       2|2021-01-01 21:51:36|2021-01-01 21:59:26|             1|        1.77|            74|           168|         1|        8.0|         9.3|           1|        1|    2021|        1|      1|        7.83|  SoloTrip|\n|       2|2021-01-02 10:50:22|2021-01-02 11:07:11|             1|        5.32|            41|           143|         1|       18.5|       22.05|           2|        1|    2021|        1|      2|       16.82|  SoloTrip|\n|       2|2021-01-02 12:28:31|2021-01-02 12:43:20|             1|        2.34|            69|            41|         1|       12.0|        12.8|           2|        1|    2021|        1|      2|       14.82|  SoloTrip|\n|       2|2021-01-02 13:03:52|2021-01-02 13:07:21|             5|        0.93|            75|            74|         1|        5.0|         5.8|           2|        1|    2021|        1|      2|        3.48|  SoloTrip|\n|       2|2021-01-02 14:32:06|2021-01-02 14:40:26|             1|        1.64|            74|            75|         1|        8.0|       10.56|           1|        1|    2021|        1|      2|        8.33|  SoloTrip|\n|       2|2021-01-02 17:26:53|2021-01-02 17:55:41|             1|        8.61|           244|            90|         1|       29.0|       32.55|           2|        1|    2021|        1|      2|        28.8|  SoloTrip|\n|       2|2021-01-02 17:06:12|2021-01-02 17:18:09|             1|        3.11|            75|           142|         1|       12.0|       17.11|           1|        1|    2021|        1|      2|       11.95|  SoloTrip|\n|       2|2021-01-02 21:35:03|2021-01-02 21:48:19|             3|        2.15|           247|           147|         5|       10.0|        10.3|           2|        2|    2021|        1|      2|       13.27|  SoloTrip|\n|       2|2021-01-03 12:05:38|2021-01-03 12:26:34|             1|       10.43|           116|            92|         1|       30.0|       36.92|           2|        1|    2021|        1|      3|       20.93|  SoloTrip|\n|       2|2021-01-04 14:16:37|2021-01-04 14:31:42|             1|        2.03|            74|           151|         1|       11.5|        12.3|           2|        1|    2021|        1|      4|       15.08|  SoloTrip|\n|       1|2021-01-04 14:39:09|2021-01-04 14:44:53|             1|         0.5|            25|            33|         1|        5.5|         6.3|           2|        1|    2021|        1|      4|        5.73|  SoloTrip|\n|       2|2021-01-04 16:15:43|2021-01-04 16:21:43|             1|        0.99|            42|            74|         1|        6.0|         7.8|           2|        1|    2021|        1|      4|         6.0|  SoloTrip|\n|       2|2021-01-04 18:29:23|2021-01-04 18:31:43|             1|        0.96|            75|            74|         1|        4.5|        7.56|           1|        1|    2021|        1|      4|        2.33|  SoloTrip|\n|       2|2021-01-04 22:50:40|2021-01-04 22:59:12|             1|        2.62|            75|           140|         1|       10.0|       14.05|           2|        1|    2021|        1|      4|        8.53|  SoloTrip|\n|       2|2021-01-05 08:24:20|2021-01-05 08:28:31|             1|        0.86|            61|            61|         1|        5.0|         5.8|           2|        1|    2021|        1|      5|        4.18|  SoloTrip|\n|       1|2021-01-05 10:09:10|2021-01-05 10:34:15|             1|         5.2|            82|           141|         1|       20.0|       23.55|           2|        1|    2021|        1|      5|       25.08|  SoloTrip|\n+--------+-------------------+-------------------+--------------+------------+--------------+--------------+----------+-----------+------------+------------+---------+--------+---------+-------+------------+----------+\nonly showing top 20 rows\n\n"
          ]
        }
      ],
      "execution_count": 16,
      "metadata": {
        "jupyter": {
          "source_hidden": false,
          "outputs_hidden": true
        },
        "nteract": {
          "transient": {
            "deleting": false
          }
        }
      }
    },
    {
      "cell_type": "code",
      "source": [
        "spark.sql(\"CREATE DATABASE IF NOT EXISTS GreenNYCTaxi\")"
      ],
      "outputs": [
        {
          "output_type": "display_data",
          "data": {
            "application/vnd.livy.statement-meta+json": {
              "spark_pool": "sparkpool",
              "statement_id": 18,
              "statement_ids": [
                18
              ],
              "livy_statement_state": "available",
              "spark_jobs": null,
              "session_id": "23",
              "state": "finished",
              "normalized_state": "finished",
              "queued_time": "2024-07-19T09:06:54.1109263Z",
              "session_start_time": null,
              "execution_start_time": "2024-07-19T09:09:57.1808504Z",
              "execution_finish_time": "2024-07-19T09:10:14.0762718Z",
              "parent_msg_id": "e87f33b4-d523-47f3-b005-797da5597fb7"
            },
            "text/plain": "StatementMeta(sparkpool, 23, 18, Finished, Available, Finished)"
          },
          "metadata": {}
        },
        {
          "output_type": "execute_result",
          "execution_count": 37,
          "data": {
            "text/plain": "DataFrame[]"
          },
          "metadata": {}
        }
      ],
      "execution_count": 17,
      "metadata": {
        "jupyter": {
          "source_hidden": false,
          "outputs_hidden": false
        },
        "nteract": {
          "transient": {
            "deleting": false
          }
        }
      }
    },
    {
      "cell_type": "code",
      "source": [
        "trip_df4.drop('RateCodeID').repartition(4).write.mode(\"overwrite\").saveAsTable('GreenNYCTaxi.TaxiTable')"
      ],
      "outputs": [
        {
          "output_type": "display_data",
          "data": {
            "application/vnd.livy.statement-meta+json": {
              "spark_pool": "sparkpool",
              "statement_id": 29,
              "statement_ids": [
                29
              ],
              "livy_statement_state": "available",
              "spark_jobs": null,
              "session_id": "23",
              "state": "finished",
              "normalized_state": "finished",
              "queued_time": "2024-07-19T09:15:08.4325869Z",
              "session_start_time": null,
              "execution_start_time": "2024-07-19T09:15:08.567129Z",
              "execution_finish_time": "2024-07-19T09:15:25.3607851Z",
              "parent_msg_id": "c4c03684-dec0-492b-9c82-d3e1319ba0ed"
            },
            "text/plain": "StatementMeta(sparkpool, 23, 29, Finished, Available, Finished)"
          },
          "metadata": {}
        }
      ],
      "execution_count": 28,
      "metadata": {
        "jupyter": {
          "source_hidden": false,
          "outputs_hidden": false
        },
        "nteract": {
          "transient": {
            "deleting": false
          }
        }
      }
    },
    {
      "cell_type": "code",
      "source": [
        "#AvgTrip Duration\r\n",
        "spark.sql(\"SELECT AVG(TripDuration) AS AverageTripDuration FROM TaxiTable\").show()"
      ],
      "outputs": [
        {
          "output_type": "display_data",
          "data": {
            "application/vnd.livy.statement-meta+json": {
              "spark_pool": "sparkpool",
              "statement_id": 20,
              "statement_ids": [
                20
              ],
              "livy_statement_state": "available",
              "spark_jobs": null,
              "session_id": "23",
              "state": "finished",
              "normalized_state": "finished",
              "queued_time": "2024-07-19T09:06:54.1139944Z",
              "session_start_time": null,
              "execution_start_time": "2024-07-19T09:10:39.4024585Z",
              "execution_finish_time": "2024-07-19T09:10:44.7760774Z",
              "parent_msg_id": "4a1ff0a6-4077-4efe-a356-6cfe8335cde6"
            },
            "text/plain": "StatementMeta(sparkpool, 23, 20, Finished, Available, Finished)"
          },
          "metadata": {}
        },
        {
          "output_type": "stream",
          "name": "stdout",
          "text": [
            "+-------------------+\n|AverageTripDuration|\n+-------------------+\n| 23.971967633371385|\n+-------------------+\n\n"
          ]
        }
      ],
      "execution_count": 19,
      "metadata": {
        "jupyter": {
          "source_hidden": false,
          "outputs_hidden": false
        },
        "nteract": {
          "transient": {
            "deleting": false
          }
        }
      }
    },
    {
      "cell_type": "code",
      "source": [
        "#Distinct trip methods\r\n",
        "spark.sql(\"SELECT TripMethod, COUNT(*) AS TripCount FROM TaxiTable GROUP BY TripMethod;\").show()"
      ],
      "outputs": [
        {
          "output_type": "display_data",
          "data": {
            "application/vnd.livy.statement-meta+json": {
              "spark_pool": "sparkpool",
              "statement_id": 21,
              "statement_ids": [
                21
              ],
              "livy_statement_state": "available",
              "spark_jobs": null,
              "session_id": "23",
              "state": "finished",
              "normalized_state": "finished",
              "queued_time": "2024-07-19T09:06:54.2219577Z",
              "session_start_time": null,
              "execution_start_time": "2024-07-19T09:10:44.928474Z",
              "execution_finish_time": "2024-07-19T09:10:47.764071Z",
              "parent_msg_id": "a4bb93e0-8749-4b04-bad3-01f690a97a6b"
            },
            "text/plain": "StatementMeta(sparkpool, 23, 21, Finished, Available, Finished)"
          },
          "metadata": {}
        },
        {
          "output_type": "stream",
          "name": "stdout",
          "text": [
            "+----------+---------+\n|TripMethod|TripCount|\n+----------+---------+\n|SharedTrip|        3|\n|  SoloTrip|   621007|\n+----------+---------+\n\n"
          ]
        }
      ],
      "execution_count": 20,
      "metadata": {
        "jupyter": {
          "source_hidden": false,
          "outputs_hidden": false
        },
        "nteract": {
          "transient": {
            "deleting": false
          }
        }
      }
    },
    {
      "cell_type": "code",
      "source": [
        "%%sql\r\n",
        "SELECT fare_amount, total_amount\r\n",
        "FROM TaxiTable;\r\n"
      ],
      "outputs": [
        {
          "output_type": "display_data",
          "data": {
            "application/vnd.livy.statement-meta+json": {
              "spark_pool": "sparkpool",
              "statement_id": 22,
              "statement_ids": [
                22
              ],
              "livy_statement_state": "available",
              "spark_jobs": null,
              "session_id": "23",
              "state": "finished",
              "normalized_state": "finished",
              "queued_time": "2024-07-19T09:06:54.2231802Z",
              "session_start_time": null,
              "execution_start_time": "2024-07-19T09:10:47.8932199Z",
              "execution_finish_time": "2024-07-19T09:10:51.8433517Z",
              "parent_msg_id": "afe337a2-8f55-4ae7-b5f2-09ac668dc7f2"
            },
            "text/plain": "StatementMeta(sparkpool, 23, 22, Finished, Available, Finished)"
          },
          "metadata": {}
        },
        {
          "output_type": "execute_result",
          "execution_count": 21,
          "data": {
            "application/vnd.synapse.sparksql-result+json": {
              "schema": {
                "type": "struct",
                "fields": [
                  {
                    "name": "fare_amount",
                    "type": "double",
                    "nullable": true,
                    "metadata": {}
                  },
                  {
                    "name": "total_amount",
                    "type": "double",
                    "nullable": true,
                    "metadata": {}
                  }
                ]
              },
              "data": [
                [
                  8.5,
                  12.05
                ],
                [
                  6.5,
                  7.3
                ],
                [
                  8,
                  8.8
                ],
                [
                  19.5,
                  27.05
                ],
                [
                  74.5,
                  89.05
                ],
                [
                  5,
                  7.54
                ],
                [
                  16.5,
                  22.05
                ],
                [
                  13.5,
                  20.55
                ],
                [
                  5,
                  8.16
                ],
                [
                  24,
                  24.8
                ],
                [
                  37,
                  38.3
                ],
                [
                  7,
                  9.68
                ],
                [
                  8,
                  9.96
                ],
                [
                  42.5,
                  44.3
                ],
                [
                  7.5,
                  9.96
                ],
                [
                  7.5,
                  9
                ],
                [
                  20.5,
                  26.62
                ],
                [
                  6.5,
                  11.05
                ],
                [
                  5,
                  7.54
                ],
                [
                  6.5,
                  12.06
                ],
                [
                  5.5,
                  8.16
                ],
                [
                  8,
                  11.44
                ],
                [
                  4,
                  6.36
                ],
                [
                  31,
                  31.8
                ],
                [
                  12,
                  15.55
                ],
                [
                  11.5,
                  12.3
                ],
                [
                  10,
                  16.26
                ],
                [
                  3.5,
                  5.16
                ],
                [
                  15,
                  15.8
                ],
                [
                  8,
                  8.8
                ],
                [
                  8.5,
                  12.55
                ],
                [
                  12,
                  18.66
                ],
                [
                  9,
                  16.26
                ],
                [
                  28.5,
                  29.8
                ],
                [
                  9.5,
                  16.86
                ],
                [
                  50,
                  54.25
                ],
                [
                  3,
                  3.8
                ],
                [
                  7,
                  9.8
                ],
                [
                  41,
                  45.05
                ],
                [
                  16.5,
                  20.05
                ],
                [
                  5.5,
                  7.88
                ],
                [
                  11,
                  14.55
                ],
                [
                  16.5,
                  29.22
                ],
                [
                  11.5,
                  13.3
                ],
                [
                  6.5,
                  8.76
                ],
                [
                  40,
                  40.8
                ],
                [
                  19.5,
                  25.3
                ],
                [
                  62,
                  68.92
                ],
                [
                  24.5,
                  35.06
                ],
                [
                  12,
                  12.8
                ],
                [
                  10,
                  11.3
                ],
                [
                  8,
                  16.31
                ],
                [
                  16,
                  23.55
                ],
                [
                  10,
                  12.96
                ],
                [
                  10.5,
                  14.76
                ],
                [
                  7,
                  9.36
                ],
                [
                  8,
                  8.8
                ],
                [
                  10.5,
                  15.38
                ],
                [
                  6.5,
                  9.36
                ],
                [
                  6.5,
                  7.3
                ],
                [
                  28.5,
                  46.32
                ],
                [
                  26.5,
                  27.3
                ],
                [
                  30,
                  30.8
                ],
                [
                  19,
                  20.3
                ],
                [
                  20.5,
                  21.3
                ],
                [
                  5,
                  5.8
                ],
                [
                  7.5,
                  8.3
                ],
                [
                  5,
                  7.56
                ],
                [
                  9,
                  9.8
                ],
                [
                  12,
                  19.86
                ],
                [
                  15,
                  22.25
                ],
                [
                  16.5,
                  24.06
                ],
                [
                  6,
                  11.46
                ],
                [
                  11,
                  13.3
                ],
                [
                  79,
                  79.8
                ],
                [
                  7,
                  8.8
                ],
                [
                  4.5,
                  5.3
                ],
                [
                  17,
                  17.8
                ],
                [
                  40,
                  52.26
                ],
                [
                  6.5,
                  8.75
                ],
                [
                  15.5,
                  19.56
                ],
                [
                  5.5,
                  7.88
                ],
                [
                  13.5,
                  17.76
                ],
                [
                  6,
                  6.8
                ],
                [
                  12.5,
                  13.8
                ],
                [
                  7,
                  8.3
                ],
                [
                  6,
                  8.16
                ],
                [
                  5.5,
                  8.03
                ],
                [
                  8,
                  9.3
                ],
                [
                  17.5,
                  18.3
                ],
                [
                  20,
                  21.8
                ],
                [
                  13.5,
                  20.05
                ],
                [
                  15,
                  16.8
                ],
                [
                  17.5,
                  25.26
                ],
                [
                  16,
                  21.55
                ],
                [
                  10.5,
                  18.81
                ],
                [
                  8.5,
                  9.3
                ],
                [
                  11,
                  14.16
                ],
                [
                  11,
                  14.76
                ],
                [
                  10.5,
                  12.3
                ],
                [
                  10,
                  11.3
                ],
                [
                  6,
                  7.3
                ],
                [
                  52,
                  65.29
                ],
                [
                  7,
                  11
                ],
                [
                  3.5,
                  5.3
                ],
                [
                  13,
                  19.86
                ],
                [
                  8.5,
                  10.3
                ],
                [
                  7.5,
                  8.3
                ],
                [
                  5,
                  6.8
                ],
                [
                  6.5,
                  7.3
                ],
                [
                  10.5,
                  14.1
                ],
                [
                  42.5,
                  43.3
                ],
                [
                  3,
                  4.3
                ],
                [
                  15,
                  16.8
                ],
                [
                  8.5,
                  9.3
                ],
                [
                  8,
                  9.8
                ],
                [
                  11.5,
                  15.96
                ],
                [
                  6,
                  9.55
                ],
                [
                  9.5,
                  13.05
                ],
                [
                  20.5,
                  32.55
                ],
                [
                  26,
                  26.88
                ],
                [
                  7.5,
                  13.81
                ],
                [
                  9.5,
                  10.3
                ],
                [
                  4.5,
                  5.8
                ],
                [
                  10.5,
                  13.56
                ],
                [
                  4.5,
                  6.3
                ],
                [
                  10,
                  10.8
                ],
                [
                  8,
                  9.8
                ],
                [
                  7,
                  9.96
                ],
                [
                  8.5,
                  12.09
                ],
                [
                  52.5,
                  53.3
                ],
                [
                  17.5,
                  21.05
                ],
                [
                  13.5,
                  16.3
                ],
                [
                  55.55,
                  61.97
                ],
                [
                  7.5,
                  10.56
                ],
                [
                  32,
                  49.15
                ],
                [
                  13.5,
                  17.16
                ],
                [
                  13,
                  19.86
                ],
                [
                  19.5,
                  20.3
                ],
                [
                  8,
                  8.8
                ],
                [
                  6,
                  11
                ],
                [
                  4,
                  9.8
                ],
                [
                  9.5,
                  11.3
                ],
                [
                  5.5,
                  6.8
                ],
                [
                  13.5,
                  20.46
                ],
                [
                  14,
                  20.05
                ],
                [
                  7,
                  8.76
                ],
                [
                  11,
                  18.19
                ],
                [
                  13.5,
                  17
                ],
                [
                  6.5,
                  7.8
                ],
                [
                  7.5,
                  11.62
                ],
                [
                  6.5,
                  7.3
                ],
                [
                  14.5,
                  21.66
                ],
                [
                  7.5,
                  9.3
                ],
                [
                  7,
                  7.8
                ],
                [
                  4.5,
                  5.3
                ],
                [
                  7,
                  8.8
                ],
                [
                  16,
                  23.46
                ],
                [
                  16,
                  24.44
                ],
                [
                  47,
                  47.8
                ],
                [
                  12.5,
                  16.05
                ],
                [
                  8.5,
                  10.3
                ],
                [
                  8.5,
                  9.3
                ],
                [
                  8.5,
                  10.3
                ],
                [
                  8.5,
                  9.3
                ],
                [
                  9,
                  15.06
                ],
                [
                  5.5,
                  6.3
                ],
                [
                  4.5,
                  10
                ],
                [
                  7,
                  8.3
                ],
                [
                  5.5,
                  6.8
                ],
                [
                  15,
                  15.8
                ],
                [
                  6.5,
                  8.3
                ],
                [
                  37.5,
                  38.8
                ],
                [
                  7.5,
                  11.16
                ],
                [
                  92,
                  99.42
                ],
                [
                  79.5,
                  86.85
                ],
                [
                  18.5,
                  26.46
                ],
                [
                  13,
                  19.86
                ],
                [
                  34.5,
                  45.66
                ],
                [
                  11,
                  14.16
                ],
                [
                  32,
                  41
                ],
                [
                  8,
                  8.8
                ],
                [
                  14,
                  21.06
                ],
                [
                  9.5,
                  11.8
                ],
                [
                  7,
                  7.8
                ],
                [
                  0,
                  6.55
                ],
                [
                  24.5,
                  36.63
                ],
                [
                  13,
                  14.8
                ],
                [
                  11.5,
                  19.25
                ],
                [
                  7,
                  7.8
                ],
                [
                  8.5,
                  10.3
                ],
                [
                  7,
                  10.56
                ],
                [
                  11,
                  14.16
                ],
                [
                  30.5,
                  31.3
                ],
                [
                  30,
                  38.16
                ],
                [
                  11.5,
                  15.96
                ],
                [
                  10.5,
                  13.56
                ],
                [
                  21.5,
                  28.85
                ],
                [
                  5.5,
                  8.76
                ],
                [
                  4.5,
                  14.8
                ],
                [
                  35.5,
                  45.38
                ],
                [
                  11.5,
                  12.3
                ],
                [
                  8.5,
                  9.3
                ],
                [
                  14,
                  19.3
                ],
                [
                  6.5,
                  12.05
                ],
                [
                  9,
                  11.76
                ],
                [
                  8.5,
                  9.3
                ],
                [
                  10,
                  12.96
                ],
                [
                  17,
                  23.79
                ],
                [
                  7.5,
                  11.62
                ],
                [
                  6,
                  8.5
                ],
                [
                  7.5,
                  12.05
                ],
                [
                  -3,
                  -3.8
                ],
                [
                  9.5,
                  12.88
                ],
                [
                  5.5,
                  6.8
                ],
                [
                  8.5,
                  10.3
                ],
                [
                  6,
                  6.8
                ],
                [
                  14,
                  22.26
                ],
                [
                  7.5,
                  11.15
                ],
                [
                  9,
                  9.8
                ],
                [
                  54,
                  71.89
                ],
                [
                  16.5,
                  19.9
                ],
                [
                  20,
                  24.05
                ],
                [
                  15,
                  15.8
                ],
                [
                  7.5,
                  10
                ],
                [
                  6.5,
                  7.3
                ],
                [
                  10,
                  12.96
                ],
                [
                  52,
                  52.8
                ],
                [
                  5.5,
                  6.8
                ],
                [
                  22,
                  25.8
                ],
                [
                  6,
                  9.55
                ],
                [
                  5,
                  6.96
                ],
                [
                  10.5,
                  14.69
                ],
                [
                  5.5,
                  10.15
                ],
                [
                  8,
                  10.8
                ],
                [
                  7,
                  7.8
                ],
                [
                  18,
                  19.8
                ],
                [
                  22,
                  23.8
                ],
                [
                  6.5,
                  13.26
                ],
                [
                  7,
                  8.3
                ],
                [
                  15.5,
                  16.3
                ],
                [
                  65,
                  66.3
                ],
                [
                  10.5,
                  11.3
                ],
                [
                  6,
                  6.8
                ],
                [
                  15.5,
                  16.3
                ],
                [
                  8,
                  9.8
                ],
                [
                  14.5,
                  19.55
                ],
                [
                  11.5,
                  17.3
                ],
                [
                  11.5,
                  13.8
                ],
                [
                  7.5,
                  8.3
                ],
                [
                  43,
                  44.8
                ],
                [
                  7.5,
                  9.96
                ],
                [
                  10,
                  12.96
                ],
                [
                  10.5,
                  13.3
                ],
                [
                  31.5,
                  32.8
                ],
                [
                  77,
                  84.35
                ],
                [
                  52,
                  64.35
                ],
                [
                  14.5,
                  16.3
                ],
                [
                  23,
                  26.55
                ],
                [
                  6.5,
                  12.56
                ],
                [
                  14,
                  21.06
                ],
                [
                  7,
                  9.36
                ],
                [
                  15,
                  20.16
                ],
                [
                  12.5,
                  15.96
                ],
                [
                  5,
                  5.8
                ],
                [
                  7.5,
                  8.8
                ],
                [
                  8,
                  8.8
                ],
                [
                  33.5,
                  34.8
                ],
                [
                  59.5,
                  60.3
                ],
                [
                  6,
                  12.66
                ],
                [
                  23.5,
                  25.3
                ],
                [
                  11.5,
                  12.8
                ],
                [
                  8,
                  12.09
                ],
                [
                  34,
                  41.35
                ],
                [
                  17.5,
                  19.3
                ],
                [
                  8,
                  9.3
                ],
                [
                  11,
                  18.19
                ],
                [
                  20.5,
                  24.05
                ],
                [
                  9,
                  12.74
                ],
                [
                  12,
                  16
                ],
                [
                  6,
                  6.8
                ],
                [
                  8.5,
                  11.16
                ],
                [
                  10,
                  13.3
                ],
                [
                  8.5,
                  9.3
                ],
                [
                  7,
                  11.44
                ],
                [
                  6,
                  10.14
                ],
                [
                  11,
                  15.35
                ],
                [
                  6,
                  8.8
                ],
                [
                  12.5,
                  13.3
                ],
                [
                  8,
                  11.8
                ],
                [
                  4.5,
                  5.3
                ],
                [
                  9,
                  10.78
                ],
                [
                  51,
                  58.35
                ],
                [
                  8.5,
                  12.25
                ],
                [
                  31,
                  38.35
                ],
                [
                  7.5,
                  8.8
                ],
                [
                  14,
                  17.55
                ],
                [
                  20,
                  32.82
                ],
                [
                  24.5,
                  33.66
                ],
                [
                  9,
                  11.88
                ],
                [
                  5.5,
                  7.56
                ],
                [
                  5.5,
                  10.05
                ],
                [
                  10,
                  15.58
                ],
                [
                  83.5,
                  90.85
                ],
                [
                  14.5,
                  20.3
                ],
                [
                  6,
                  8.76
                ],
                [
                  5,
                  7.25
                ],
                [
                  13.5,
                  17.55
                ],
                [
                  7,
                  7.8
                ],
                [
                  55.5,
                  56.3
                ],
                [
                  10.5,
                  16.86
                ],
                [
                  2.5,
                  3.3
                ],
                [
                  13,
                  17.55
                ],
                [
                  47,
                  52
                ],
                [
                  7,
                  9.75
                ],
                [
                  12,
                  12.8
                ],
                [
                  13.5,
                  15.3
                ],
                [
                  5,
                  5.8
                ],
                [
                  5,
                  8.16
                ],
                [
                  29,
                  32.55
                ],
                [
                  49.5,
                  50.3
                ],
                [
                  9.5,
                  10.8
                ],
                [
                  25,
                  25.8
                ],
                [
                  23,
                  23.8
                ],
                [
                  4.5,
                  6.89
                ],
                [
                  19.5,
                  26
                ],
                [
                  8,
                  8.8
                ],
                [
                  4.5,
                  5.8
                ],
                [
                  9,
                  9.8
                ],
                [
                  11,
                  14.16
                ],
                [
                  17,
                  21.05
                ],
                [
                  8,
                  9.3
                ],
                [
                  9.5,
                  13.3
                ],
                [
                  8,
                  9.8
                ],
                [
                  11,
                  11.3
                ],
                [
                  63,
                  70.35
                ],
                [
                  8.5,
                  10.3
                ],
                [
                  7,
                  7.8
                ],
                [
                  4.5,
                  6.3
                ],
                [
                  12.5,
                  13.3
                ],
                [
                  17.5,
                  23.15
                ],
                [
                  7.5,
                  8.3
                ],
                [
                  22,
                  25.55
                ],
                [
                  20,
                  23.55
                ],
                [
                  8.5,
                  11
                ],
                [
                  14.5,
                  16.3
                ],
                [
                  0.01,
                  0.31
                ],
                [
                  19,
                  27.06
                ],
                [
                  11,
                  11.8
                ],
                [
                  7,
                  12.55
                ],
                [
                  41,
                  41.8
                ],
                [
                  5.5,
                  9.05
                ],
                [
                  10.5,
                  11.8
                ],
                [
                  64,
                  64.8
                ],
                [
                  5.5,
                  6.3
                ],
                [
                  11.5,
                  15.55
                ],
                [
                  5,
                  6.38
                ],
                [
                  36,
                  43.35
                ],
                [
                  29,
                  32.55
                ],
                [
                  16,
                  16.8
                ],
                [
                  7,
                  9.75
                ],
                [
                  5,
                  7.25
                ],
                [
                  17.5,
                  19.3
                ],
                [
                  13.5,
                  14.3
                ],
                [
                  27.5,
                  29.3
                ],
                [
                  21.5,
                  22.8
                ],
                [
                  13.5,
                  15.3
                ],
                [
                  21.5,
                  25.05
                ],
                [
                  4.5,
                  5.3
                ],
                [
                  6.5,
                  7.3
                ],
                [
                  16,
                  16.8
                ],
                [
                  8,
                  8.8
                ],
                [
                  8.5,
                  9.8
                ],
                [
                  11,
                  15.55
                ],
                [
                  8,
                  12.8
                ],
                [
                  11.5,
                  18.05
                ],
                [
                  4,
                  6.24
                ],
                [
                  11,
                  12.3
                ],
                [
                  15,
                  15.8
                ],
                [
                  29.5,
                  34.3
                ],
                [
                  8.5,
                  9.3
                ],
                [
                  29,
                  29.8
                ],
                [
                  7,
                  7.8
                ],
                [
                  8.5,
                  11.16
                ],
                [
                  29.5,
                  30.3
                ],
                [
                  6.5,
                  7.3
                ],
                [
                  6.5,
                  7.8
                ],
                [
                  9,
                  12.3
                ],
                [
                  6.5,
                  7.8
                ],
                [
                  9,
                  10.3
                ],
                [
                  10,
                  14.05
                ],
                [
                  30,
                  40.26
                ],
                [
                  14.5,
                  20.38
                ],
                [
                  12,
                  12.8
                ],
                [
                  16.5,
                  25.26
                ],
                [
                  16,
                  17.8
                ],
                [
                  20.5,
                  28.86
                ],
                [
                  5,
                  6.96
                ],
                [
                  10.5,
                  12.3
                ],
                [
                  6.5,
                  13.26
                ],
                [
                  18,
                  19.3
                ],
                [
                  3.5,
                  5.8
                ],
                [
                  9,
                  10.3
                ],
                [
                  18,
                  25.86
                ],
                [
                  9.5,
                  16.05
                ],
                [
                  6.5,
                  9.36
                ],
                [
                  13,
                  15
                ],
                [
                  14,
                  15.8
                ],
                [
                  34.91,
                  50.91
                ],
                [
                  8,
                  11.16
                ],
                [
                  40.5,
                  58.55
                ],
                [
                  21,
                  25.55
                ],
                [
                  10.5,
                  11.3
                ],
                [
                  15.5,
                  21.05
                ],
                [
                  16,
                  23.46
                ],
                [
                  12,
                  27.8
                ],
                [
                  21,
                  24.55
                ],
                [
                  -2.5,
                  -4.3
                ],
                [
                  24,
                  27.55
                ],
                [
                  18,
                  25.86
                ],
                [
                  52,
                  58.92
                ],
                [
                  6,
                  7.8
                ],
                [
                  10,
                  13.56
                ],
                [
                  9,
                  12.96
                ],
                [
                  7.5,
                  9.3
                ],
                [
                  17.5,
                  18.3
                ],
                [
                  16.5,
                  21.35
                ],
                [
                  40.5,
                  42.3
                ],
                [
                  13,
                  17.25
                ],
                [
                  21,
                  33.35
                ],
                [
                  44.5,
                  45.3
                ],
                [
                  10,
                  18.19
                ],
                [
                  10,
                  16.94
                ],
                [
                  69,
                  76.35
                ],
                [
                  4,
                  6.36
                ],
                [
                  5,
                  5.8
                ],
                [
                  11,
                  11.3
                ],
                [
                  8.5,
                  9.8
                ],
                [
                  8.5,
                  10.3
                ],
                [
                  12,
                  13.8
                ],
                [
                  8.5,
                  12.09
                ],
                [
                  13.5,
                  15.3
                ],
                [
                  18,
                  19.3
                ],
                [
                  6.5,
                  8.3
                ],
                [
                  9.5,
                  12.36
                ],
                [
                  89,
                  99.17
                ],
                [
                  11,
                  12.3
                ],
                [
                  9.5,
                  10.3
                ],
                [
                  59.5,
                  72.36
                ],
                [
                  6.5,
                  7.3
                ],
                [
                  30.5,
                  40.18
                ],
                [
                  16.5,
                  24.06
                ],
                [
                  65.5,
                  73.85
                ],
                [
                  10.5,
                  16.86
                ],
                [
                  7,
                  10.56
                ],
                [
                  10.5,
                  14.16
                ],
                [
                  11.5,
                  17.31
                ],
                [
                  7.5,
                  8.8
                ],
                [
                  7,
                  7.8
                ],
                [
                  14,
                  21.33
                ],
                [
                  5,
                  6.8
                ],
                [
                  8.5,
                  11.16
                ],
                [
                  11.5,
                  17.65
                ],
                [
                  7,
                  10.14
                ],
                [
                  7,
                  7.8
                ],
                [
                  10.5,
                  12.3
                ],
                [
                  10.5,
                  11.3
                ],
                [
                  3.5,
                  4.3
                ],
                [
                  10,
                  10.8
                ],
                [
                  8.5,
                  9.3
                ],
                [
                  10,
                  13.05
                ],
                [
                  10,
                  10.8
                ],
                [
                  6.5,
                  7.3
                ],
                [
                  9.5,
                  12.96
                ],
                [
                  50,
                  50.8
                ],
                [
                  6,
                  7.82
                ],
                [
                  17.5,
                  23.5
                ],
                [
                  6.5,
                  7.3
                ],
                [
                  6,
                  6.81
                ],
                [
                  12.5,
                  13.3
                ],
                [
                  22,
                  30.66
                ],
                [
                  8.5,
                  9.3
                ],
                [
                  12.5,
                  19.26
                ],
                [
                  10,
                  12.96
                ],
                [
                  15,
                  22.26
                ],
                [
                  19.5,
                  20.3
                ],
                [
                  8,
                  8.8
                ],
                [
                  8.5,
                  10.23
                ],
                [
                  7.5,
                  8.8
                ],
                [
                  41,
                  41.8
                ],
                [
                  3,
                  4.3
                ],
                [
                  17.5,
                  25.26
                ],
                [
                  26,
                  27.8
                ],
                [
                  11,
                  17.46
                ],
                [
                  7.5,
                  13.26
                ],
                [
                  68,
                  76.35
                ],
                [
                  4,
                  5.3
                ],
                [
                  11.5,
                  18.81
                ],
                [
                  12,
                  12.8
                ],
                [
                  3.5,
                  6.36
                ],
                [
                  7,
                  7.8
                ],
                [
                  40,
                  48.36
                ],
                [
                  3.5,
                  4.3
                ],
                [
                  5,
                  5.8
                ],
                [
                  4.5,
                  5.3
                ],
                [
                  7,
                  7.3
                ],
                [
                  7.5,
                  10.56
                ],
                [
                  4,
                  5.3
                ],
                [
                  3.5,
                  4.3
                ],
                [
                  8.5,
                  9.3
                ],
                [
                  23.5,
                  44.3
                ],
                [
                  9,
                  13.39
                ],
                [
                  22,
                  23.8
                ],
                [
                  8,
                  8.8
                ],
                [
                  8.5,
                  14.1
                ],
                [
                  36.5,
                  43.85
                ],
                [
                  7,
                  8.8
                ],
                [
                  14,
                  19.24
                ],
                [
                  5.5,
                  6.3
                ],
                [
                  13.5,
                  20.46
                ],
                [
                  3.5,
                  5.3
                ],
                [
                  7,
                  12.66
                ],
                [
                  8,
                  8.8
                ],
                [
                  9.5,
                  13.05
                ],
                [
                  40.5,
                  42.3
                ],
                [
                  8,
                  11.6
                ],
                [
                  40.5,
                  49.05
                ],
                [
                  8.5,
                  15.06
                ],
                [
                  11,
                  11.8
                ],
                [
                  9.5,
                  10.38
                ],
                [
                  21,
                  26.16
                ],
                [
                  6.5,
                  8.8
                ],
                [
                  13,
                  21.94
                ],
                [
                  6.5,
                  10.05
                ],
                [
                  17,
                  23.5
                ],
                [
                  11.5,
                  17.05
                ],
                [
                  8.5,
                  9.8
                ],
                [
                  9.5,
                  16.31
                ],
                [
                  15.5,
                  19.56
                ],
                [
                  19,
                  27.06
                ],
                [
                  13.5,
                  15.3
                ],
                [
                  111.5,
                  134.54
                ],
                [
                  44,
                  51.85
                ],
                [
                  12,
                  14.88
                ],
                [
                  10.5,
                  11.3
                ],
                [
                  7.5,
                  9.96
                ],
                [
                  20.5,
                  28.86
                ],
                [
                  37,
                  40.55
                ],
                [
                  12,
                  12.8
                ],
                [
                  5.5,
                  12.56
                ],
                [
                  14,
                  14.8
                ],
                [
                  69.5,
                  76.92
                ],
                [
                  22.5,
                  23.3
                ],
                [
                  10.5,
                  13.3
                ],
                [
                  9.5,
                  12.88
                ],
                [
                  9.5,
                  12.36
                ],
                [
                  7.5,
                  14.46
                ],
                [
                  64,
                  71.35
                ],
                [
                  7,
                  10.38
                ],
                [
                  16.5,
                  20.05
                ],
                [
                  32,
                  32.8
                ],
                [
                  7.5,
                  10.3
                ],
                [
                  15.5,
                  22.86
                ],
                [
                  36.5,
                  43.86
                ],
                [
                  5,
                  6.96
                ],
                [
                  32,
                  42.64
                ],
                [
                  8,
                  10.56
                ],
                [
                  33,
                  37.55
                ],
                [
                  7,
                  13.71
                ],
                [
                  10,
                  10.8
                ],
                [
                  9.5,
                  10.3
                ],
                [
                  7.5,
                  10.56
                ],
                [
                  29.5,
                  33.8
                ],
                [
                  22.5,
                  26.3
                ],
                [
                  13,
                  20.69
                ],
                [
                  37.5,
                  39.3
                ],
                [
                  25.5,
                  29.05
                ],
                [
                  9,
                  10.8
                ],
                [
                  7,
                  7.8
                ],
                [
                  11,
                  14.8
                ],
                [
                  31.5,
                  32.8
                ],
                [
                  7,
                  11.05
                ],
                [
                  4,
                  5.8
                ],
                [
                  14,
                  15.8
                ],
                [
                  4.5,
                  6.3
                ],
                [
                  4,
                  4.8
                ],
                [
                  9.5,
                  11.84
                ],
                [
                  5,
                  11.3
                ],
                [
                  5,
                  5.8
                ],
                [
                  24.5,
                  26.3
                ],
                [
                  5,
                  6.3
                ],
                [
                  4.5,
                  5.3
                ],
                [
                  16.5,
                  24.06
                ],
                [
                  12.5,
                  19.25
                ],
                [
                  7.5,
                  8.3
                ],
                [
                  16.5,
                  18.3
                ],
                [
                  7,
                  8.3
                ],
                [
                  9,
                  9.8
                ],
                [
                  5.5,
                  6.3
                ],
                [
                  26.5,
                  30.3
                ],
                [
                  11,
                  18.05
                ],
                [
                  6,
                  6.8
                ],
                [
                  39.5,
                  40.3
                ],
                [
                  7.5,
                  15.01
                ],
                [
                  14,
                  17.76
                ],
                [
                  8,
                  8.8
                ],
                [
                  13.5,
                  17.88
                ],
                [
                  76.5,
                  77.3
                ],
                [
                  7.5,
                  11.16
                ],
                [
                  17,
                  17.3
                ],
                [
                  14,
                  21.05
                ],
                [
                  31.5,
                  38.76
                ],
                [
                  5,
                  7.56
                ],
                [
                  12,
                  19.13
                ],
                [
                  11.5,
                  18.06
                ],
                [
                  13,
                  16.56
                ],
                [
                  5.5,
                  7.3
                ],
                [
                  6.5,
                  9.49
                ],
                [
                  15,
                  15.3
                ],
                [
                  14.5,
                  18.05
                ],
                [
                  17,
                  17.8
                ],
                [
                  7,
                  7.8
                ],
                [
                  47,
                  54.92
                ],
                [
                  16.5,
                  17.8
                ],
                [
                  10,
                  13.8
                ],
                [
                  7,
                  10.1
                ],
                [
                  7.5,
                  11.05
                ],
                [
                  7.5,
                  11.62
                ],
                [
                  30,
                  36.36
                ],
                [
                  11,
                  14.76
                ],
                [
                  27.5,
                  36.05
                ],
                [
                  6.5,
                  8.4
                ],
                [
                  9.5,
                  12.36
                ],
                [
                  7,
                  7.8
                ],
                [
                  53.5,
                  60.05
                ],
                [
                  9.5,
                  10.3
                ],
                [
                  7,
                  7.8
                ],
                [
                  5,
                  6.67
                ],
                [
                  7,
                  8.8
                ],
                [
                  8.5,
                  9.3
                ],
                [
                  70,
                  84.36
                ],
                [
                  11,
                  12.8
                ],
                [
                  6.5,
                  8.75
                ],
                [
                  4,
                  4.8
                ],
                [
                  23,
                  23.8
                ],
                [
                  38.5,
                  45.42
                ],
                [
                  25.5,
                  33.35
                ],
                [
                  10,
                  12.96
                ],
                [
                  17,
                  22.88
                ],
                [
                  2.5,
                  3.3
                ],
                [
                  26,
                  36.9
                ],
                [
                  14.5,
                  15.8
                ],
                [
                  5,
                  7.25
                ],
                [
                  14.5,
                  19.05
                ],
                [
                  10,
                  10.8
                ],
                [
                  6.5,
                  7.3
                ],
                [
                  15.5,
                  17.3
                ],
                [
                  15.5,
                  19.56
                ],
                [
                  22.5,
                  24.3
                ],
                [
                  6,
                  8.16
                ],
                [
                  8,
                  11.55
                ],
                [
                  17,
                  17.8
                ],
                [
                  6,
                  6.8
                ],
                [
                  7,
                  8.8
                ],
                [
                  5.5,
                  8.16
                ],
                [
                  6.5,
                  9.49
                ],
                [
                  24.5,
                  26.3
                ],
                [
                  21.5,
                  31.3
                ],
                [
                  9,
                  9.8
                ],
                [
                  34,
                  41.76
                ],
                [
                  20.5,
                  28.86
                ],
                [
                  7,
                  9.8
                ],
                [
                  9,
                  9.8
                ],
                [
                  12,
                  15.55
                ],
                [
                  16.5,
                  24.06
                ],
                [
                  19.5,
                  28.86
                ],
                [
                  9,
                  9.8
                ],
                [
                  7,
                  12.8
                ],
                [
                  11.5,
                  18.66
                ],
                [
                  61.5,
                  68.85
                ],
                [
                  6,
                  7.8
                ],
                [
                  11,
                  11.8
                ],
                [
                  12.5,
                  16.56
                ],
                [
                  9,
                  10.3
                ],
                [
                  11,
                  14.16
                ],
                [
                  5,
                  6.84
                ],
                [
                  69,
                  82.9
                ],
                [
                  6,
                  7.8
                ],
                [
                  8,
                  8.8
                ],
                [
                  5,
                  5.8
                ],
                [
                  20.5,
                  30.06
                ],
                [
                  9,
                  10.8
                ],
                [
                  5.5,
                  7.3
                ],
                [
                  9,
                  14.04
                ],
                [
                  5.5,
                  12.05
                ],
                [
                  49,
                  56.35
                ],
                [
                  6,
                  8.8
                ],
                [
                  7.5,
                  8.3
                ],
                [
                  11.5,
                  16.64
                ],
                [
                  7,
                  7.8
                ],
                [
                  14.5,
                  18.96
                ],
                [
                  10,
                  10.8
                ],
                [
                  16.5,
                  20.76
                ],
                [
                  25,
                  25.3
                ],
                [
                  10.5,
                  12.38
                ],
                [
                  26.5,
                  40.37
                ],
                [
                  21,
                  29.55
                ],
                [
                  10,
                  13.55
                ],
                [
                  25.5,
                  36.31
                ],
                [
                  51,
                  59.35
                ],
                [
                  23.5,
                  29.05
                ],
                [
                  11,
                  12.3
                ],
                [
                  10,
                  10.8
                ],
                [
                  12.5,
                  17.29
                ],
                [
                  6.5,
                  9.36
                ],
                [
                  9,
                  11.76
                ],
                [
                  15,
                  16.8
                ],
                [
                  11.5,
                  12.3
                ],
                [
                  50,
                  50.3
                ],
                [
                  7.5,
                  13.8
                ],
                [
                  17,
                  17.8
                ],
                [
                  5,
                  5.8
                ],
                [
                  12,
                  19.55
                ],
                [
                  4.5,
                  5.8
                ],
                [
                  16,
                  19.55
                ],
                [
                  7.5,
                  13.26
                ],
                [
                  -3,
                  -3.8
                ],
                [
                  12.5,
                  19.26
                ],
                [
                  15.5,
                  22.86
                ],
                [
                  20,
                  26.16
                ],
                [
                  6,
                  7.8
                ],
                [
                  6.5,
                  9.12
                ],
                [
                  4.5,
                  6.36
                ],
                [
                  8,
                  9.8
                ],
                [
                  2.5,
                  3.3
                ],
                [
                  58.5,
                  63.05
                ],
                [
                  7.5,
                  8.3
                ],
                [
                  12,
                  16.55
                ],
                [
                  8,
                  8.8
                ],
                [
                  5.5,
                  6.3
                ],
                [
                  7.5,
                  9.3
                ],
                [
                  8.5,
                  12.3
                ],
                [
                  9,
                  9.8
                ],
                [
                  93,
                  101.35
                ],
                [
                  11.4,
                  16.02
                ],
                [
                  6,
                  7
                ],
                [
                  -3,
                  -4.3
                ],
                [
                  9,
                  12.96
                ],
                [
                  4.5,
                  6.36
                ],
                [
                  6,
                  6.8
                ],
                [
                  10.5,
                  12.3
                ],
                [
                  5.5,
                  10.05
                ],
                [
                  16,
                  16.8
                ],
                [
                  57,
                  58.8
                ],
                [
                  18,
                  22.05
                ],
                [
                  9.5,
                  12.42
                ],
                [
                  45,
                  48.25
                ],
                [
                  8.5,
                  12.36
                ],
                [
                  20.5,
                  21.3
                ],
                [
                  6.5,
                  13.19
                ],
                [
                  11.5,
                  12.3
                ],
                [
                  28.5,
                  41.67
                ],
                [
                  18,
                  22.56
                ],
                [
                  6.5,
                  7.3
                ],
                [
                  20,
                  20
                ],
                [
                  63.5,
                  65.3
                ],
                [
                  10.5,
                  16.05
                ],
                [
                  23.5,
                  24.3
                ],
                [
                  8.5,
                  9.8
                ],
                [
                  7,
                  10.56
                ],
                [
                  4.5,
                  5.3
                ],
                [
                  18,
                  18.8
                ],
                [
                  21,
                  21.8
                ],
                [
                  15,
                  22.26
                ],
                [
                  22,
                  24.8
                ],
                [
                  11,
                  11.8
                ],
                [
                  65.5,
                  72.42
                ],
                [
                  7,
                  10.56
                ],
                [
                  12.5,
                  18.55
                ],
                [
                  10.5,
                  14.12
                ],
                [
                  10.5,
                  11.3
                ],
                [
                  9.5,
                  16.26
                ],
                [
                  10.5,
                  11.3
                ],
                [
                  7,
                  7.8
                ],
                [
                  38.5,
                  51.05
                ],
                [
                  5,
                  5.8
                ],
                [
                  46.5,
                  69.12
                ],
                [
                  32.5,
                  43.25
                ],
                [
                  9,
                  11.76
                ],
                [
                  6.5,
                  7.3
                ],
                [
                  7.5,
                  10.38
                ],
                [
                  15,
                  18.55
                ],
                [
                  71,
                  78.85
                ],
                [
                  6.5,
                  8.76
                ],
                [
                  10.5,
                  11.3
                ],
                [
                  11.5,
                  18.81
                ],
                [
                  12.5,
                  17.15
                ],
                [
                  25,
                  25.3
                ],
                [
                  8,
                  12.05
                ],
                [
                  6.5,
                  8.76
                ],
                [
                  5,
                  6.96
                ],
                [
                  9.5,
                  16.26
                ],
                [
                  11.5,
                  12.3
                ],
                [
                  10.5,
                  17.56
                ],
                [
                  25.5,
                  26.3
                ],
                [
                  14,
                  15.3
                ],
                [
                  11.5,
                  18.66
                ],
                [
                  5.5,
                  6.3
                ],
                [
                  7,
                  8.8
                ],
                [
                  8.5,
                  12.05
                ],
                [
                  18,
                  18.3
                ],
                [
                  10.5,
                  11.3
                ],
                [
                  20,
                  23.55
                ],
                [
                  4.5,
                  6.96
                ],
                [
                  7.5,
                  8.3
                ],
                [
                  4.5,
                  8.19
                ],
                [
                  8,
                  9.3
                ],
                [
                  14,
                  14.3
                ],
                [
                  14.5,
                  17.93
                ],
                [
                  6.5,
                  8.76
                ],
                [
                  5.5,
                  6.3
                ],
                [
                  5,
                  9.05
                ],
                [
                  5,
                  5.8
                ],
                [
                  25,
                  34.86
                ],
                [
                  14,
                  20.55
                ],
                [
                  9.5,
                  10.3
                ],
                [
                  11.5,
                  15.96
                ],
                [
                  10,
                  10.8
                ],
                [
                  8,
                  8.8
                ],
                [
                  14,
                  15.8
                ],
                [
                  23.5,
                  30
                ],
                [
                  6.5,
                  7.3
                ],
                [
                  7.5,
                  9.95
                ],
                [
                  86,
                  99.05
                ],
                [
                  9,
                  10.8
                ],
                [
                  15.5,
                  16.3
                ],
                [
                  7.5,
                  9.96
                ],
                [
                  5.5,
                  12.05
                ],
                [
                  8,
                  8.8
                ],
                [
                  56.5,
                  57.3
                ],
                [
                  14,
                  15.8
                ],
                [
                  7,
                  13.26
                ],
                [
                  17.5,
                  21.05
                ],
                [
                  7,
                  7.8
                ],
                [
                  21,
                  27.8
                ],
                [
                  12.5,
                  16.55
                ],
                [
                  36,
                  49.44
                ],
                [
                  4.5,
                  7.54
                ],
                [
                  9,
                  15.66
                ],
                [
                  6,
                  9.8
                ],
                [
                  13,
                  15.46
                ],
                [
                  8,
                  13.55
                ],
                [
                  6.5,
                  7.3
                ],
                [
                  9,
                  9.8
                ],
                [
                  7,
                  9.36
                ],
                [
                  11.5,
                  12.3
                ],
                [
                  40,
                  41.3
                ],
                [
                  58,
                  70.56
                ],
                [
                  7,
                  9.75
                ],
                [
                  12.5,
                  16.05
                ],
                [
                  6.5,
                  7.8
                ],
                [
                  6,
                  8.15
                ],
                [
                  12.5,
                  13.3
                ],
                [
                  6,
                  7.8
                ],
                [
                  23,
                  31.86
                ],
                [
                  4,
                  5.8
                ],
                [
                  8.5,
                  10.8
                ],
                [
                  5.5,
                  8.76
                ],
                [
                  23.5,
                  25.3
                ],
                [
                  8,
                  8.8
                ],
                [
                  9,
                  15.05
                ],
                [
                  18.5,
                  19.3
                ],
                [
                  3.5,
                  4.3
                ],
                [
                  61.5,
                  68.85
                ],
                [
                  7.5,
                  8.3
                ],
                [
                  12,
                  15.55
                ],
                [
                  8,
                  9.8
                ],
                [
                  10,
                  10.8
                ],
                [
                  19,
                  27.06
                ],
                [
                  15.5,
                  17.3
                ],
                [
                  4.5,
                  6.3
                ],
                [
                  15.5,
                  16.8
                ],
                [
                  5.5,
                  10.86
                ],
                [
                  0,
                  6.55
                ],
                [
                  6,
                  6.8
                ],
                [
                  23,
                  26.55
                ],
                [
                  58,
                  58.8
                ],
                [
                  5.5,
                  6.3
                ],
                [
                  9.5,
                  12.36
                ],
                [
                  7.5,
                  8.3
                ],
                [
                  5,
                  8.15
                ],
                [
                  16.5,
                  18.3
                ],
                [
                  8,
                  11
                ],
                [
                  10.5,
                  14.75
                ],
                [
                  14,
                  15.38
                ],
                [
                  5.5,
                  7.56
                ],
                [
                  36.3,
                  36.6
                ],
                [
                  7.5,
                  13.86
                ],
                [
                  16,
                  23.46
                ],
                [
                  27,
                  27.3
                ],
                [
                  -2.5,
                  -3.8
                ],
                [
                  11,
                  14.16
                ],
                [
                  14.5,
                  15.3
                ],
                [
                  32,
                  39.36
                ],
                [
                  27.5,
                  37.26
                ],
                [
                  6,
                  9.05
                ],
                [
                  14,
                  15.8
                ],
                [
                  10,
                  10.3
                ],
                [
                  13,
                  16.55
                ],
                [
                  6.5,
                  12.56
                ],
                [
                  19.5,
                  27.05
                ],
                [
                  13,
                  16.56
                ],
                [
                  16,
                  21
                ],
                [
                  37,
                  37.8
                ],
                [
                  12.5,
                  20.06
                ],
                [
                  12,
                  19.26
                ],
                [
                  8.5,
                  9.8
                ],
                [
                  9.5,
                  11.3
                ],
                [
                  9.5,
                  11.3
                ],
                [
                  11.5,
                  15.99
                ],
                [
                  14,
                  21.06
                ],
                [
                  26.5,
                  33.05
                ],
                [
                  10.5,
                  11.3
                ],
                [
                  12,
                  15.96
                ],
                [
                  7,
                  8.8
                ],
                [
                  14.5,
                  21.91
                ],
                [
                  11,
                  11.8
                ],
                [
                  4,
                  5.76
                ],
                [
                  10,
                  10.8
                ],
                [
                  23,
                  30.38
                ],
                [
                  5.5,
                  6.8
                ],
                [
                  10.5,
                  11.8
                ],
                [
                  15.5,
                  19.05
                ],
                [
                  6,
                  8.5
                ],
                [
                  0,
                  0
                ],
                [
                  9.5,
                  10.3
                ],
                [
                  7,
                  9.36
                ],
                [
                  30.5,
                  31.3
                ],
                [
                  12.5,
                  17.05
                ],
                [
                  24.5,
                  33.66
                ],
                [
                  11,
                  14.16
                ],
                [
                  22,
                  30.66
                ],
                [
                  22.5,
                  26.55
                ],
                [
                  32,
                  32.8
                ],
                [
                  8,
                  8.8
                ],
                [
                  11,
                  13.8
                ],
                [
                  16,
                  16.8
                ],
                [
                  16,
                  16.8
                ],
                [
                  11,
                  16.64
                ],
                [
                  6,
                  10.8
                ],
                [
                  12.5,
                  15.96
                ],
                [
                  8.5,
                  11.3
                ],
                [
                  11,
                  17.46
                ],
                [
                  8.5,
                  12.36
                ],
                [
                  22,
                  25.55
                ],
                [
                  10,
                  12.96
                ],
                [
                  5,
                  5.8
                ],
                [
                  8,
                  12.25
                ],
                [
                  8,
                  10.56
                ],
                [
                  7,
                  12.66
                ],
                [
                  5,
                  5.8
                ],
                [
                  24,
                  35.81
                ],
                [
                  14.5,
                  21.05
                ],
                [
                  32.5,
                  43.26
                ],
                [
                  14.5,
                  23.47
                ],
                [
                  14.5,
                  19.05
                ],
                [
                  20,
                  21.8
                ],
                [
                  43.5,
                  54.35
                ],
                [
                  13.5,
                  15.3
                ],
                [
                  16,
                  18.8
                ],
                [
                  12.5,
                  13.3
                ],
                [
                  9,
                  10.3
                ],
                [
                  15,
                  16.8
                ],
                [
                  11.5,
                  12.3
                ],
                [
                  11.5,
                  15.96
                ],
                [
                  7.5,
                  9.5
                ],
                [
                  36,
                  37.8
                ],
                [
                  21,
                  26.16
                ],
                [
                  9.5,
                  10.3
                ],
                [
                  16.5,
                  26.07
                ],
                [
                  9,
                  10.8
                ],
                [
                  7.5,
                  11.16
                ],
                [
                  5.5,
                  7.3
                ],
                [
                  6,
                  9.12
                ],
                [
                  7,
                  8.8
                ],
                [
                  17.5,
                  26.46
                ],
                [
                  8.5,
                  10.3
                ],
                [
                  11,
                  16.55
                ],
                [
                  26.5,
                  34.56
                ],
                [
                  7.5,
                  8.3
                ],
                [
                  5,
                  5.8
                ],
                [
                  6,
                  8.5
                ],
                [
                  29.5,
                  36.85
                ],
                [
                  15.5,
                  17.3
                ],
                [
                  7.5,
                  8.3
                ],
                [
                  7,
                  7.8
                ],
                [
                  6.5,
                  8.76
                ],
                [
                  36.5,
                  37.3
                ],
                [
                  8.5,
                  11.16
                ],
                [
                  10,
                  12.96
                ]
              ]
            },
            "text/plain": "<Spark SQL result set with 1000 rows and 2 fields>"
          },
          "metadata": {}
        }
      ],
      "execution_count": 21,
      "metadata": {
        "jupyter": {
          "source_hidden": false,
          "outputs_hidden": true
        },
        "nteract": {
          "transient": {
            "deleting": false
          }
        },
        "microsoft": {
          "language": "sparksql"
        },
        "collapsed": false
      }
    },
    {
      "cell_type": "code",
      "source": [
        "%%sql\r\n",
        "SELECT TripDistance, TripDuration FROM TaxiTable ORDER BY TripDuration DESC LIMIT 10 ;\r\n",
        "-- top 5 longest trip"
      ],
      "outputs": [
        {
          "output_type": "display_data",
          "data": {
            "application/vnd.livy.statement-meta+json": {
              "spark_pool": "sparkpool",
              "statement_id": 23,
              "statement_ids": [
                23
              ],
              "livy_statement_state": "available",
              "spark_jobs": null,
              "session_id": "23",
              "state": "finished",
              "normalized_state": "finished",
              "queued_time": "2024-07-19T09:06:54.2526412Z",
              "session_start_time": null,
              "execution_start_time": "2024-07-19T09:10:52.0449668Z",
              "execution_finish_time": "2024-07-19T09:10:57.3277399Z",
              "parent_msg_id": "953b2d74-eaaa-4879-8c00-efbf7cc07325"
            },
            "text/plain": "StatementMeta(sparkpool, 23, 23, Finished, Available, Finished)"
          },
          "metadata": {}
        },
        {
          "output_type": "execute_result",
          "execution_count": 22,
          "data": {
            "application/vnd.synapse.sparksql-result+json": {
              "schema": {
                "type": "struct",
                "fields": [
                  {
                    "name": "TripDistance",
                    "type": "double",
                    "nullable": true,
                    "metadata": {}
                  },
                  {
                    "name": "TripDuration",
                    "type": "double",
                    "nullable": true,
                    "metadata": {}
                  }
                ]
              },
              "data": [
                [
                  4.2,
                  1439.85
                ],
                [
                  0.2,
                  1439.85
                ],
                [
                  4.39,
                  1439.77
                ],
                [
                  13.97,
                  1439.75
                ],
                [
                  17.64,
                  1439.72
                ],
                [
                  18.1,
                  1439.67
                ],
                [
                  0.98,
                  1439.65
                ],
                [
                  6.39,
                  1439.65
                ],
                [
                  1.89,
                  1439.62
                ],
                [
                  5.14,
                  1439.37
                ]
              ]
            },
            "text/plain": "<Spark SQL result set with 10 rows and 2 fields>"
          },
          "metadata": {}
        }
      ],
      "execution_count": 22,
      "metadata": {
        "jupyter": {
          "source_hidden": false,
          "outputs_hidden": false
        },
        "nteract": {
          "transient": {
            "deleting": false
          }
        },
        "microsoft": {
          "language": "sparksql"
        },
        "collapsed": false
      }
    },
    {
      "cell_type": "code",
      "source": [
        "%%sql \r\n",
        "SELECT PickUpLocation, COUNT(*) AS PickupCount\r\n",
        "FROM TaxiTable\r\n",
        "GROUP BY PickUpLocation\r\n",
        "ORDER BY PickupCount DESC\r\n",
        "LIMIT 5 ;\r\n",
        "\r\n",
        "-- top 5 pickup location"
      ],
      "outputs": [
        {
          "output_type": "display_data",
          "data": {
            "application/vnd.livy.statement-meta+json": {
              "spark_pool": "sparkpool",
              "statement_id": 24,
              "statement_ids": [
                24
              ],
              "livy_statement_state": "available",
              "spark_jobs": null,
              "session_id": "23",
              "state": "finished",
              "normalized_state": "finished",
              "queued_time": "2024-07-19T09:06:54.2539755Z",
              "session_start_time": null,
              "execution_start_time": "2024-07-19T09:10:57.4545017Z",
              "execution_finish_time": "2024-07-19T09:11:01.3942072Z",
              "parent_msg_id": "7e10875d-962b-4900-bf03-016a38b5d437"
            },
            "text/plain": "StatementMeta(sparkpool, 23, 24, Finished, Available, Finished)"
          },
          "metadata": {}
        },
        {
          "output_type": "execute_result",
          "execution_count": 23,
          "data": {
            "application/vnd.synapse.sparksql-result+json": {
              "schema": {
                "type": "struct",
                "fields": [
                  {
                    "name": "PickUpLocation",
                    "type": "integer",
                    "nullable": true,
                    "metadata": {}
                  },
                  {
                    "name": "PickupCount",
                    "type": "long",
                    "nullable": false,
                    "metadata": {}
                  }
                ]
              },
              "data": [
                [
                  74,
                  "97850"
                ],
                [
                  75,
                  "85465"
                ],
                [
                  41,
                  "51407"
                ],
                [
                  166,
                  "30517"
                ],
                [
                  42,
                  "28061"
                ]
              ]
            },
            "text/plain": "<Spark SQL result set with 5 rows and 2 fields>"
          },
          "metadata": {}
        }
      ],
      "execution_count": 23,
      "metadata": {
        "jupyter": {
          "source_hidden": false,
          "outputs_hidden": false
        },
        "nteract": {
          "transient": {
            "deleting": false
          }
        },
        "microsoft": {
          "language": "sparksql"
        },
        "collapsed": false
      }
    },
    {
      "cell_type": "code",
      "source": [
        "%%sql\r\n",
        "SELECT DropLocationID, COUNT(*) AS DropCount\r\n",
        "FROM TaxiTable\r\n",
        "GROUP BY DropLocationID\r\n",
        "ORDER BY DropCount DESC\r\n",
        "LIMIT 5;\r\n",
        "\r\n",
        "-- top 5 drop location"
      ],
      "outputs": [
        {
          "output_type": "display_data",
          "data": {
            "application/vnd.livy.statement-meta+json": {
              "spark_pool": "sparkpool",
              "statement_id": 25,
              "statement_ids": [
                25
              ],
              "livy_statement_state": "available",
              "spark_jobs": null,
              "session_id": "23",
              "state": "finished",
              "normalized_state": "finished",
              "queued_time": "2024-07-19T09:06:54.2552106Z",
              "session_start_time": null,
              "execution_start_time": "2024-07-19T09:11:01.5423287Z",
              "execution_finish_time": "2024-07-19T09:11:04.2971639Z",
              "parent_msg_id": "2bb07c6d-45a1-41a1-af33-329c3da45172"
            },
            "text/plain": "StatementMeta(sparkpool, 23, 25, Finished, Available, Finished)"
          },
          "metadata": {}
        },
        {
          "output_type": "execute_result",
          "execution_count": 24,
          "data": {
            "application/vnd.synapse.sparksql-result+json": {
              "schema": {
                "type": "struct",
                "fields": [
                  {
                    "name": "DropLocationID",
                    "type": "integer",
                    "nullable": true,
                    "metadata": {}
                  },
                  {
                    "name": "DropCount",
                    "type": "long",
                    "nullable": false,
                    "metadata": {}
                  }
                ]
              },
              "data": [
                [
                  74,
                  "37049"
                ],
                [
                  75,
                  "31870"
                ],
                [
                  42,
                  "28460"
                ],
                [
                  41,
                  "27183"
                ],
                [
                  236,
                  "19583"
                ]
              ]
            },
            "text/plain": "<Spark SQL result set with 5 rows and 2 fields>"
          },
          "metadata": {}
        }
      ],
      "execution_count": 24,
      "metadata": {
        "jupyter": {
          "source_hidden": false,
          "outputs_hidden": false
        },
        "nteract": {
          "transient": {
            "deleting": false
          }
        },
        "microsoft": {
          "language": "sparksql"
        },
        "collapsed": false
      }
    },
    {
      "cell_type": "code",
      "source": [
        "%%sql\r\n",
        "SELECT payment_type, COUNT(*) AS PaymentCount\r\n",
        "FROM TaxiTable\r\n",
        "GROUP BY payment_type;\r\n",
        "\r\n",
        "-- Payment Type vs Payment Count"
      ],
      "outputs": [
        {
          "output_type": "display_data",
          "data": {
            "application/vnd.livy.statement-meta+json": {
              "spark_pool": "sparkpool",
              "statement_id": 26,
              "statement_ids": [
                26
              ],
              "livy_statement_state": "available",
              "spark_jobs": null,
              "session_id": "23",
              "state": "finished",
              "normalized_state": "finished",
              "queued_time": "2024-07-19T09:06:54.2563649Z",
              "session_start_time": null,
              "execution_start_time": "2024-07-19T09:11:04.450887Z",
              "execution_finish_time": "2024-07-19T09:11:07.2240449Z",
              "parent_msg_id": "050c15e8-2cbb-4359-a2c8-0649f3c8a4d1"
            },
            "text/plain": "StatementMeta(sparkpool, 23, 26, Finished, Available, Finished)"
          },
          "metadata": {}
        },
        {
          "output_type": "execute_result",
          "execution_count": 25,
          "data": {
            "application/vnd.synapse.sparksql-result+json": {
              "schema": {
                "type": "struct",
                "fields": [
                  {
                    "name": "payment_type",
                    "type": "integer",
                    "nullable": true,
                    "metadata": {}
                  },
                  {
                    "name": "PaymentCount",
                    "type": "long",
                    "nullable": false,
                    "metadata": {}
                  }
                ]
              },
              "data": [
                [
                  1,
                  "366491"
                ],
                [
                  3,
                  "2749"
                ],
                [
                  5,
                  "4"
                ],
                [
                  4,
                  "917"
                ],
                [
                  2,
                  "250849"
                ]
              ]
            },
            "text/plain": "<Spark SQL result set with 5 rows and 2 fields>"
          },
          "metadata": {}
        }
      ],
      "execution_count": 25,
      "metadata": {
        "jupyter": {
          "source_hidden": false,
          "outputs_hidden": false
        },
        "nteract": {
          "transient": {
            "deleting": false
          }
        },
        "microsoft": {
          "language": "sparksql"
        },
        "collapsed": false
      }
    },
    {
      "cell_type": "code",
      "source": [
        "%%sql\r\n",
        "SELECT TripYear,TripMonth,Sum(PassengerCount) FROM TAXITABLE GROUP BY TripYear,TripMonth"
      ],
      "outputs": [
        {
          "output_type": "display_data",
          "data": {
            "application/vnd.livy.statement-meta+json": {
              "spark_pool": "sparkpool",
              "statement_id": 27,
              "statement_ids": [
                27
              ],
              "livy_statement_state": "available",
              "spark_jobs": null,
              "session_id": "23",
              "state": "finished",
              "normalized_state": "finished",
              "queued_time": "2024-07-19T09:06:54.2576649Z",
              "session_start_time": null,
              "execution_start_time": "2024-07-19T09:11:07.3522425Z",
              "execution_finish_time": "2024-07-19T09:11:11.2846153Z",
              "parent_msg_id": "4aad565e-2bcc-4a52-a110-304246ede81b"
            },
            "text/plain": "StatementMeta(sparkpool, 23, 27, Finished, Available, Finished)"
          },
          "metadata": {}
        },
        {
          "output_type": "execute_result",
          "execution_count": 26,
          "data": {
            "application/vnd.synapse.sparksql-result+json": {
              "schema": {
                "type": "struct",
                "fields": [
                  {
                    "name": "TripYear",
                    "type": "integer",
                    "nullable": true,
                    "metadata": {}
                  },
                  {
                    "name": "TripMonth",
                    "type": "integer",
                    "nullable": true,
                    "metadata": {}
                  },
                  {
                    "name": "sum(PassengerCount)",
                    "type": "long",
                    "nullable": true,
                    "metadata": {
                      "__autoGeneratedAlias": "true"
                    }
                  }
                ]
              },
              "data": [
                [
                  2021,
                  8,
                  "63078"
                ],
                [
                  2021,
                  6,
                  "66307"
                ],
                [
                  2021,
                  5,
                  "59513"
                ],
                [
                  2021,
                  10,
                  "92028"
                ],
                [
                  2009,
                  1,
                  "13"
                ],
                [
                  2021,
                  11,
                  "90702"
                ],
                [
                  2021,
                  9,
                  "77759"
                ],
                [
                  2010,
                  9,
                  "2"
                ],
                [
                  2021,
                  12,
                  "90657"
                ],
                [
                  2021,
                  7,
                  "63852"
                ],
                [
                  2021,
                  3,
                  "52396"
                ],
                [
                  2021,
                  2,
                  "40484"
                ],
                [
                  2021,
                  1,
                  "46019"
                ],
                [
                  2021,
                  4,
                  "54083"
                ],
                [
                  2008,
                  12,
                  "2"
                ],
                [
                  2020,
                  12,
                  "1"
                ]
              ]
            },
            "text/plain": "<Spark SQL result set with 16 rows and 3 fields>"
          },
          "metadata": {}
        }
      ],
      "execution_count": 26,
      "metadata": {
        "jupyter": {
          "source_hidden": false,
          "outputs_hidden": false
        },
        "nteract": {
          "transient": {
            "deleting": false
          }
        },
        "microsoft": {
          "language": "sparksql"
        },
        "collapsed": false
      }
    }
  ],
  "metadata": {
    "language_info": {
      "name": "python"
    },
    "kernelspec": {
      "name": "synapse_pyspark",
      "language": "Python",
      "display_name": "Synapse PySpark"
    },
    "kernel_info": {
      "name": "synapse_pyspark"
    },
    "description": null,
    "save_output": true,
    "synapse_widget": {
      "version": "0.1",
      "state": {}
    }
  },
  "nbformat": 4,
  "nbformat_minor": 2
}