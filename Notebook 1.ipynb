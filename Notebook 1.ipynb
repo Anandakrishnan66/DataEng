{
  "cells": [
    {
      "cell_type": "code",
      "source": [
        "sc"
      ],
      "outputs": [
        {
          "output_type": "display_data",
          "data": {
            "application/vnd.livy.statement-meta+json": {
              "spark_pool": "sparkpool",
              "statement_id": 31,
              "statement_ids": [
                31
              ],
              "livy_statement_state": "available",
              "spark_jobs": null,
              "session_id": "1",
              "state": "finished",
              "normalized_state": "finished",
              "queued_time": "2024-07-18T06:40:31.7945235Z",
              "session_start_time": null,
              "execution_start_time": "2024-07-18T06:40:31.9180764Z",
              "execution_finish_time": "2024-07-18T06:40:32.0655204Z",
              "parent_msg_id": "7801964a-e0db-442d-969c-7faa1347bdab"
            },
            "text/plain": "StatementMeta(sparkpool, 1, 31, Finished, Available, Finished)"
          },
          "metadata": {}
        },
        {
          "output_type": "execute_result",
          "execution_count": 63,
          "data": {
            "text/plain": "<SparkContext master=yarn appName=Notebook 1_sparkpool_1721282459>",
            "text/html": "\n        <div>\n            <p><b>SparkContext</b></p>\n\n            <p><a href=\"https://web.azuresynapse.net/sparkui/84d16d2d-d167-4eed-8209-f12cd1de2bc5/workspaces/azuresynapseworks/sparkpools/sparkpool/sessions/1/applications/application_1721276851884_0002\">Spark UI</a></p>\n\n            <dl>\n              <dt>Version</dt>\n                <dd><code>v3.4.1.5.3.20240528.1</code></dd>\n              <dt>Master</dt>\n                <dd><code>yarn</code></dd>\n              <dt>AppName</dt>\n                <dd><code>Notebook 1_sparkpool_1721282459</code></dd>\n            </dl>\n        </div>\n        "
          },
          "metadata": {}
        }
      ],
      "execution_count": 87,
      "metadata": {}
    },
    {
      "cell_type": "code",
      "source": [
        "taxi_df=spark.read.load('abfss://datasynapsefs@datasynapselake.dfs.core.windows.net/TripData.csv',header=True,format='csv',inferSchema=True)"
      ],
      "outputs": [
        {
          "output_type": "display_data",
          "data": {
            "application/vnd.livy.statement-meta+json": {
              "spark_pool": "sparkpool",
              "statement_id": 125,
              "statement_ids": [
                125
              ],
              "livy_statement_state": "available",
              "spark_jobs": null,
              "session_id": "1",
              "state": "finished",
              "normalized_state": "finished",
              "queued_time": "2024-07-18T07:36:08.8528643Z",
              "session_start_time": null,
              "execution_start_time": "2024-07-18T07:36:08.9650903Z",
              "execution_finish_time": "2024-07-18T07:36:19.6002323Z",
              "parent_msg_id": "913f7bdd-7be1-4682-abd2-2ef79becc049"
            },
            "text/plain": "StatementMeta(sparkpool, 1, 125, Finished, Available, Finished)"
          },
          "metadata": {}
        }
      ],
      "execution_count": 181,
      "metadata": {
        "jupyter": {
          "source_hidden": false,
          "outputs_hidden": false
        },
        "nteract": {
          "transient": {
            "deleting": false
          }
        }
      }
    },
    {
      "cell_type": "code",
      "source": [
        "from pyspark.sql.functions import *\r\n",
        "from pyspark import * \r\n",
        "from datetime import datetime \r\n"
      ],
      "outputs": [
        {
          "output_type": "display_data",
          "data": {
            "application/vnd.livy.statement-meta+json": {
              "spark_pool": "sparkpool",
              "statement_id": 33,
              "statement_ids": [
                33
              ],
              "livy_statement_state": "available",
              "spark_jobs": null,
              "session_id": "1",
              "state": "finished",
              "normalized_state": "finished",
              "queued_time": "2024-07-18T06:40:32.0452681Z",
              "session_start_time": null,
              "execution_start_time": "2024-07-18T06:40:42.8353466Z",
              "execution_finish_time": "2024-07-18T06:40:42.9815466Z",
              "parent_msg_id": "82c1a87b-a804-451a-90ce-6c630992e674"
            },
            "text/plain": "StatementMeta(sparkpool, 1, 33, Finished, Available, Finished)"
          },
          "metadata": {}
        }
      ],
      "execution_count": 89,
      "metadata": {
        "jupyter": {
          "source_hidden": false,
          "outputs_hidden": false
        },
        "nteract": {
          "transient": {
            "deleting": false
          }
        }
      }
    },
    {
      "cell_type": "code",
      "source": [
        "taxi_df_1=taxi_df.where(col('passenger_count')>0).filter(col('trip_distance')>0.0).drop_duplicates()"
      ],
      "outputs": [
        {
          "output_type": "display_data",
          "data": {
            "application/vnd.livy.statement-meta+json": {
              "spark_pool": "sparkpool",
              "statement_id": 126,
              "statement_ids": [
                126
              ],
              "livy_statement_state": "available",
              "spark_jobs": null,
              "session_id": "1",
              "state": "finished",
              "normalized_state": "finished",
              "queued_time": "2024-07-18T07:36:39.9925164Z",
              "session_start_time": null,
              "execution_start_time": "2024-07-18T07:36:40.148149Z",
              "execution_finish_time": "2024-07-18T07:36:40.3036532Z",
              "parent_msg_id": "10b04df1-b101-45b3-8c46-62240ac6cdde"
            },
            "text/plain": "StatementMeta(sparkpool, 1, 126, Finished, Available, Finished)"
          },
          "metadata": {}
        }
      ],
      "execution_count": 182,
      "metadata": {
        "jupyter": {
          "source_hidden": false,
          "outputs_hidden": false
        },
        "nteract": {
          "transient": {
            "deleting": false
          }
        }
      }
    },
    {
      "cell_type": "code",
      "source": [
        "print(taxi_df_1.rdd.getNumPartitions())"
      ],
      "outputs": [
        {
          "output_type": "display_data",
          "data": {
            "application/vnd.livy.statement-meta+json": {
              "spark_pool": "sparkpool",
              "statement_id": 35,
              "statement_ids": [
                35
              ],
              "livy_statement_state": "available",
              "spark_jobs": null,
              "session_id": "1",
              "state": "finished",
              "normalized_state": "finished",
              "queued_time": "2024-07-18T06:40:32.5611937Z",
              "session_start_time": null,
              "execution_start_time": "2024-07-18T06:40:43.3702561Z",
              "execution_finish_time": "2024-07-18T06:40:47.3566687Z",
              "parent_msg_id": "07de0e04-9b0b-4d73-991e-71bf94335bae"
            },
            "text/plain": "StatementMeta(sparkpool, 1, 35, Finished, Available, Finished)"
          },
          "metadata": {}
        },
        {
          "output_type": "stream",
          "name": "stdout",
          "text": [
            "4\n"
          ]
        }
      ],
      "execution_count": 91,
      "metadata": {
        "jupyter": {
          "source_hidden": false,
          "outputs_hidden": false
        },
        "nteract": {
          "transient": {
            "deleting": false
          }
        }
      }
    },
    {
      "cell_type": "code",
      "source": [
        "taxi_df_1.columns"
      ],
      "outputs": [
        {
          "output_type": "display_data",
          "data": {
            "application/vnd.livy.statement-meta+json": {
              "spark_pool": "sparkpool",
              "statement_id": 36,
              "statement_ids": [
                36
              ],
              "livy_statement_state": "available",
              "spark_jobs": null,
              "session_id": "1",
              "state": "finished",
              "normalized_state": "finished",
              "queued_time": "2024-07-18T06:40:33.0610739Z",
              "session_start_time": null,
              "execution_start_time": "2024-07-18T06:40:47.4784765Z",
              "execution_finish_time": "2024-07-18T06:40:47.6373796Z",
              "parent_msg_id": "9c1f3921-39da-4b66-bbcd-cfe5cd3b6651"
            },
            "text/plain": "StatementMeta(sparkpool, 1, 36, Finished, Available, Finished)"
          },
          "metadata": {}
        },
        {
          "output_type": "execute_result",
          "execution_count": 73,
          "data": {
            "text/plain": "['VendorID',\n 'lpep_pickup_datetime',\n 'lpep_dropoff_datetime',\n 'store_and_fwd_flag',\n 'RatecodeID',\n 'PULocationID',\n 'DOLocationID',\n 'passenger_count',\n 'trip_distance',\n 'fare_amount',\n 'extra',\n 'mta_tax',\n 'tip_amount',\n 'tolls_amount',\n 'ehail_fee',\n 'improvement_surcharge',\n 'total_amount',\n 'payment_type',\n 'trip_type',\n 'congestion_surcharge']"
          },
          "metadata": {}
        }
      ],
      "execution_count": 92,
      "metadata": {
        "jupyter": {
          "source_hidden": false,
          "outputs_hidden": false
        },
        "nteract": {
          "transient": {
            "deleting": false
          }
        }
      }
    },
    {
      "cell_type": "code",
      "source": [
        "'VendorID',\r\n",
        " 'lpep_pickup_datetime',\r\n",
        " 'lpep_dropoff_datetime',\r\n",
        " 'store_and_fwd_flag',\r\n",
        " 'RatecodeID',\r\n",
        " 'PULocationID',\r\n",
        " 'DOLocationID',\r\n",
        " 'passenger_count',\r\n",
        " 'trip_distance',\r\n",
        " 'fare_amount',\r\n",
        " 'extra',\r\n",
        " 'mta_tax',\r\n",
        " 'tip_amount',\r\n",
        " 'tolls_amount',\r\n",
        " 'ehail_fee',\r\n",
        " 'improvement_surcharge',\r\n",
        " 'total_amount',\r\n",
        " 'payment_type',\r\n",
        " 'trip_type',\r\n",
        " 'congestion_surcharge"
      ],
      "outputs": [
        {
          "output_type": "display_data",
          "data": {
            "application/vnd.livy.statement-meta+json": {
              "spark_pool": "sparkpool",
              "statement_id": 37,
              "statement_ids": [
                37
              ],
              "livy_statement_state": "available",
              "spark_jobs": null,
              "session_id": "1",
              "state": "finished",
              "normalized_state": "finished",
              "queued_time": "2024-07-18T06:40:33.2820868Z",
              "session_start_time": null,
              "execution_start_time": "2024-07-18T06:40:47.7546183Z",
              "execution_finish_time": "2024-07-18T06:40:47.9046031Z",
              "parent_msg_id": "09b8eca1-ac81-4bd8-89b1-ac834eb61cf1"
            },
            "text/plain": "StatementMeta(sparkpool, 1, 37, Finished, Available, Finished)"
          },
          "metadata": {}
        },
        {
          "output_type": "error",
          "ename": "IndentationError",
          "evalue": "unexpected indent (2197396030.py, line 2)",
          "traceback": [
            "\u001b[0;36m  Cell \u001b[0;32mIn[75], line 2\u001b[0;36m\u001b[0m\n\u001b[0;31m    'lpep_pickup_datetime',\u001b[0m\n\u001b[0m    ^\u001b[0m\n\u001b[0;31mIndentationError\u001b[0m\u001b[0;31m:\u001b[0m unexpected indent\n"
          ]
        }
      ],
      "execution_count": 93,
      "metadata": {
        "jupyter": {
          "source_hidden": false,
          "outputs_hidden": false
        },
        "nteract": {
          "transient": {
            "deleting": false
          }
        }
      }
    },
    {
      "cell_type": "code",
      "source": [
        "taxi_df_1.show()"
      ],
      "outputs": [
        {
          "output_type": "display_data",
          "data": {
            "application/vnd.livy.statement-meta+json": {
              "spark_pool": "sparkpool",
              "statement_id": 122,
              "statement_ids": [
                122
              ],
              "livy_statement_state": "available",
              "spark_jobs": null,
              "session_id": "1",
              "state": "finished",
              "normalized_state": "finished",
              "queued_time": "2024-07-18T07:34:45.0070962Z",
              "session_start_time": null,
              "execution_start_time": "2024-07-18T07:34:45.1191487Z",
              "execution_finish_time": "2024-07-18T07:34:49.1119031Z",
              "parent_msg_id": "cc17ce91-079c-40ed-9af3-94e17cded5a4"
            },
            "text/plain": "StatementMeta(sparkpool, 1, 122, Finished, Available, Finished)"
          },
          "metadata": {}
        },
        {
          "output_type": "stream",
          "name": "stdout",
          "text": [
            "+--------+--------------------+---------------------+------------------+----------+------------+------------+---------------+-------------+-----------+-----+-------+----------+------------+---------+---------------------+------------+------------+---------+--------------------+\n|VendorID|lpep_pickup_datetime|lpep_dropoff_datetime|store_and_fwd_flag|RatecodeID|PULocationID|DOLocationID|passenger_count|trip_distance|fare_amount|extra|mta_tax|tip_amount|tolls_amount|ehail_fee|improvement_surcharge|total_amount|payment_type|trip_type|congestion_surcharge|\n+--------+--------------------+---------------------+------------------+----------+------------+------------+---------------+-------------+-----------+-----+-------+----------+------------+---------+---------------------+------------+------------+---------+--------------------+\n|       2|01/01/2021 08:59:...| 01/01/2021 09:04:...|                 N|         1|          74|          75|              1|         1.44|        6.5|  0.0|    0.5|      1.46|         0.0|     null|                  0.3|        8.76|           1|        1|                 0.0|\n|       1|01/01/2021 11:56:...| 01/01/2021 11:58:...|                 N|         1|          74|          75|              1|          0.8|        4.5|  0.0|    0.5|       1.2|         0.0|     null|                  0.3|         6.5|           1|        1|                 0.0|\n|       2|01/01/2021 12:15:...| 01/01/2021 12:23:...|                 N|         1|           7|         179|              2|          1.1|        7.0|  0.0|    0.5|       0.0|         0.0|     null|                  0.3|         7.8|           2|        1|                 0.0|\n|       2|01/01/2021 03:46:...| 01/01/2021 04:25:...|                 N|         1|         130|          61|              1|         7.15|       28.5|  0.0|    0.5|       0.0|         0.0|     null|                  0.3|        29.3|           1|        1|                 0.0|\n|       2|01/01/2021 09:51:...| 01/01/2021 09:59:...|                 N|         1|          74|         168|              1|         1.77|        8.0|  0.5|    0.5|       0.0|         0.0|     null|                  0.3|         9.3|           1|        1|                 0.0|\n|       2|01/02/2021 10:50:...| 01/02/2021 11:07:...|                 N|         1|          41|         143|              1|         5.32|       18.5|  0.0|    0.5|       0.0|         0.0|     null|                  0.3|       22.05|           2|        1|                2.75|\n|       2|01/02/2021 12:28:...| 01/02/2021 12:43:...|                 N|         1|          69|          41|              1|         2.34|       12.0|  0.0|    0.5|       0.0|         0.0|     null|                  0.3|        12.8|           2|        1|                 0.0|\n|       2|01/02/2021 01:03:...| 01/02/2021 01:07:...|                 N|         1|          75|          74|              5|         0.93|        5.0|  0.0|    0.5|       0.0|         0.0|     null|                  0.3|         5.8|           2|        1|                 0.0|\n|       2|01/02/2021 02:32:...| 01/02/2021 02:40:...|                 N|         1|          74|          75|              1|         1.64|        8.0|  0.0|    0.5|      1.76|         0.0|     null|                  0.3|       10.56|           1|        1|                 0.0|\n|       2|01/02/2021 05:26:...| 01/02/2021 05:55:...|                 N|         1|         244|          90|              1|         8.61|       29.0|  0.0|    0.5|       0.0|         0.0|     null|                  0.3|       32.55|           2|        1|                2.75|\n|       2|01/02/2021 05:06:...| 01/02/2021 05:18:...|                 N|         1|          75|         142|              1|         3.11|       12.0|  0.0|    0.5|      1.56|         0.0|     null|                  0.3|       17.11|           1|        1|                2.75|\n|       2|01/02/2021 09:35:...| 01/02/2021 09:48:...|                 N|         5|         247|         147|              3|         2.15|       10.0|  0.0|    0.0|       0.0|         0.0|     null|                  0.3|        10.3|           2|        2|                 0.0|\n|       2|01/03/2021 12:05:...| 01/03/2021 12:26:...|                 N|         1|         116|          92|              1|        10.43|       30.0|  0.0|    0.5|       0.0|        6.12|     null|                  0.3|       36.92|           2|        1|                 0.0|\n|       2|01/04/2021 02:16:...| 01/04/2021 02:31:...|                 N|         1|          74|         151|              1|         2.03|       11.5|  0.0|    0.5|       0.0|         0.0|     null|                  0.3|        12.3|           2|        1|                 0.0|\n|       1|01/04/2021 02:39:...| 01/04/2021 02:44:...|                 N|         1|          25|          33|              1|          0.5|        5.5|  0.0|    0.5|       0.0|         0.0|     null|                  0.3|         6.3|           2|        1|                 0.0|\n|       2|01/04/2021 04:15:...| 01/04/2021 04:21:...|                 N|         1|          42|          74|              1|         0.99|        6.0|  1.0|    0.5|       0.0|         0.0|     null|                  0.3|         7.8|           2|        1|                 0.0|\n|       2|01/04/2021 06:29:...| 01/04/2021 06:31:...|                 N|         1|          75|          74|              1|         0.96|        4.5|  1.0|    0.5|      1.26|         0.0|     null|                  0.3|        7.56|           1|        1|                 0.0|\n|       2|01/04/2021 10:50:...| 01/04/2021 10:59:...|                 N|         1|          75|         140|              1|         2.62|       10.0|  0.5|    0.5|       0.0|         0.0|     null|                  0.3|       14.05|           2|        1|                2.75|\n|       2|01/05/2021 08:24:...| 01/05/2021 08:28:...|                 N|         1|          61|          61|              1|         0.86|        5.0|  0.0|    0.5|       0.0|         0.0|     null|                  0.3|         5.8|           2|        1|                 0.0|\n|       1|01/05/2021 10:09:...| 01/05/2021 10:34:...|                 N|         1|          82|         141|              1|          5.2|       20.0| 2.75|    0.5|       0.0|         0.0|     null|                  0.3|       23.55|           2|        1|                2.75|\n+--------+--------------------+---------------------+------------------+----------+------------+------------+---------------+-------------+-----------+-----+-------+----------+------------+---------+---------------------+------------+------------+---------+--------------------+\nonly showing top 20 rows\n\n"
          ]
        }
      ],
      "execution_count": 178,
      "metadata": {
        "jupyter": {
          "source_hidden": false,
          "outputs_hidden": false
        },
        "nteract": {
          "transient": {
            "deleting": false
          }
        }
      }
    },
    {
      "cell_type": "code",
      "source": [
        "\r\n",
        "taxi_df_final=taxi_df_1.select(col('VendorID'),\r\n",
        "col('passenger_count').alias('Passengercount'),\r\n",
        "col('trip_distance').alias('Tripdistance'),\r\n",
        "col('lpep_pickup_datetime').alias('Pickuptime'),\r\n",
        "col('lpep_dropoff_datetime').alias('Droptime'),\r\n",
        "col('PULocationID').alias(\"PickuplocationID\"),\r\n",
        "col('DOLocationID').alias(\"DroplocationID\"),\r\n",
        "col('trip_distance').alias(\"Tripdistance\"),\r\n",
        "col('fare_amount'),\r\n",
        "col('total_amount'),\r\n",
        "col('payment_type'),\r\n",
        "col('trip_type'),\r\n",
        "col('RatecodeID')\r\n",
        "\r\n",
        ")"
      ],
      "outputs": [
        {
          "output_type": "display_data",
          "data": {
            "application/vnd.livy.statement-meta+json": {
              "spark_pool": "sparkpool",
              "statement_id": 157,
              "statement_ids": [
                157
              ],
              "livy_statement_state": "available",
              "spark_jobs": null,
              "session_id": "1",
              "state": "finished",
              "normalized_state": "finished",
              "queued_time": "2024-07-18T07:48:02.6870066Z",
              "session_start_time": null,
              "execution_start_time": "2024-07-18T07:48:02.8192806Z",
              "execution_finish_time": "2024-07-18T07:48:02.9653341Z",
              "parent_msg_id": "28e7bda4-a0e4-4558-bbf8-1cf5a25b1423"
            },
            "text/plain": "StatementMeta(sparkpool, 1, 157, Finished, Available, Finished)"
          },
          "metadata": {}
        }
      ],
      "execution_count": 213,
      "metadata": {
        "jupyter": {
          "source_hidden": false,
          "outputs_hidden": false
        },
        "nteract": {
          "transient": {
            "deleting": false
          }
        }
      }
    },
    {
      "cell_type": "code",
      "source": [
        "# taxi_df_final.show()"
      ],
      "outputs": [
        {
          "output_type": "display_data",
          "data": {
            "application/vnd.livy.statement-meta+json": {
              "spark_pool": "sparkpool",
              "statement_id": 158,
              "statement_ids": [
                158
              ],
              "livy_statement_state": "available",
              "spark_jobs": null,
              "session_id": "1",
              "state": "finished",
              "normalized_state": "finished",
              "queued_time": "2024-07-18T07:48:05.5502088Z",
              "session_start_time": null,
              "execution_start_time": "2024-07-18T07:48:05.680918Z",
              "execution_finish_time": "2024-07-18T07:48:05.89815Z",
              "parent_msg_id": "6e7f2c02-5f99-4b81-b544-c27d1ff14955"
            },
            "text/plain": "StatementMeta(sparkpool, 1, 158, Finished, Available, Finished)"
          },
          "metadata": {}
        }
      ],
      "execution_count": 214,
      "metadata": {
        "jupyter": {
          "source_hidden": false,
          "outputs_hidden": false
        },
        "nteract": {
          "transient": {
            "deleting": false
          }
        }
      }
    },
    {
      "cell_type": "code",
      "source": [
        "taxi_df_1.withColumnRenamed('passenger_count','Passengercount')"
      ],
      "outputs": [
        {
          "output_type": "display_data",
          "data": {
            "application/vnd.livy.statement-meta+json": {
              "spark_pool": null,
              "statement_id": null,
              "statement_ids": null,
              "livy_statement_state": null,
              "spark_jobs": null,
              "session_id": null,
              "state": "cancelled",
              "normalized_state": "cancelled",
              "queued_time": "2024-07-18T06:40:33.7381769Z",
              "session_start_time": null,
              "execution_start_time": null,
              "execution_finish_time": "2024-07-18T06:40:47.9307655Z",
              "parent_msg_id": "96306d07-e244-4000-9492-ee19a043a602"
            },
            "text/plain": "StatementMeta(, , , Cancelled, , Cancelled)"
          },
          "metadata": {}
        }
      ],
      "execution_count": null,
      "metadata": {
        "jupyter": {
          "source_hidden": false,
          "outputs_hidden": false
        },
        "nteract": {
          "transient": {
            "deleting": false
          }
        }
      }
    },
    {
      "cell_type": "code",
      "source": [
        "taxi_df_final.select(\"RatecodeID\").distinct().show()"
      ],
      "outputs": [
        {
          "output_type": "display_data",
          "data": {
            "application/vnd.livy.statement-meta+json": {
              "spark_pool": null,
              "statement_id": null,
              "statement_ids": null,
              "livy_statement_state": null,
              "spark_jobs": null,
              "session_id": null,
              "state": "cancelled",
              "normalized_state": "cancelled",
              "queued_time": "2024-07-18T06:40:33.8730235Z",
              "session_start_time": null,
              "execution_start_time": null,
              "execution_finish_time": "2024-07-18T06:40:47.9316566Z",
              "parent_msg_id": "d06531cb-95b9-4dad-bef3-ad9759c23da8"
            },
            "text/plain": "StatementMeta(, , , Cancelled, , Cancelled)"
          },
          "metadata": {}
        }
      ],
      "execution_count": null,
      "metadata": {
        "jupyter": {
          "source_hidden": false,
          "outputs_hidden": false
        },
        "nteract": {
          "transient": {
            "deleting": false
          }
        }
      }
    },
    {
      "cell_type": "code",
      "source": [
        "taxi_df_trans=taxi_df_final.withColumn(\"Tripear\",year(\"Pickuptime\")).withColumn(\"TripMonth\",year(\"Pickuptime\")).withColumn(\"Day\",month(\"Pickuptime\")).\\\r\n",
        "withColumn(\"Tripdurationtime\",round(unix_timestamp('Droptime')-unix_timestamp(col('Pickuptime'))))"
      ],
      "outputs": [
        {
          "output_type": "display_data",
          "data": {
            "application/vnd.livy.statement-meta+json": {
              "spark_pool": "sparkpool",
              "statement_id": 68,
              "statement_ids": [
                68
              ],
              "livy_statement_state": "available",
              "spark_jobs": null,
              "session_id": "1",
              "state": "finished",
              "normalized_state": "finished",
              "queued_time": "2024-07-18T06:58:46.8269414Z",
              "session_start_time": null,
              "execution_start_time": "2024-07-18T06:58:46.955324Z",
              "execution_finish_time": "2024-07-18T06:58:47.1112885Z",
              "parent_msg_id": "fcf53bb6-a89d-489b-b73f-0d457db607d2"
            },
            "text/plain": "StatementMeta(sparkpool, 1, 68, Finished, Available, Finished)"
          },
          "metadata": {}
        }
      ],
      "execution_count": 124,
      "metadata": {
        "jupyter": {
          "source_hidden": false,
          "outputs_hidden": false
        },
        "nteract": {
          "transient": {
            "deleting": false
          }
        }
      }
    },
    {
      "cell_type": "markdown",
      "source": [],
      "metadata": {
        "nteract": {
          "transient": {
            "deleting": false
          }
        }
      }
    },
    {
      "cell_type": "code",
      "source": [
        "# taxi_df_final= taxi_df_final.withColumn(\"Droptime\", to_timestamp(col(\"Droptime\"),'dd/MM/yyyy HH:mm'))\r\n",
        "# # df_with_timestamp.show()\r\n",
        "# taxi_df_final=taxi_df_final.withColumn(\"Pickuptime\",to_timestamp(col(\"Pickuptime\"),'dd/MM/yyyy HH:mm'))\r\n"
      ],
      "outputs": [
        {
          "output_type": "display_data",
          "data": {
            "application/vnd.livy.statement-meta+json": {
              "spark_pool": "sparkpool",
              "statement_id": 146,
              "statement_ids": [
                146
              ],
              "livy_statement_state": "available",
              "spark_jobs": null,
              "session_id": "1",
              "state": "finished",
              "normalized_state": "finished",
              "queued_time": "2024-07-18T07:45:08.3771284Z",
              "session_start_time": null,
              "execution_start_time": "2024-07-18T07:45:08.4852347Z",
              "execution_finish_time": "2024-07-18T07:45:08.6505835Z",
              "parent_msg_id": "0d456c86-dbbc-4516-a27f-8d287fe7d7a9"
            },
            "text/plain": "StatementMeta(sparkpool, 1, 146, Finished, Available, Finished)"
          },
          "metadata": {}
        }
      ],
      "execution_count": 202,
      "metadata": {
        "jupyter": {
          "source_hidden": false,
          "outputs_hidden": false
        },
        "nteract": {
          "transient": {
            "deleting": false
          }
        }
      }
    },
    {
      "cell_type": "code",
      "source": [
        "# taxi_df_final.show()"
      ],
      "outputs": [
        {
          "output_type": "display_data",
          "data": {
            "application/vnd.livy.statement-meta+json": {
              "spark_pool": "sparkpool",
              "statement_id": 160,
              "statement_ids": [
                160
              ],
              "livy_statement_state": "available",
              "spark_jobs": null,
              "session_id": "1",
              "state": "finished",
              "normalized_state": "finished",
              "queued_time": "2024-07-18T07:48:52.829897Z",
              "session_start_time": null,
              "execution_start_time": "2024-07-18T07:48:53.5386431Z",
              "execution_finish_time": "2024-07-18T07:48:53.6935875Z",
              "parent_msg_id": "d53e94a7-c6d7-4114-92bf-7312322f6648"
            },
            "text/plain": "StatementMeta(sparkpool, 1, 160, Finished, Available, Finished)"
          },
          "metadata": {}
        }
      ],
      "execution_count": 216,
      "metadata": {
        "jupyter": {
          "source_hidden": false,
          "outputs_hidden": false
        },
        "nteract": {
          "transient": {
            "deleting": false
          }
        }
      }
    },
    {
      "cell_type": "code",
      "source": [
        "taxi_df_final=taxi_df_final.withColumn('Triptype',when(col('RateCodeID')==6,\"SharedTrip\").otherwise(\"SoloTrip\"))"
      ],
      "outputs": [
        {
          "output_type": "display_data",
          "data": {
            "application/vnd.livy.statement-meta+json": {
              "spark_pool": "sparkpool",
              "statement_id": 161,
              "statement_ids": [
                161
              ],
              "livy_statement_state": "available",
              "spark_jobs": null,
              "session_id": "1",
              "state": "finished",
              "normalized_state": "finished",
              "queued_time": "2024-07-18T07:48:58.2112202Z",
              "session_start_time": null,
              "execution_start_time": "2024-07-18T07:48:58.3221965Z",
              "execution_finish_time": "2024-07-18T07:48:58.4716816Z",
              "parent_msg_id": "78a9c942-95be-4bf2-a4d3-56a9daf05835"
            },
            "text/plain": "StatementMeta(sparkpool, 1, 161, Finished, Available, Finished)"
          },
          "metadata": {}
        }
      ],
      "execution_count": 217,
      "metadata": {
        "jupyter": {
          "source_hidden": false,
          "outputs_hidden": false
        },
        "nteract": {
          "transient": {
            "deleting": false
          }
        }
      }
    },
    {
      "cell_type": "code",
      "source": [
        "spark.sql(\"Create database if not exists taxi_db \")"
      ],
      "outputs": [
        {
          "output_type": "display_data",
          "data": {
            "application/vnd.livy.statement-meta+json": {
              "spark_pool": "sparkpool",
              "statement_id": 76,
              "statement_ids": [
                76
              ],
              "livy_statement_state": "available",
              "spark_jobs": null,
              "session_id": "1",
              "state": "finished",
              "normalized_state": "finished",
              "queued_time": "2024-07-18T07:05:48.8590739Z",
              "session_start_time": null,
              "execution_start_time": "2024-07-18T07:05:48.9839828Z",
              "execution_finish_time": "2024-07-18T07:06:00.3198126Z",
              "parent_msg_id": "27139196-9f36-403a-979b-56a4d4dc73d7"
            },
            "text/plain": "StatementMeta(sparkpool, 1, 76, Finished, Available, Finished)"
          },
          "metadata": {}
        },
        {
          "output_type": "execute_result",
          "execution_count": 153,
          "data": {
            "text/plain": "DataFrame[]"
          },
          "metadata": {}
        }
      ],
      "execution_count": 132,
      "metadata": {
        "jupyter": {
          "source_hidden": false,
          "outputs_hidden": false
        },
        "nteract": {
          "transient": {
            "deleting": false
          }
        }
      }
    },
    {
      "cell_type": "code",
      "source": [
        "taxi_df_final.drop(\"RateCodeID\").repartition(4).write.mode(\"overwrite\").saveAsTable(\"taxi_tb\")"
      ],
      "outputs": [
        {
          "output_type": "display_data",
          "data": {
            "application/vnd.livy.statement-meta+json": {
              "spark_pool": "sparkpool",
              "statement_id": 88,
              "statement_ids": [
                88
              ],
              "livy_statement_state": "available",
              "spark_jobs": null,
              "session_id": "1",
              "state": "finished",
              "normalized_state": "finished",
              "queued_time": "2024-07-18T07:11:40.3356708Z",
              "session_start_time": null,
              "execution_start_time": "2024-07-18T07:11:40.4418858Z",
              "execution_finish_time": "2024-07-18T07:11:55.1626345Z",
              "parent_msg_id": "60342c7a-6958-4d86-8c37-e3fcee83ca0e"
            },
            "text/plain": "StatementMeta(sparkpool, 1, 88, Finished, Available, Finished)"
          },
          "metadata": {}
        }
      ],
      "execution_count": 144,
      "metadata": {
        "jupyter": {
          "source_hidden": false,
          "outputs_hidden": false
        },
        "nteract": {
          "transient": {
            "deleting": false
          }
        }
      }
    },
    {
      "cell_type": "code",
      "source": [
        "# taxi_df_final.show()"
      ],
      "outputs": [
        {
          "output_type": "display_data",
          "data": {
            "application/vnd.livy.statement-meta+json": {
              "spark_pool": "sparkpool",
              "statement_id": 152,
              "statement_ids": [
                152
              ],
              "livy_statement_state": "available",
              "spark_jobs": null,
              "session_id": "1",
              "state": "finished",
              "normalized_state": "finished",
              "queued_time": "2024-07-18T07:46:40.0310991Z",
              "session_start_time": null,
              "execution_start_time": "2024-07-18T07:46:40.1433982Z",
              "execution_finish_time": "2024-07-18T07:46:40.3297593Z",
              "parent_msg_id": "3fb38eb3-5b46-4621-ac60-c820efe080f3"
            },
            "text/plain": "StatementMeta(sparkpool, 1, 152, Finished, Available, Finished)"
          },
          "metadata": {}
        }
      ],
      "execution_count": 208,
      "metadata": {
        "jupyter": {
          "source_hidden": false,
          "outputs_hidden": false
        },
        "nteract": {
          "transient": {
            "deleting": false
          }
        }
      }
    },
    {
      "cell_type": "code",
      "source": [
        "taxi_df_final.select(\"Droptime\").toPandas()"
      ],
      "outputs": [
        {
          "output_type": "display_data",
          "data": {
            "application/vnd.livy.statement-meta+json": {
              "spark_pool": "sparkpool",
              "statement_id": 164,
              "statement_ids": [
                164
              ],
              "livy_statement_state": "available",
              "spark_jobs": null,
              "session_id": "1",
              "state": "finished",
              "normalized_state": "finished",
              "queued_time": "2024-07-18T07:51:49.7648494Z",
              "session_start_time": null,
              "execution_start_time": "2024-07-18T07:51:49.8748303Z",
              "execution_finish_time": "2024-07-18T07:51:53.8348015Z",
              "parent_msg_id": "2bb6ceb2-1977-4e35-a10f-35e5f0075a8b"
            },
            "text/plain": "StatementMeta(sparkpool, 1, 164, Finished, Available, Finished)"
          },
          "metadata": {}
        },
        {
          "output_type": "execute_result",
          "execution_count": 329,
          "data": {
            "text/plain": "                      Droptime\n0       01/01/2021 09:04:13 AM\n1       01/01/2021 11:58:47 AM\n2       01/01/2021 12:23:19 PM\n3       01/01/2021 04:25:28 PM\n4       01/01/2021 09:59:26 PM\n...                        ...\n621005  12/31/2021 05:42:01 PM\n621006  12/31/2021 07:51:45 PM\n621007  12/31/2021 08:51:26 PM\n621008  12/31/2021 10:44:24 PM\n621009  12/31/2021 11:48:56 PM\n\n[621010 rows x 1 columns]",
            "text/html": "<div>\n<style scoped>\n    .dataframe tbody tr th:only-of-type {\n        vertical-align: middle;\n    }\n\n    .dataframe tbody tr th {\n        vertical-align: top;\n    }\n\n    .dataframe thead th {\n        text-align: right;\n    }\n</style>\n<table border=\"1\" class=\"dataframe\">\n  <thead>\n    <tr style=\"text-align: right;\">\n      <th></th>\n      <th>Droptime</th>\n    </tr>\n  </thead>\n  <tbody>\n    <tr>\n      <th>0</th>\n      <td>01/01/2021 09:04:13 AM</td>\n    </tr>\n    <tr>\n      <th>1</th>\n      <td>01/01/2021 11:58:47 AM</td>\n    </tr>\n    <tr>\n      <th>2</th>\n      <td>01/01/2021 12:23:19 PM</td>\n    </tr>\n    <tr>\n      <th>3</th>\n      <td>01/01/2021 04:25:28 PM</td>\n    </tr>\n    <tr>\n      <th>4</th>\n      <td>01/01/2021 09:59:26 PM</td>\n    </tr>\n    <tr>\n      <th>...</th>\n      <td>...</td>\n    </tr>\n    <tr>\n      <th>621005</th>\n      <td>12/31/2021 05:42:01 PM</td>\n    </tr>\n    <tr>\n      <th>621006</th>\n      <td>12/31/2021 07:51:45 PM</td>\n    </tr>\n    <tr>\n      <th>621007</th>\n      <td>12/31/2021 08:51:26 PM</td>\n    </tr>\n    <tr>\n      <th>621008</th>\n      <td>12/31/2021 10:44:24 PM</td>\n    </tr>\n    <tr>\n      <th>621009</th>\n      <td>12/31/2021 11:48:56 PM</td>\n    </tr>\n  </tbody>\n</table>\n<p>621010 rows × 1 columns</p>\n</div>"
          },
          "metadata": {}
        }
      ],
      "execution_count": 220,
      "metadata": {
        "jupyter": {
          "source_hidden": false,
          "outputs_hidden": false
        },
        "nteract": {
          "transient": {
            "deleting": false
          }
        }
      }
    },
    {
      "cell_type": "code",
      "source": [
        "from pyspark.sql.functions import to_timestamp\r\n",
        "\r\n",
        "# Convert string to timestamp\r\n",
        "taxi_df_final = taxi_df_final.withColumn(\"Pickuptime\", to_timestamp(col(\"Pickuptime\"), \"MM/dd/yyyy hh:mm:ss a\"))\r\n",
        "\r\n",
        "# Show the DataFrame with the timestamp column\r\n",
        "taxi_df_final.printSchema()\r\n"
      ],
      "outputs": [
        {
          "output_type": "display_data",
          "data": {
            "application/vnd.livy.statement-meta+json": {
              "spark_pool": "sparkpool",
              "statement_id": 167,
              "statement_ids": [
                167
              ],
              "livy_statement_state": "available",
              "spark_jobs": null,
              "session_id": "1",
              "state": "finished",
              "normalized_state": "finished",
              "queued_time": "2024-07-18T07:54:46.5336296Z",
              "session_start_time": null,
              "execution_start_time": "2024-07-18T07:54:46.6884517Z",
              "execution_finish_time": "2024-07-18T07:54:46.8512149Z",
              "parent_msg_id": "4eea18ef-aa84-4d6e-8d8a-a3f246085cd7"
            },
            "text/plain": "StatementMeta(sparkpool, 1, 167, Finished, Available, Finished)"
          },
          "metadata": {}
        },
        {
          "output_type": "stream",
          "name": "stdout",
          "text": [
            "root\n |-- VendorID: integer (nullable = true)\n |-- Passengercount: integer (nullable = true)\n |-- Tripdistance: double (nullable = true)\n |-- Pickuptime: timestamp (nullable = true)\n |-- Droptime: timestamp (nullable = true)\n |-- PickuplocationID: integer (nullable = true)\n |-- DroplocationID: integer (nullable = true)\n |-- Tripdistance: double (nullable = true)\n |-- fare_amount: double (nullable = true)\n |-- total_amount: double (nullable = true)\n |-- payment_type: integer (nullable = true)\n |-- trip_type: integer (nullable = true)\n |-- RatecodeID: integer (nullable = true)\n |-- Triptype: string (nullable = false)\n\n"
          ]
        }
      ],
      "execution_count": 223,
      "metadata": {
        "jupyter": {
          "source_hidden": false,
          "outputs_hidden": false
        },
        "nteract": {
          "transient": {
            "deleting": false
          }
        }
      }
    },
    {
      "cell_type": "code",
      "source": [
        "from pyspark.sql.functions import date_format\r\n",
        "\r\n",
        "# Format the timestamp to a 24-hour format\r\n",
        "df_formatted = df_with_timestamp.withColumn(\"Pickuptime\", date_format(col(\"date_timestamp\"), \"yyyy-MM-dd HH:mm:ss\"))\r\n",
        "df_formatted.show()\r\n"
      ],
      "outputs": [],
      "execution_count": null,
      "metadata": {
        "jupyter": {
          "source_hidden": false,
          "outputs_hidden": false
        },
        "nteract": {
          "transient": {
            "deleting": false
          }
        }
      }
    },
    {
      "cell_type": "code",
      "source": [
        "taxi_df_trans=taxi_df_final.withColumn(\"Tripyear\",year(\"Pickuptime\"))\r\n",
        "taxi_df_trans=taxi_df_final.withColumn(\"TripMonth\",month(\"Pickuptime\"))\r\n",
        "taxi_df_trans=taxi_df_final.withColumn(\"TripDay\",dayofmonth(\"Pickuptime\"))"
      ],
      "outputs": [
        {
          "output_type": "display_data",
          "data": {
            "application/vnd.livy.statement-meta+json": {
              "spark_pool": "sparkpool",
              "statement_id": 168,
              "statement_ids": [
                168
              ],
              "livy_statement_state": "available",
              "spark_jobs": null,
              "session_id": "1",
              "state": "finished",
              "normalized_state": "finished",
              "queued_time": "2024-07-18T07:55:03.7310619Z",
              "session_start_time": null,
              "execution_start_time": "2024-07-18T07:55:03.8413634Z",
              "execution_finish_time": "2024-07-18T07:55:03.9960033Z",
              "parent_msg_id": "28acd3a0-8ff5-48ee-a57b-1c6a308c45f1"
            },
            "text/plain": "StatementMeta(sparkpool, 1, 168, Finished, Available, Finished)"
          },
          "metadata": {}
        }
      ],
      "execution_count": 224,
      "metadata": {
        "jupyter": {
          "source_hidden": false,
          "outputs_hidden": false
        },
        "nteract": {
          "transient": {
            "deleting": false
          }
        }
      }
    },
    {
      "cell_type": "code",
      "source": [
        "taxi_df_trans.show()"
      ],
      "outputs": [
        {
          "output_type": "display_data",
          "data": {
            "application/vnd.livy.statement-meta+json": {
              "spark_pool": "sparkpool",
              "statement_id": 169,
              "statement_ids": [
                169
              ],
              "livy_statement_state": "available",
              "spark_jobs": null,
              "session_id": "1",
              "state": "finished",
              "normalized_state": "finished",
              "queued_time": "2024-07-18T07:55:06.0977555Z",
              "session_start_time": null,
              "execution_start_time": "2024-07-18T07:55:06.2137326Z",
              "execution_finish_time": "2024-07-18T07:55:10.1436121Z",
              "parent_msg_id": "bbeb212c-e336-45fa-9297-f88911ff55f3"
            },
            "text/plain": "StatementMeta(sparkpool, 1, 169, Finished, Available, Finished)"
          },
          "metadata": {}
        },
        {
          "output_type": "stream",
          "name": "stdout",
          "text": [
            "+--------+--------------+------------+-------------------+-------------------+----------------+--------------+------------+-----------+------------+------------+---------+----------+--------+-------+\n|VendorID|Passengercount|Tripdistance|         Pickuptime|           Droptime|PickuplocationID|DroplocationID|Tripdistance|fare_amount|total_amount|payment_type|trip_type|RatecodeID|Triptype|TripDay|\n+--------+--------------+------------+-------------------+-------------------+----------------+--------------+------------+-----------+------------+------------+---------+----------+--------+-------+\n|       2|             1|        1.44|2021-01-01 08:59:00|2021-01-01 09:04:13|              74|            75|        1.44|        6.5|        8.76|           1|        1|         1|SoloTrip|      1|\n|       1|             1|         0.8|2021-01-01 11:56:17|2021-01-01 11:58:47|              74|            75|         0.8|        4.5|         6.5|           1|        1|         1|SoloTrip|      1|\n|       2|             2|         1.1|2021-01-01 12:15:47|2021-01-01 12:23:19|               7|           179|         1.1|        7.0|         7.8|           2|        1|         1|SoloTrip|      1|\n|       2|             1|        7.15|2021-01-01 15:46:21|2021-01-01 16:25:28|             130|            61|        7.15|       28.5|        29.3|           1|        1|         1|SoloTrip|      1|\n|       2|             1|        1.77|2021-01-01 21:51:36|2021-01-01 21:59:26|              74|           168|        1.77|        8.0|         9.3|           1|        1|         1|SoloTrip|      1|\n|       2|             1|        5.32|2021-01-02 10:50:22|2021-01-02 11:07:11|              41|           143|        5.32|       18.5|       22.05|           2|        1|         1|SoloTrip|      2|\n|       2|             1|        2.34|2021-01-02 12:28:31|2021-01-02 12:43:20|              69|            41|        2.34|       12.0|        12.8|           2|        1|         1|SoloTrip|      2|\n|       2|             5|        0.93|2021-01-02 13:03:52|2021-01-02 13:07:21|              75|            74|        0.93|        5.0|         5.8|           2|        1|         1|SoloTrip|      2|\n|       2|             1|        1.64|2021-01-02 14:32:06|2021-01-02 14:40:26|              74|            75|        1.64|        8.0|       10.56|           1|        1|         1|SoloTrip|      2|\n|       2|             1|        8.61|2021-01-02 17:26:53|2021-01-02 17:55:41|             244|            90|        8.61|       29.0|       32.55|           2|        1|         1|SoloTrip|      2|\n|       2|             1|        3.11|2021-01-02 17:06:12|2021-01-02 17:18:09|              75|           142|        3.11|       12.0|       17.11|           1|        1|         1|SoloTrip|      2|\n|       2|             3|        2.15|2021-01-02 21:35:03|2021-01-02 21:48:19|             247|           147|        2.15|       10.0|        10.3|           2|        2|         5|SoloTrip|      2|\n|       2|             1|       10.43|2021-01-03 12:05:38|2021-01-03 12:26:34|             116|            92|       10.43|       30.0|       36.92|           2|        1|         1|SoloTrip|      3|\n|       2|             1|        2.03|2021-01-04 14:16:37|2021-01-04 14:31:42|              74|           151|        2.03|       11.5|        12.3|           2|        1|         1|SoloTrip|      4|\n|       1|             1|         0.5|2021-01-04 14:39:09|2021-01-04 14:44:53|              25|            33|         0.5|        5.5|         6.3|           2|        1|         1|SoloTrip|      4|\n|       2|             1|        0.99|2021-01-04 16:15:43|2021-01-04 16:21:43|              42|            74|        0.99|        6.0|         7.8|           2|        1|         1|SoloTrip|      4|\n|       2|             1|        0.96|2021-01-04 18:29:23|2021-01-04 18:31:43|              75|            74|        0.96|        4.5|        7.56|           1|        1|         1|SoloTrip|      4|\n|       2|             1|        2.62|2021-01-04 22:50:40|2021-01-04 22:59:12|              75|           140|        2.62|       10.0|       14.05|           2|        1|         1|SoloTrip|      4|\n|       2|             1|        0.86|2021-01-05 08:24:20|2021-01-05 08:28:31|              61|            61|        0.86|        5.0|         5.8|           2|        1|         1|SoloTrip|      5|\n|       1|             1|         5.2|2021-01-05 10:09:10|2021-01-05 10:34:15|              82|           141|         5.2|       20.0|       23.55|           2|        1|         1|SoloTrip|      5|\n+--------+--------------+------------+-------------------+-------------------+----------------+--------------+------------+-----------+------------+------------+---------+----------+--------+-------+\nonly showing top 20 rows\n\n"
          ]
        }
      ],
      "execution_count": 225,
      "metadata": {
        "jupyter": {
          "source_hidden": false,
          "outputs_hidden": false
        },
        "nteract": {
          "transient": {
            "deleting": false
          }
        }
      }
    },
    {
      "cell_type": "code",
      "source": [
        "# taxi_df_final= taxi_df_final.withColumn(\"Droptime\", to_timestamp(col(\"Droptime\"),'dd/MM/yyyy HH:mm'))\r\n",
        "# # df_with_timestamp.show()\r\n",
        "# taxi_df_final=taxi_df_final.withColumn(\"Pickuptime\",to_timestamp(col(\"Pickuptime\"),'dd/MM/yyyy HH:mm'))\r\n"
      ],
      "outputs": [
        {
          "output_type": "display_data",
          "data": {
            "application/vnd.livy.statement-meta+json": {
              "spark_pool": "sparkpool",
              "statement_id": 123,
              "statement_ids": [
                123
              ],
              "livy_statement_state": "available",
              "spark_jobs": null,
              "session_id": "1",
              "state": "finished",
              "normalized_state": "finished",
              "queued_time": "2024-07-18T07:35:28.8254376Z",
              "session_start_time": null,
              "execution_start_time": "2024-07-18T07:35:28.9395661Z",
              "execution_finish_time": "2024-07-18T07:35:29.10275Z",
              "parent_msg_id": "25183512-6c16-48c6-880b-4ce90242b879"
            },
            "text/plain": "StatementMeta(sparkpool, 1, 123, Finished, Available, Finished)"
          },
          "metadata": {}
        }
      ],
      "execution_count": 179,
      "metadata": {
        "jupyter": {
          "source_hidden": false,
          "outputs_hidden": false
        },
        "nteract": {
          "transient": {
            "deleting": false
          }
        }
      }
    },
    {
      "cell_type": "code",
      "source": [
        "taxi_df_trans.show()"
      ],
      "outputs": [
        {
          "output_type": "display_data",
          "data": {
            "application/vnd.livy.statement-meta+json": {
              "spark_pool": "sparkpool",
              "statement_id": 124,
              "statement_ids": [
                124
              ],
              "livy_statement_state": "available",
              "spark_jobs": null,
              "session_id": "1",
              "state": "finished",
              "normalized_state": "finished",
              "queued_time": "2024-07-18T07:35:37.5160811Z",
              "session_start_time": null,
              "execution_start_time": "2024-07-18T07:35:37.6299347Z",
              "execution_finish_time": "2024-07-18T07:35:41.5578566Z",
              "parent_msg_id": "05c218c1-e04c-4db0-a8ba-044dc62fe90d"
            },
            "text/plain": "StatementMeta(sparkpool, 1, 124, Finished, Available, Finished)"
          },
          "metadata": {}
        },
        {
          "output_type": "stream",
          "name": "stdout",
          "text": [
            "+--------+--------------+-------------+----------+--------+----------------+--------------+------------+-----------+------------+------------+---------+----------+-------+\n|VendorID|Passengercount|Tripdistances|Pickuptime|Droptime|PickuplocationID|DroplocationID|Tripdistance|fare_amount|total_amount|payment_type|trip_type|RatecodeID|TripDay|\n+--------+--------------+-------------+----------+--------+----------------+--------------+------------+-----------+------------+------------+---------+----------+-------+\n|       2|             1|         1.44|      null|    null|              74|            75|        1.44|        6.5|        8.76|           1|        1|         1|   null|\n|       1|             1|          0.8|      null|    null|              74|            75|         0.8|        4.5|         6.5|           1|        1|         1|   null|\n|       2|             2|          1.1|      null|    null|               7|           179|         1.1|        7.0|         7.8|           2|        1|         1|   null|\n|       2|             1|         7.15|      null|    null|             130|            61|        7.15|       28.5|        29.3|           1|        1|         1|   null|\n|       2|             1|         1.77|      null|    null|              74|           168|        1.77|        8.0|         9.3|           1|        1|         1|   null|\n|       2|             1|         5.32|      null|    null|              41|           143|        5.32|       18.5|       22.05|           2|        1|         1|   null|\n|       2|             1|         2.34|      null|    null|              69|            41|        2.34|       12.0|        12.8|           2|        1|         1|   null|\n|       2|             5|         0.93|      null|    null|              75|            74|        0.93|        5.0|         5.8|           2|        1|         1|   null|\n|       2|             1|         1.64|      null|    null|              74|            75|        1.64|        8.0|       10.56|           1|        1|         1|   null|\n|       2|             1|         8.61|      null|    null|             244|            90|        8.61|       29.0|       32.55|           2|        1|         1|   null|\n|       2|             1|         3.11|      null|    null|              75|           142|        3.11|       12.0|       17.11|           1|        1|         1|   null|\n|       2|             3|         2.15|      null|    null|             247|           147|        2.15|       10.0|        10.3|           2|        2|         5|   null|\n|       2|             1|        10.43|      null|    null|             116|            92|       10.43|       30.0|       36.92|           2|        1|         1|   null|\n|       2|             1|         2.03|      null|    null|              74|           151|        2.03|       11.5|        12.3|           2|        1|         1|   null|\n|       1|             1|          0.5|      null|    null|              25|            33|         0.5|        5.5|         6.3|           2|        1|         1|   null|\n|       2|             1|         0.99|      null|    null|              42|            74|        0.99|        6.0|         7.8|           2|        1|         1|   null|\n|       2|             1|         0.96|      null|    null|              75|            74|        0.96|        4.5|        7.56|           1|        1|         1|   null|\n|       2|             1|         2.62|      null|    null|              75|           140|        2.62|       10.0|       14.05|           2|        1|         1|   null|\n|       2|             1|         0.86|      null|    null|              61|            61|        0.86|        5.0|         5.8|           2|        1|         1|   null|\n|       1|             1|          5.2|      null|    null|              82|           141|         5.2|       20.0|       23.55|           2|        1|         1|   null|\n+--------+--------------+-------------+----------+--------+----------------+--------------+------------+-----------+------------+------------+---------+----------+-------+\nonly showing top 20 rows\n\n"
          ]
        }
      ],
      "execution_count": 180,
      "metadata": {
        "jupyter": {
          "source_hidden": false,
          "outputs_hidden": false
        },
        "nteract": {
          "transient": {
            "deleting": false
          }
        }
      }
    }
  ],
  "metadata": {
    "language_info": {
      "name": "python"
    },
    "kernelspec": {
      "name": "synapse_pyspark",
      "language": "Python",
      "display_name": "Synapse PySpark"
    },
    "kernel_info": {
      "name": "synapse_pyspark"
    },
    "save_output": true,
    "synapse_widget": {
      "version": "0.1",
      "state": {}
    }
  },
  "nbformat": 4,
  "nbformat_minor": 2
}