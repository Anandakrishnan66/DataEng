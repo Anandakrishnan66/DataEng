{
 "cells": [
  {
   "cell_type": "code",
   "execution_count": null,
   "metadata": {
    "application/vnd.databricks.v1+cell": {
     "cellMetadata": {
      "byteLimit": 2048000,
      "rowLimit": 10000
     },
     "inputWidgets": {},
     "nuid": "82f37ffd-99d2-45de-a648-763bcfb0e9c5",
     "showTitle": false,
     "title": ""
    }
   },
   "outputs": [],
   "source": [
    "from pyspark.sql import SparkSession\n",
    "\n",
    "cosmos_endpoint \n",
    "cosmos_master_key = \"==\"\n",
    "cosmos_database_name = \"Airbnb\"\n",
    "cosmos_container_name = \"gitss\"\n",
    "\n",
    "spark = SparkSession.builder \\\n",
    "    .appName(\"CosmosDBIntegration\") \\\n",
    "    .config(\"spark.cosmos.accountEndpoint\", cosmos_endpoint) \\\n",
    "    .config(\"spark.cosmos.accountKey\", cosmos_master_key) \\\n",
    "    .getOrCreate()\n",
    "\n",
    "read_config = {\n",
    "    \"spark.cosmos.accountEndpoint\": cosmos_endpoint,\n",
    "    \"spark.cosmos.accountKey\": cosmos_master_key,\n",
    "    \"spark.cosmos.database\": cosmos_database_name,\n",
    "    \"spark.cosmos.container\": cosmos_container_name,\n",
    "    \"spark.cosmos.read.customQuery\": \"SELECT * FROM c\"\n",
    "}\n",
    "\n",
    "write_config = {\n",
    "    \"spark.cosmos.accountEndpoint\": cosmos_endpoint,\n",
    "    \"spark.cosmos.accountKey\": cosmos_master_key,\n",
    "    \"spark.cosmos.database\": cosmos_database_name,\n",
    "    \"spark.cosmos.container\": cosmos_container_name\n",
    "}\n",
    "\n",
    "df_review = spark.read.format(\"cosmos.oltp\").options(**read_config).load()\n",
    "df_review.show()"
   ]
  },
  {
   "cell_type": "code",
   "execution_count": null,
   "metadata": {
    "application/vnd.databricks.v1+cell": {
     "cellMetadata": {
      "byteLimit": 2048000,
      "rowLimit": 10000
     },
     "inputWidgets": {},
     "nuid": "d6a3c52a-cf57-4de6-8957-87cfec4d3642",
     "showTitle": false,
     "title": ""
    }
   },
   "outputs": [],
   "source": [
    "df_review=df_review.drop(\"id\")"
   ]
  },
  {
   "cell_type": "code",
   "execution_count": null,
   "metadata": {
    "application/vnd.databricks.v1+cell": {
     "cellMetadata": {
      "byteLimit": 2048000,
      "rowLimit": 10000
     },
     "inputWidgets": {},
     "nuid": "5b5c89e1-af8b-4882-9723-d834386cd35a",
     "showTitle": false,
     "title": ""
    }
   },
   "outputs": [],
   "source": [
    "from pyspark.sql import SparkSession\n",
    "\n",
    "\n",
    "cosmos_endpoint =\n",
    "cosmos_master_key = \"\"\n",
    "cosmos_database_name = \"Airbnb\"\n",
    "cosmos_container_name = \"sqls\"\n",
    "\n",
    "read_config = {\n",
    "    \"spark.cosmos.accountEndpoint\": cosmos_endpoint,\n",
    "    \"spark.cosmos.accountKey\": cosmos_master_key,\n",
    "    \"spark.cosmos.database\": cosmos_database_name,\n",
    "    \"spark.cosmos.container\": cosmos_container_name,\n",
    "    \"spark.cosmos.read.customQuery\": \"SELECT * FROM c\"\n",
    "}\n",
    "\n",
    "\n",
    "write_config = {\n",
    "    \"spark.cosmos.accountEndpoint\": cosmos_endpoint,\n",
    "    \"spark.cosmos.accountKey\": cosmos_master_key,\n",
    "    \"spark.cosmos.database\": cosmos_database_name,\n",
    "    \"spark.cosmos.container\": cosmos_container_name\n",
    "}\n",
    "\n",
    "df_listing_1 = spark.read.format(\"cosmos.oltp\").options(**read_config).load()\n",
    "\n",
    "\n",
    "display(df_listing_1)"
   ]
  },
  {
   "cell_type": "code",
   "execution_count": null,
   "metadata": {
    "application/vnd.databricks.v1+cell": {
     "cellMetadata": {
      "byteLimit": 2048000,
      "rowLimit": 10000
     },
     "inputWidgets": {},
     "nuid": "0d0fe54b-7ff5-42de-9355-5c0a411d4386",
     "showTitle": false,
     "title": ""
    }
   },
   "outputs": [],
   "source": [
    "df_listing_1=df_listing_1.drop(\"id\")"
   ]
  },
  {
   "cell_type": "code",
   "execution_count": null,
   "metadata": {
    "application/vnd.databricks.v1+cell": {
     "cellMetadata": {
      "byteLimit": 2048000,
      "rowLimit": 10000
     },
     "inputWidgets": {},
     "nuid": "ffa6f5e6-60c3-4da2-a0dc-3eb76c369b93",
     "showTitle": false,
     "title": ""
    }
   },
   "outputs": [],
   "source": [
    "from pyspark.sql import SparkSession\n",
    "\n",
    "cosmos_endpoint = \"\n",
    "cosmos_master_key = \"\"\n",
    "cosmos_database_name = \"Airbnb\"\n",
    "cosmos_container_name = \"lakes\"\n",
    "\n",
    "spark = SparkSession.builder \\\n",
    "    .appName(\"CosmosDBIntegration\") \\\n",
    "    .config(\"spark.cosmos.accountEndpoint\", cosmos_endpoint) \\\n",
    "    .config(\"spark.cosmos.accountKey\", cosmos_master_key) \\\n",
    "    .getOrCreate()\n",
    "\n",
    "read_config = {\n",
    "    \"spark.cosmos.accountEndpoint\": cosmos_endpoint,\n",
    "    \"spark.cosmos.accountKey\": cosmos_master_key,\n",
    "    \"spark.cosmos.database\": cosmos_database_name,\n",
    "    \"spark.cosmos.container\": cosmos_container_name,\n",
    "    \"spark.cosmos.read.customQuery\": \"SELECT * FROM c\"\n",
    "}\n",
    "\n",
    "write_config = {\n",
    "    \"spark.cosmos.accountEndpoint\": cosmos_endpoint,\n",
    "    \"spark.cosmos.accountKey\": cosmos_master_key,\n",
    "    \"spark.cosmos.database\": cosmos_database_name,\n",
    "    \"spark.cosmos.container\": cosmos_container_name\n",
    "}\n",
    "\n",
    "df_listings_fin= spark.read.format(\"cosmos.oltp\").options(**read_config).load()\n",
    "df_listing_2=df_listings_fin\n",
    "display(df_listing_2)"
   ]
  },
  {
   "cell_type": "code",
   "execution_count": null,
   "metadata": {
    "application/vnd.databricks.v1+cell": {
     "cellMetadata": {
      "byteLimit": 2048000,
      "rowLimit": 10000
     },
     "inputWidgets": {},
     "nuid": "eb3417b7-f3ca-40ab-9bfd-4a9a4b769326",
     "showTitle": false,
     "title": ""
    }
   },
   "outputs": [],
   "source": [
    "df_listing_2=df_listing_2.drop(\"id\")"
   ]
  },
  {
   "cell_type": "code",
   "execution_count": null,
   "metadata": {
    "application/vnd.databricks.v1+cell": {
     "cellMetadata": {
      "byteLimit": 2048000,
      "rowLimit": 10000
     },
     "inputWidgets": {},
     "nuid": "8afc940a-ef66-44ef-b26e-f172f8cbae33",
     "showTitle": false,
     "title": ""
    }
   },
   "outputs": [],
   "source": [
    "df_listing_1.printSchema()"
   ]
  },
  {
   "cell_type": "code",
   "execution_count": null,
   "metadata": {
    "application/vnd.databricks.v1+cell": {
     "cellMetadata": {
      "byteLimit": 2048000,
      "rowLimit": 10000
     },
     "inputWidgets": {},
     "nuid": "012a9f9e-a9a2-45bc-afd6-034814107235",
     "showTitle": false,
     "title": ""
    }
   },
   "outputs": [],
   "source": [
    "df_listing_2.printSchema()"
   ]
  },
  {
   "cell_type": "code",
   "execution_count": null,
   "metadata": {
    "application/vnd.databricks.v1+cell": {
     "cellMetadata": {
      "byteLimit": 2048000,
      "rowLimit": 10000
     },
     "inputWidgets": {},
     "nuid": "32f36548-1ab2-4a0b-be15-8bc42757696e",
     "showTitle": false,
     "title": ""
    }
   },
   "outputs": [],
   "source": [
    "from pyspark.sql import SparkSession\n",
    "\n",
    "# Initialize SparkSession\n",
    "spark = SparkSession.builder.appName(\"SchemaCorrection\").getOrCreate()\n",
    "\n",
    "# Assuming df1 is the first dataframe\n",
    "# Rename columns in the first dataframe to match the second dataframe\n",
    "df_listing_1= df_listing_1.withColumnRenamed(\"host_listing_total_count\", \"host_total_listing_count\")\\\n",
    ".withColumnRenamed(\"accommodates\",\"accomodates\")\n",
    "\n",
    "\n",
    "# Select and reorder columns to match the second dataframe schema\n",
    "df_listing_1 = df_listing_1.select(\n",
    "    \"bedrooms\",\n",
    "    \"instant_bookable\",\n",
    "    \"host_total_listing_count\",\n",
    "    \"city\",\n",
    "    \"name\",\n",
    "    \"review_id\",\n",
    "    \"room_type\",\n",
    "    \"latitude\",\n",
    "    \"listing_id\",\n",
    "    \"property_type\",\n",
    "    \"price\",\n",
    "    \"host_has_profile_pic\",\n",
    "    \"host_acceptance_rate\",\n",
    "    \"host_identity_verified\",\n",
    "    \"longitude\",\n",
    "    \"review_scores_cleanliness\",\n",
    "    \"review_scores_communication\",\n",
    "    \"review_scores_value\",\n",
    "    \"review_scores_checkin\",\n",
    "    \"host_id\",\n",
    "    \"amenities\",\n",
    "    \"host_response_rate\",\n",
    "    \"host_since\",\n",
    "    \"host_is_superhost\",\n",
    "    \"review_scores_accuracy\",\n",
    "    \"host_response_time\",\n",
    "    \"minimum_nights\",\n",
    "    \"district\",\n",
    "    \"neighbourhood\",\n",
    "    \"host_location\",\n",
    "    \"maximum_nights\",\n",
    "    \"review_scores_location\",\n",
    "    \"accomodates\",\n",
    "    \"review_scores_rating\"\n",
    ")\n",
    "\n",
    "\n"
   ]
  },
  {
   "cell_type": "code",
   "execution_count": null,
   "metadata": {
    "application/vnd.databricks.v1+cell": {
     "cellMetadata": {
      "byteLimit": 2048000,
      "rowLimit": 10000
     },
     "inputWidgets": {},
     "nuid": "2505a607-030c-4f0b-9c76-e58d5b8497eb",
     "showTitle": false,
     "title": ""
    }
   },
   "outputs": [],
   "source": [
    "\n",
    "from pyspark.sql.functions import *\n",
    "\n",
    "\n",
    "df_listing_2 = df_listing_2.withColumn(\n",
    "    \"property_type\",\n",
    "    when(col(\"listing_id\") > 2000000, \"entire place\").otherwise(col(\"property_type\"))\n",
    ")\n",
    "\n",
    "\n",
    "# display(df_listing_2.select(\"property_type\").distinct())\n"
   ]
  },
  {
   "cell_type": "code",
   "execution_count": null,
   "metadata": {
    "application/vnd.databricks.v1+cell": {
     "cellMetadata": {
      "byteLimit": 2048000,
      "rowLimit": 10000
     },
     "inputWidgets": {},
     "nuid": "8c6840b3-2d3e-44e5-a4d1-5138347d91ca",
     "showTitle": false,
     "title": ""
    }
   },
   "outputs": [],
   "source": [
    "from pyspark.sql.functions import col\n",
    "from pyspark.sql.types import IntegerType, DoubleType\n",
    "\n",
    "\n",
    "df_listing_2_cast = df_listing_2 \\\n",
    "    .withColumn(\"bedrooms\", col(\"bedrooms\").cast(IntegerType())) \\\n",
    "    .withColumn(\"host_total_listing_count\", col(\"host_total_listing_count\").cast(IntegerType())) \\\n",
    "    .withColumn(\"review_id\", col(\"review_id\").cast(IntegerType())) \\\n",
    "    .withColumn(\"latitude\", col(\"latitude\").cast(DoubleType())) \\\n",
    "    .withColumn(\"listing_id\", col(\"listing_id\").cast(IntegerType())) \\\n",
    "    .withColumn(\"price\", col(\"price\").cast(IntegerType())) \\\n",
    "    .withColumn(\"review_scores_cleanliness\", col(\"review_scores_cleanliness\").cast(IntegerType())) \\\n",
    "    .withColumn(\"review_scores_communication\", col(\"review_scores_communication\").cast(IntegerType())) \\\n",
    "    .withColumn(\"review_scores_value\", col(\"review_scores_value\").cast(IntegerType())) \\\n",
    "    .withColumn(\"review_scores_checkin\", col(\"review_scores_checkin\").cast(IntegerType())) \\\n",
    "    .withColumn(\"host_id\", col(\"host_id\").cast(IntegerType())) \\\n",
    "    .withColumn(\"minimum_nights\", col(\"minimum_nights\").cast(IntegerType())) \\\n",
    "    .withColumn(\"maximum_nights\", col(\"maximum_nights\").cast(IntegerType())) \\\n",
    "    .withColumn(\"review_scores_location\", col(\"review_scores_location\").cast(IntegerType())) \\\n",
    "    .withColumn(\"accomodates\", col(\"accomodates\").cast(IntegerType())) \\\n",
    "    .withColumn(\"review_scores_rating\", col(\"review_scores_rating\").cast(IntegerType())) \\\n",
    "    .withColumn(\"host_acceptance_rate\", col(\"host_acceptance_rate\").cast(IntegerType())) \\\n",
    "    .withColumn(\"review_scores_accuracy\", col(\"review_scores_accuracy\").cast(IntegerType()))\n"
   ]
  },
  {
   "cell_type": "code",
   "execution_count": null,
   "metadata": {
    "application/vnd.databricks.v1+cell": {
     "cellMetadata": {
      "byteLimit": 2048000,
      "rowLimit": 10000
     },
     "inputWidgets": {},
     "nuid": "dbb6e42a-2276-470f-9e2b-f66f8927f846",
     "showTitle": false,
     "title": ""
    }
   },
   "outputs": [],
   "source": [
    "df_listing_1_par=df_listing_1.repartition(5)\n",
    "df_listing_2_par=df_listing_2_cast.repartition(5)\n",
    "df_listing_1_par.cache()\n",
    "df_listing_2_par.cache()"
   ]
  },
  {
   "cell_type": "code",
   "execution_count": null,
   "metadata": {
    "application/vnd.databricks.v1+cell": {
     "cellMetadata": {
      "byteLimit": 2048000,
      "rowLimit": 10000
     },
     "inputWidgets": {},
     "nuid": "6d72e96d-52b0-4d42-b6b0-4a5886a1d0fa",
     "showTitle": false,
     "title": ""
    }
   },
   "outputs": [
    {
     "data": {
      "text/plain": [
       "4179"
      ]
     },
     "execution_count": 12,
     "metadata": {},
     "output_type": "execute_result"
    }
   ],
   "source": [
    "# df_listing_1_par.count()"
   ]
  },
  {
   "cell_type": "code",
   "execution_count": null,
   "metadata": {
    "application/vnd.databricks.v1+cell": {
     "cellMetadata": {
      "byteLimit": 2048000,
      "rowLimit": 10000
     },
     "inputWidgets": {},
     "nuid": "eeb1ec84-9d6b-468d-a66b-92cb8d581588",
     "showTitle": false,
     "title": ""
    }
   },
   "outputs": [
    {
     "data": {
      "text/plain": [
       "10000"
      ]
     },
     "execution_count": 13,
     "metadata": {},
     "output_type": "execute_result"
    }
   ],
   "source": [
    "# df_listing_2_par.count()"
   ]
  },
  {
   "cell_type": "code",
   "execution_count": null,
   "metadata": {
    "application/vnd.databricks.v1+cell": {
     "cellMetadata": {
      "byteLimit": 2048000,
      "rowLimit": 10000
     },
     "inputWidgets": {},
     "nuid": "8de2bf45-ad82-4b54-911b-c40299d56005",
     "showTitle": false,
     "title": ""
    }
   },
   "outputs": [],
   "source": [
    "df_listing=df_listing_2_par.union(df_listing_1_par)"
   ]
  },
  {
   "cell_type": "code",
   "execution_count": null,
   "metadata": {
    "application/vnd.databricks.v1+cell": {
     "cellMetadata": {
      "byteLimit": 2048000,
      "rowLimit": 10000
     },
     "inputWidgets": {},
     "nuid": "cf52a87e-f3c1-4714-9459-6204e4a15f92",
     "showTitle": false,
     "title": ""
    }
   },
   "outputs": [],
   "source": [
    "# df_listing.count()"
   ]
  },
  {
   "cell_type": "code",
   "execution_count": null,
   "metadata": {
    "application/vnd.databricks.v1+cell": {
     "cellMetadata": {
      "byteLimit": 2048000,
      "rowLimit": 10000
     },
     "inputWidgets": {},
     "nuid": "7a7c18f5-8361-4285-a329-2b1e6508590e",
     "showTitle": false,
     "title": ""
    }
   },
   "outputs": [],
   "source": [
    "# df_listing.toPandas().isnull().any()"
   ]
  },
  {
   "cell_type": "code",
   "execution_count": null,
   "metadata": {
    "application/vnd.databricks.v1+cell": {
     "cellMetadata": {
      "byteLimit": 2048000,
      "rowLimit": 10000
     },
     "inputWidgets": {},
     "nuid": "a908531f-196b-4c24-af12-bd4e3bc14835",
     "showTitle": false,
     "title": ""
    }
   },
   "outputs": [],
   "source": [
    "from pyspark.sql.functions import col, to_date, date_format\n",
    "\n",
    "df_listing = df_listing.withColumn(\"host_since_date\", to_date(col(\"host_since\"), 'dd-MM-yyyy')) \n",
    "  \n",
    "\n",
    "\n",
    "# display(df_listing)\n"
   ]
  },
  {
   "cell_type": "code",
   "execution_count": null,
   "metadata": {
    "application/vnd.databricks.v1+cell": {
     "cellMetadata": {
      "byteLimit": 2048000,
      "rowLimit": 10000
     },
     "inputWidgets": {},
     "nuid": "8adf9b26-80ca-457d-a035-dda2403d6bc4",
     "showTitle": false,
     "title": ""
    }
   },
   "outputs": [],
   "source": [
    "import random\n",
    "from pyspark.sql.functions import col, udf, when\n",
    "from pyspark.sql.types import StringType\n",
    "from datetime import datetime\n",
    "\n",
    "# Function to generate a random date\n",
    "def random_date(year: int):\n",
    "    month = random.randint(1, 12)\n",
    "    day = random.randint(1, 28)  # To avoid issues with month length\n",
    "    return datetime(year, month, day).strftime('%Y-%m-%d')\n",
    "\n",
    "# UDF to generate a random date string\n",
    "random_date_udf = udf(lambda: random_date(random.randint(2000, 2025)), StringType())\n",
    "\n",
    "# UDF to replace null values with a random date\n",
    "def replace_null_with_random_date(date_value):\n",
    "    if date_value is None:\n",
    "        return random_date(random.randint(2000, 2025))\n",
    "    return date_value\n",
    "\n",
    "replace_null_udf = udf(replace_null_with_random_date, StringType())\n",
    "\n",
    "# Replace null values in 'host_since' with random dates\n",
    "df_listing = df_listing.withColumn(\n",
    "    'host_since_date',\n",
    "    when(col('host_since_date').isNull(), replace_null_udf(col('host_since_date'))).otherwise(col('host_since_date'))\n",
    ")\n",
    "\n",
    "# Convert the 'host_since' column to DateType\n",
    "df_listing = df_listing.withColumn(\n",
    "    'host_since_date',\n",
    "    to_date(col('host_since_date'), 'yyyy-MM-dd')\n",
    ")\n"
   ]
  },
  {
   "cell_type": "code",
   "execution_count": null,
   "metadata": {
    "application/vnd.databricks.v1+cell": {
     "cellMetadata": {
      "byteLimit": 2048000,
      "rowLimit": 10000
     },
     "inputWidgets": {},
     "nuid": "51aa578d-6993-4533-a3c6-40cef005350d",
     "showTitle": false,
     "title": ""
    }
   },
   "outputs": [],
   "source": [
    "from pyspark.sql.functions import col, date_format\n",
    "\n",
    "df_listing = df_listing \\\n",
    "    .withColumn(\"host_since_year\", date_format(col(\"host_since_date\"), 'yyyy')) \\\n",
    "    .withColumn(\"host_since_month\", date_format(col(\"host_since_date\"), 'MM')) \\\n",
    "    .withColumn(\"host_since_day\", date_format(col(\"host_since_date\"), 'dd'))"
   ]
  },
  {
   "cell_type": "code",
   "execution_count": null,
   "metadata": {
    "application/vnd.databricks.v1+cell": {
     "cellMetadata": {},
     "inputWidgets": {},
     "nuid": "c39122e8-de28-4925-8a67-b72c4bbb7b1f",
     "showTitle": false,
     "title": ""
    }
   },
   "outputs": [],
   "source": []
  },
  {
   "cell_type": "code",
   "execution_count": null,
   "metadata": {
    "application/vnd.databricks.v1+cell": {
     "cellMetadata": {
      "byteLimit": 2048000,
      "rowLimit": 10000
     },
     "inputWidgets": {},
     "nuid": "866a1d28-72b7-4ea3-a77c-40a85888511e",
     "showTitle": false,
     "title": ""
    }
   },
   "outputs": [],
   "source": [
    "list=[]\n",
    "for field in df_listing.schema.fields:\n",
    "    list.append([f\"Column: {field.name}\", f\"Type: {field.dataType.simpleString()}\", f\"Null_values; {df_listing.select(field.name).toPandas().isnull().sum()}\"])\n",
    "\n",
    "\n"
   ]
  },
  {
   "cell_type": "code",
   "execution_count": null,
   "metadata": {
    "application/vnd.databricks.v1+cell": {
     "cellMetadata": {
      "byteLimit": 2048000,
      "rowLimit": 10000
     },
     "inputWidgets": {},
     "nuid": "e8aa0a47-20db-40cb-ad0d-e7b44304ebce",
     "showTitle": false,
     "title": ""
    }
   },
   "outputs": [],
   "source": [
    "df_listing_fill = df_listing\n",
    "for i in range(len(list)):\n",
    "    column_name = list[i][0].split(\":\")[1].strip()\n",
    "    types = list[i][1].split(\":\")[1].strip()\n",
    "    if types == \"string\":\n",
    "        df_listing_fill = df_listing_fill.fillna({column_name: \"n/a\"})\n",
    "    elif types in [\"int\", \"float\",\"integer\"]:\n",
    "        df_listing_fill = df_listing_fill.fillna({column_name: 0})"
   ]
  },
  {
   "cell_type": "code",
   "execution_count": null,
   "metadata": {
    "application/vnd.databricks.v1+cell": {
     "cellMetadata": {
      "byteLimit": 2048000,
      "rowLimit": 10000
     },
     "inputWidgets": {},
     "nuid": "262f98a4-b153-4544-93b2-3c7a90dc36dd",
     "showTitle": false,
     "title": ""
    }
   },
   "outputs": [],
   "source": [
    "df_listing_fill=df_listing_fill.drop(\"host_response_rate\")\n",
    "df_listing_fill=df_listing_fill.drop(\"host_response_time\")"
   ]
  },
  {
   "cell_type": "code",
   "execution_count": null,
   "metadata": {
    "application/vnd.databricks.v1+cell": {
     "cellMetadata": {
      "byteLimit": 2048000,
      "rowLimit": 10000
     },
     "inputWidgets": {},
     "nuid": "098c1d4f-43b9-4a6f-9570-d44d913b6148",
     "showTitle": false,
     "title": ""
    }
   },
   "outputs": [],
   "source": [
    "# df_listing_fill=df_listing_fill.drop(\"host_has_profile_pic\")\n",
    "df_listing_fill=df_listing_fill.drop(\"host_since\")"
   ]
  },
  {
   "cell_type": "code",
   "execution_count": null,
   "metadata": {
    "application/vnd.databricks.v1+cell": {
     "cellMetadata": {
      "byteLimit": 2048000,
      "rowLimit": 10000
     },
     "inputWidgets": {},
     "nuid": "a1b46299-9fd6-4e7a-bc3c-4b6ef772f3b7",
     "showTitle": false,
     "title": ""
    }
   },
   "outputs": [],
   "source": [
    "df_review.write.mode(\"overwrite\").format(\"parquet\").save(\"/Volumes/daatbricks2000/default/airbnb_final/reviewsparquet/\")"
   ]
  },
  {
   "cell_type": "code",
   "execution_count": null,
   "metadata": {
    "application/vnd.databricks.v1+cell": {
     "cellMetadata": {
      "byteLimit": 2048000,
      "rowLimit": 10000
     },
     "inputWidgets": {},
     "nuid": "22e4c48e-9b26-4f3b-b9c2-0e49044566ab",
     "showTitle": false,
     "title": ""
    }
   },
   "outputs": [],
   "source": [
    "df_listing_fill.write.mode(\"overwrite\").format(\"parquet\").save(\"/Volumes/daatbricks2000/default/airbnb_final/listingparquet/\")"
   ]
  },
  {
   "cell_type": "code",
   "execution_count": null,
   "metadata": {
    "application/vnd.databricks.v1+cell": {
     "cellMetadata": {
      "byteLimit": 2048000,
      "rowLimit": 10000
     },
     "inputWidgets": {},
     "nuid": "08f26fa0-e445-4c5c-9666-9c4942d47382",
     "showTitle": false,
     "title": ""
    }
   },
   "outputs": [],
   "source": [
    "df_listing_parquet=spark.read.parquet(\"/Volumes/daatbricks2000/default/airbnb_final/listingparquet/*parquet\")"
   ]
  },
  {
   "cell_type": "code",
   "execution_count": null,
   "metadata": {
    "application/vnd.databricks.v1+cell": {
     "cellMetadata": {
      "byteLimit": 2048000,
      "rowLimit": 10000
     },
     "inputWidgets": {},
     "nuid": "a02a06fe-78e1-4fbc-9e97-0a6e600d7788",
     "showTitle": false,
     "title": ""
    }
   },
   "outputs": [],
   "source": [
    "df_review_parquet=spark.read.parquet(\"/Volumes/daatbricks2000/default/airbnb_final/reviewsparquet/*parquet\")"
   ]
  },
  {
   "cell_type": "code",
   "execution_count": null,
   "metadata": {
    "application/vnd.databricks.v1+cell": {
     "cellMetadata": {},
     "inputWidgets": {},
     "nuid": "5f565bda-c7c9-46da-85d4-947ba1c4c038",
     "showTitle": false,
     "title": ""
    }
   },
   "outputs": [
    {
     "data": {
      "text/plain": [
       "14179"
      ]
     },
     "execution_count": 70,
     "metadata": {},
     "output_type": "execute_result"
    }
   ],
   "source": [
    "df_listing_parquet.count()"
   ]
  },
  {
   "cell_type": "code",
   "execution_count": null,
   "metadata": {
    "application/vnd.databricks.v1+cell": {
     "cellMetadata": {
      "byteLimit": 2048000,
      "rowLimit": 10000
     },
     "inputWidgets": {},
     "nuid": "81c74afb-efdc-4e30-af44-fcccc30a6734",
     "showTitle": false,
     "title": ""
    }
   },
   "outputs": [
    {
     "data": {
      "text/plain": [
       "21349"
      ]
     },
     "execution_count": 71,
     "metadata": {},
     "output_type": "execute_result"
    }
   ],
   "source": [
    "df_review_parquet.select(\"listing_id\").distinct().count()"
   ]
  },
  {
   "cell_type": "code",
   "execution_count": null,
   "metadata": {
    "application/vnd.databricks.v1+cell": {
     "cellMetadata": {
      "byteLimit": 2048000,
      "rowLimit": 10000
     },
     "inputWidgets": {},
     "nuid": "30071c14-dfb1-4640-831f-4bce0c844cc8",
     "showTitle": false,
     "title": ""
    }
   },
   "outputs": [],
   "source": [
    "df_listing_parquet=df_listing_parquet.drop(\"review_id\")"
   ]
  },
  {
   "cell_type": "code",
   "execution_count": null,
   "metadata": {
    "application/vnd.databricks.v1+cell": {
     "cellMetadata": {
      "byteLimit": 2048000,
      "rowLimit": 10000
     },
     "inputWidgets": {},
     "nuid": "611b2ed5-9178-456d-b8a1-d5d7d8f2657b",
     "showTitle": false,
     "title": ""
    }
   },
   "outputs": [],
   "source": [
    "airbnb_data=df_review_parquet.join(broadcast(df_listing_parquet),on=(\"listing_id\"),how=\"right\")"
   ]
  },
  {
   "cell_type": "code",
   "execution_count": null,
   "metadata": {
    "application/vnd.databricks.v1+cell": {
     "cellMetadata": {
      "byteLimit": 2048000,
      "rowLimit": 10000
     },
     "inputWidgets": {},
     "nuid": "9588db25-3dae-42d6-8d20-d4c66f0ebdc5",
     "showTitle": false,
     "title": ""
    }
   },
   "outputs": [],
   "source": [
    "airbnb_data.toPandas().isnull().any()"
   ]
  },
  {
   "cell_type": "code",
   "execution_count": null,
   "metadata": {
    "application/vnd.databricks.v1+cell": {
     "cellMetadata": {
      "byteLimit": 2048000,
      "rowLimit": 10000
     },
     "inputWidgets": {},
     "nuid": "bba25f10-36cb-4908-aca6-b8fce8f164a0",
     "showTitle": false,
     "title": ""
    }
   },
   "outputs": [],
   "source": [
    "display(airbnb_data)"
   ]
  },
  {
   "cell_type": "code",
   "execution_count": null,
   "metadata": {
    "application/vnd.databricks.v1+cell": {
     "cellMetadata": {
      "byteLimit": 2048000,
      "rowLimit": 10000
     },
     "inputWidgets": {},
     "nuid": "d9fcf395-41d7-4f24-a41f-b34a734c8cd6",
     "showTitle": false,
     "title": ""
    }
   },
   "outputs": [],
   "source": [
    "df_split = airbnb_data\\\n",
    "    .withColumn(\"country\", when(length(col(\"host_location\")) > 2, split(col(\"host_location\"), \", \")[2]).otherwise(\"unknown\"))\n",
    "airbnb_data=df_split\n"
   ]
  },
  {
   "cell_type": "code",
   "execution_count": null,
   "metadata": {
    "application/vnd.databricks.v1+cell": {
     "cellMetadata": {
      "byteLimit": 2048000,
      "rowLimit": 10000
     },
     "inputWidgets": {},
     "nuid": "a29a4d85-9179-4807-b2ac-994409c91f54",
     "showTitle": false,
     "title": ""
    }
   },
   "outputs": [],
   "source": [
    "display(df_split)"
   ]
  },
  {
   "cell_type": "code",
   "execution_count": null,
   "metadata": {
    "application/vnd.databricks.v1+cell": {
     "cellMetadata": {
      "byteLimit": 2048000,
      "rowLimit": 10000
     },
     "inputWidgets": {},
     "nuid": "620b4849-c91a-43cf-9efd-0eee66b97d30",
     "showTitle": false,
     "title": ""
    }
   },
   "outputs": [],
   "source": [
    "display(airbnb_data)"
   ]
  },
  {
   "cell_type": "code",
   "execution_count": null,
   "metadata": {
    "application/vnd.databricks.v1+cell": {
     "cellMetadata": {
      "byteLimit": 2048000,
      "rowLimit": 10000
     },
     "inputWidgets": {},
     "nuid": "a181b528-505e-4d51-bb77-99c6c0ed5f44",
     "showTitle": false,
     "title": ""
    }
   },
   "outputs": [],
   "source": [
    "airbnb_data= airbnb_data.withColumn(\"date_reviewed\", to_date(col(\"date\"), 'dd-MM-yyyy')) \\\n",
    "    .withColumn(\"year_reviewed\", date_format(col(\"date_reviewed\"), 'yyyy')) \\\n",
    "    .withColumn(\"month_reviewed\", date_format(col(\"date_reviewed\"), 'MM')) \\\n",
    "    .withColumn(\"day_reviewed\", date_format(col(\"date_reviewed\"), 'dd'))"
   ]
  },
  {
   "cell_type": "code",
   "execution_count": null,
   "metadata": {
    "application/vnd.databricks.v1+cell": {
     "cellMetadata": {
      "byteLimit": 2048000,
      "rowLimit": 10000
     },
     "inputWidgets": {},
     "nuid": "9615adda-9c86-410e-bfe9-2634e2ed2c4b",
     "showTitle": false,
     "title": ""
    }
   },
   "outputs": [],
   "source": [
    "display(airbnb_data)"
   ]
  },
  {
   "cell_type": "code",
   "execution_count": null,
   "metadata": {
    "application/vnd.databricks.v1+cell": {
     "cellMetadata": {
      "byteLimit": 2048000,
      "rowLimit": 10000
     },
     "inputWidgets": {},
     "nuid": "7905121b-faa9-4fbd-8a82-cd3b15a036a4",
     "showTitle": false,
     "title": ""
    }
   },
   "outputs": [],
   "source": [
    "airbnb_data.toPandas().isnull().sum()"
   ]
  },
  {
   "cell_type": "code",
   "execution_count": null,
   "metadata": {
    "application/vnd.databricks.v1+cell": {
     "cellMetadata": {
      "byteLimit": 2048000,
      "rowLimit": 10000
     },
     "inputWidgets": {},
     "nuid": "86218b76-47d0-4d88-a6cc-1df421dc1708",
     "showTitle": false,
     "title": ""
    }
   },
   "outputs": [],
   "source": [
    "airbnb_data=airbnb_data.withColumn(\"country\",when(isnull(col(\"country\")),\"unknown\").otherwise(col(\"country\")))"
   ]
  },
  {
   "cell_type": "code",
   "execution_count": null,
   "metadata": {
    "application/vnd.databricks.v1+cell": {
     "cellMetadata": {
      "byteLimit": 2048000,
      "rowLimit": 10000
     },
     "inputWidgets": {},
     "nuid": "b906ed97-ca57-4372-8208-4f188269d21e",
     "showTitle": false,
     "title": ""
    }
   },
   "outputs": [],
   "source": [
    "airbnb_data.toPandas().isnull().sum()"
   ]
  },
  {
   "cell_type": "code",
   "execution_count": null,
   "metadata": {
    "application/vnd.databricks.v1+cell": {
     "cellMetadata": {
      "byteLimit": 2048000,
      "rowLimit": 10000
     },
     "inputWidgets": {},
     "nuid": "cae81212-2beb-4887-a610-cad5ba062ead",
     "showTitle": false,
     "title": ""
    }
   },
   "outputs": [],
   "source": [
    "display(airbnb_data)"
   ]
  },
  {
   "cell_type": "code",
   "execution_count": null,
   "metadata": {
    "application/vnd.databricks.v1+cell": {
     "cellMetadata": {
      "byteLimit": 2048000,
      "rowLimit": 10000
     },
     "inputWidgets": {},
     "nuid": "4bca2438-474e-47c3-b2b4-0670f10947d7",
     "showTitle": false,
     "title": ""
    }
   },
   "outputs": [],
   "source": [
    "airbnb_data.printSchema()"
   ]
  },
  {
   "cell_type": "code",
   "execution_count": null,
   "metadata": {
    "application/vnd.databricks.v1+cell": {
     "cellMetadata": {
      "byteLimit": 2048000,
      "rowLimit": 10000
     },
     "inputWidgets": {},
     "nuid": "1b3fcf18-05ea-4b51-aa19-d9533d6893dc",
     "showTitle": false,
     "title": ""
    }
   },
   "outputs": [],
   "source": [
    "airbnb_data=airbnb_data.drop(\"date\")"
   ]
  },
  {
   "cell_type": "code",
   "execution_count": null,
   "metadata": {
    "application/vnd.databricks.v1+cell": {
     "cellMetadata": {
      "byteLimit": 2048000,
      "rowLimit": 10000
     },
     "inputWidgets": {},
     "nuid": "438cc44a-b649-4334-b87e-c4522476b4c9",
     "showTitle": false,
     "title": ""
    }
   },
   "outputs": [],
   "source": [
    "airbnb_data.dtypes"
   ]
  },
  {
   "cell_type": "code",
   "execution_count": null,
   "metadata": {
    "application/vnd.databricks.v1+cell": {
     "cellMetadata": {
      "byteLimit": 2048000,
      "rowLimit": 10000
     },
     "inputWidgets": {},
     "nuid": "5ba2eab2-3f4e-42ae-bf34-38402fa78a54",
     "showTitle": false,
     "title": ""
    }
   },
   "outputs": [],
   "source": []
  },
  {
   "cell_type": "code",
   "execution_count": null,
   "metadata": {
    "application/vnd.databricks.v1+cell": {
     "cellMetadata": {
      "byteLimit": 2048000,
      "rowLimit": 10000
     },
     "inputWidgets": {},
     "nuid": "3ba92905-48bb-4ac1-b49f-4877cbf31fdd",
     "showTitle": false,
     "title": ""
    }
   },
   "outputs": [],
   "source": [
    "(airbnb_data.write\n",
    "  .format(\"jdbc\")\n",
    "  .option(\"url\", \";\")\n",
    "  .option(\"d)\n",
    "  .save()\n",
    ")"
   ]
  }
 ],
 "metadata": {
  "application/vnd.databricks.v1+notebook": {
   "dashboards": [],
   "environmentMetadata": null,
   "language": "python",
   "notebookMetadata": {
    "pythonIndentUnit": 4
   },
   "notebookName": "Airbnb_Pynb",
   "widgets": {}
  },
  "language_info": {
   "name": "python"
  }
 },
 "nbformat": 4,
 "nbformat_minor": 0
}
