{
  "nbformat": 4,
  "nbformat_minor": 2,
  "cells": [
    {
      "cell_type": "code",
      "execution_count": 1,
      "outputs": [
        {
          "output_type": "display_data",
          "data": {
            "application/vnd.livy.statement-meta+json": {
              "spark_pool": "sparkpool",
              "statement_id": 2,
              "statement_ids": [
                2
              ],
              "livy_statement_state": "available",
              "spark_jobs": null,
              "session_id": "2",
              "state": "finished",
              "normalized_state": "finished",
              "queued_time": "2024-07-18T09:08:54.2706549Z",
              "session_start_time": "2024-07-18T09:08:54.3166341Z",
              "execution_start_time": "2024-07-18T09:12:37.2491695Z",
              "execution_finish_time": "2024-07-18T09:12:37.4053483Z",
              "parent_msg_id": "f768a4a6-74a8-4844-b667-df8d1db7f07a"
            },
            "text/plain": "StatementMeta(sparkpool, 2, 2, Finished, Available, Finished)"
          },
          "metadata": {}
        },
        {
          "output_type": "execute_result",
          "data": {
            "text/plain": "<SparkContext master=yarn appName=Notebook 1_sparkpool_1721293734>",
            "text/html": "\n        <div>\n            <p><b>SparkContext</b></p>\n\n            <p><a href=\"https://web.azuresynapse.net/sparkui/84d16d2d-d167-4eed-8209-f12cd1de2bc5/workspaces/azuresynapseworks/sparkpools/sparkpool/sessions/2/applications/application_1721293814027_0001\">Spark UI</a></p>\n\n            <dl>\n              <dt>Version</dt>\n                <dd><code>v3.4.1.5.3.20240528.1</code></dd>\n              <dt>Master</dt>\n                <dd><code>yarn</code></dd>\n              <dt>AppName</dt>\n                <dd><code>Notebook 1_sparkpool_1721293734</code></dd>\n            </dl>\n        </div>\n        "
          },
          "execution_count": 5,
          "metadata": {}
        }
      ],
      "metadata": {},
      "source": [
        "sc"
      ]
    },
    {
      "cell_type": "code",
      "execution_count": 2,
      "outputs": [
        {
          "output_type": "display_data",
          "data": {
            "application/vnd.livy.statement-meta+json": {
              "spark_pool": "sparkpool",
              "statement_id": 3,
              "statement_ids": [
                3
              ],
              "livy_statement_state": "available",
              "spark_jobs": null,
              "session_id": "2",
              "state": "finished",
              "normalized_state": "finished",
              "queued_time": "2024-07-18T09:16:21.5900873Z",
              "session_start_time": null,
              "execution_start_time": "2024-07-18T09:16:21.7159688Z",
              "execution_finish_time": "2024-07-18T09:16:53.4477766Z",
              "parent_msg_id": "203aae70-4cac-465f-a700-3af6b46a8680"
            },
            "text/plain": "StatementMeta(sparkpool, 2, 3, Finished, Available, Finished)"
          },
          "metadata": {}
        }
      ],
      "metadata": {
        "jupyter": {
          "source_hidden": false,
          "outputs_hidden": false
        },
        "nteract": {
          "transient": {
            "deleting": false
          }
        }
      },
      "source": [
        "taxi_df=spark.read.load('abfss://datasynapsefs@datasynapselake.dfs.core.windows.net/TripData.csv',header=True,format='csv',inferSchema=True)"
      ]
    },
    {
      "cell_type": "code",
      "execution_count": 7,
      "outputs": [
        {
          "output_type": "display_data",
          "data": {
            "application/vnd.livy.statement-meta+json": {
              "spark_pool": "sparkpool",
              "statement_id": 8,
              "statement_ids": [
                8
              ],
              "livy_statement_state": "available",
              "spark_jobs": null,
              "session_id": "2",
              "state": "finished",
              "normalized_state": "finished",
              "queued_time": "2024-07-18T09:17:50.1075178Z",
              "session_start_time": null,
              "execution_start_time": "2024-07-18T09:17:50.2230571Z",
              "execution_finish_time": "2024-07-18T09:17:50.3710994Z",
              "parent_msg_id": "8de2dd8d-41a6-4cd2-a6d0-8defb07386a3"
            },
            "text/plain": "StatementMeta(sparkpool, 2, 8, Finished, Available, Finished)"
          },
          "metadata": {}
        }
      ],
      "metadata": {
        "jupyter": {
          "source_hidden": false,
          "outputs_hidden": false
        },
        "nteract": {
          "transient": {
            "deleting": false
          }
        }
      },
      "source": [
        "from pyspark.sql.functions import *\r\n",
        "from pyspark import * \r\n",
        "from datetime import datetime \r\n",
        ""
      ]
    },
    {
      "cell_type": "code",
      "execution_count": 8,
      "outputs": [
        {
          "output_type": "display_data",
          "data": {
            "application/vnd.livy.statement-meta+json": {
              "spark_pool": "sparkpool",
              "statement_id": 9,
              "statement_ids": [
                9
              ],
              "livy_statement_state": "available",
              "spark_jobs": null,
              "session_id": "2",
              "state": "finished",
              "normalized_state": "finished",
              "queued_time": "2024-07-18T09:17:51.7541211Z",
              "session_start_time": null,
              "execution_start_time": "2024-07-18T09:17:51.874639Z",
              "execution_finish_time": "2024-07-18T09:17:52.0344884Z",
              "parent_msg_id": "09bd5469-1764-46aa-9cfc-1c7d83919d01"
            },
            "text/plain": "StatementMeta(sparkpool, 2, 9, Finished, Available, Finished)"
          },
          "metadata": {}
        }
      ],
      "metadata": {
        "jupyter": {
          "source_hidden": false,
          "outputs_hidden": false
        },
        "nteract": {
          "transient": {
            "deleting": false
          }
        }
      },
      "source": [
        "taxi_df_1=taxi_df.where(col('passenger_count')>0).filter(col('trip_distance')>0.0).drop_duplicates()"
      ]
    },
    {
      "cell_type": "code",
      "execution_count": 91,
      "outputs": [
        {
          "output_type": "display_data",
          "data": {
            "application/vnd.livy.statement-meta+json": {
              "spark_pool": "sparkpool",
              "statement_id": 35,
              "statement_ids": [
                35
              ],
              "livy_statement_state": "available",
              "spark_jobs": null,
              "session_id": "1",
              "state": "finished",
              "normalized_state": "finished",
              "queued_time": "2024-07-18T06:40:32.5611937Z",
              "session_start_time": null,
              "execution_start_time": "2024-07-18T06:40:43.3702561Z",
              "execution_finish_time": "2024-07-18T06:40:47.3566687Z",
              "parent_msg_id": "07de0e04-9b0b-4d73-991e-71bf94335bae"
            },
            "text/plain": "StatementMeta(sparkpool, 1, 35, Finished, Available, Finished)"
          },
          "metadata": {}
        },
        {
          "output_type": "stream",
          "name": "stdout",
          "text": "4\n"
        }
      ],
      "metadata": {
        "jupyter": {
          "source_hidden": false,
          "outputs_hidden": false
        },
        "nteract": {
          "transient": {
            "deleting": false
          }
        }
      },
      "source": [
        "print(taxi_df_1.rdd.getNumPartitions())"
      ]
    },
    {
      "cell_type": "code",
      "execution_count": 92,
      "outputs": [
        {
          "output_type": "display_data",
          "data": {
            "application/vnd.livy.statement-meta+json": {
              "spark_pool": "sparkpool",
              "statement_id": 36,
              "statement_ids": [
                36
              ],
              "livy_statement_state": "available",
              "spark_jobs": null,
              "session_id": "1",
              "state": "finished",
              "normalized_state": "finished",
              "queued_time": "2024-07-18T06:40:33.0610739Z",
              "session_start_time": null,
              "execution_start_time": "2024-07-18T06:40:47.4784765Z",
              "execution_finish_time": "2024-07-18T06:40:47.6373796Z",
              "parent_msg_id": "9c1f3921-39da-4b66-bbcd-cfe5cd3b6651"
            },
            "text/plain": "StatementMeta(sparkpool, 1, 36, Finished, Available, Finished)"
          },
          "metadata": {}
        },
        {
          "output_type": "execute_result",
          "data": {
            "text/plain": "['VendorID',\n 'lpep_pickup_datetime',\n 'lpep_dropoff_datetime',\n 'store_and_fwd_flag',\n 'RatecodeID',\n 'PULocationID',\n 'DOLocationID',\n 'passenger_count',\n 'trip_distance',\n 'fare_amount',\n 'extra',\n 'mta_tax',\n 'tip_amount',\n 'tolls_amount',\n 'ehail_fee',\n 'improvement_surcharge',\n 'total_amount',\n 'payment_type',\n 'trip_type',\n 'congestion_surcharge']"
          },
          "execution_count": 73,
          "metadata": {}
        }
      ],
      "metadata": {
        "jupyter": {
          "source_hidden": false,
          "outputs_hidden": false
        },
        "nteract": {
          "transient": {
            "deleting": false
          }
        }
      },
      "source": [
        "taxi_df_1.columns"
      ]
    },
    {
      "cell_type": "code",
      "execution_count": 93,
      "outputs": [
        {
          "output_type": "display_data",
          "data": {
            "application/vnd.livy.statement-meta+json": {
              "spark_pool": "sparkpool",
              "statement_id": 37,
              "statement_ids": [
                37
              ],
              "livy_statement_state": "available",
              "spark_jobs": null,
              "session_id": "1",
              "state": "finished",
              "normalized_state": "finished",
              "queued_time": "2024-07-18T06:40:33.2820868Z",
              "session_start_time": null,
              "execution_start_time": "2024-07-18T06:40:47.7546183Z",
              "execution_finish_time": "2024-07-18T06:40:47.9046031Z",
              "parent_msg_id": "09b8eca1-ac81-4bd8-89b1-ac834eb61cf1"
            },
            "text/plain": "StatementMeta(sparkpool, 1, 37, Finished, Available, Finished)"
          },
          "metadata": {}
        },
        {
          "output_type": "error",
          "ename": "IndentationError",
          "evalue": "unexpected indent (2197396030.py, line 2)",
          "traceback": [
            "\u001b[0;36m  Cell \u001b[0;32mIn[75], line 2\u001b[0;36m\u001b[0m\n\u001b[0;31m    'lpep_pickup_datetime',\u001b[0m\n\u001b[0m    ^\u001b[0m\n\u001b[0;31mIndentationError\u001b[0m\u001b[0;31m:\u001b[0m unexpected indent\n"
          ]
        }
      ],
      "metadata": {
        "jupyter": {
          "source_hidden": false,
          "outputs_hidden": false
        },
        "nteract": {
          "transient": {
            "deleting": false
          }
        }
      },
      "source": [
        "'VendorID',\r\n",
        " 'lpep_pickup_datetime',\r\n",
        " 'lpep_dropoff_datetime',\r\n",
        " 'store_and_fwd_flag',\r\n",
        " 'RatecodeID',\r\n",
        " 'PULocationID',\r\n",
        " 'DOLocationID',\r\n",
        " 'passenger_count',\r\n",
        " 'trip_distance',\r\n",
        " 'fare_amount',\r\n",
        " 'extra',\r\n",
        " 'mta_tax',\r\n",
        " 'tip_amount',\r\n",
        " 'tolls_amount',\r\n",
        " 'ehail_fee',\r\n",
        " 'improvement_surcharge',\r\n",
        " 'total_amount',\r\n",
        " 'payment_type',\r\n",
        " 'trip_type',\r\n",
        " 'congestion_surcharge"
      ]
    },
    {
      "cell_type": "code",
      "execution_count": 3,
      "outputs": [
        {
          "output_type": "display_data",
          "data": {
            "application/vnd.livy.statement-meta+json": {
              "spark_pool": "sparkpool",
              "statement_id": 4,
              "statement_ids": [
                4
              ],
              "livy_statement_state": "available",
              "spark_jobs": null,
              "session_id": "2",
              "state": "finished",
              "normalized_state": "finished",
              "queued_time": "2024-07-18T09:17:08.244923Z",
              "session_start_time": null,
              "execution_start_time": "2024-07-18T09:17:08.3659578Z",
              "execution_finish_time": "2024-07-18T09:17:09.2617113Z",
              "parent_msg_id": "06882e14-76a7-4655-a368-150a8d3b8741"
            },
            "text/plain": "StatementMeta(sparkpool, 2, 4, Finished, Available, Finished)"
          },
          "metadata": {}
        }
      ],
      "metadata": {
        "jupyter": {
          "source_hidden": false,
          "outputs_hidden": false
        },
        "nteract": {
          "transient": {
            "deleting": false
          }
        }
      },
      "source": [
        "# taxi_df_1.show()"
      ]
    },
    {
      "cell_type": "code",
      "execution_count": 13,
      "outputs": [
        {
          "output_type": "display_data",
          "data": {
            "application/vnd.livy.statement-meta+json": {
              "spark_pool": "sparkpool",
              "statement_id": 14,
              "statement_ids": [
                14
              ],
              "livy_statement_state": "available",
              "spark_jobs": null,
              "session_id": "2",
              "state": "finished",
              "normalized_state": "finished",
              "queued_time": "2024-07-18T09:21:17.352789Z",
              "session_start_time": null,
              "execution_start_time": "2024-07-18T09:21:17.4888605Z",
              "execution_finish_time": "2024-07-18T09:21:17.6430135Z",
              "parent_msg_id": "f0ca4a01-c870-4734-8adb-1827b3d1ad3d"
            },
            "text/plain": "StatementMeta(sparkpool, 2, 14, Finished, Available, Finished)"
          },
          "metadata": {}
        }
      ],
      "metadata": {
        "jupyter": {
          "source_hidden": false,
          "outputs_hidden": false
        },
        "nteract": {
          "transient": {
            "deleting": false
          }
        }
      },
      "source": [
        "\r\n",
        "taxi_df_final=taxi_df_1.select(col('VendorID'),\r\n",
        "col('passenger_count').alias('Passengercount'),\r\n",
        "col('trip_distance').alias('Tripdistance'),\r\n",
        "col('lpep_pickup_datetime').alias('Pickuptime'),\r\n",
        "col('lpep_dropoff_datetime').alias('Droptime'),\r\n",
        "col('PULocationID').alias(\"PickuplocationID\"),\r\n",
        "col('DOLocationID').alias(\"DroplocationID\"),\r\n",
        "col('fare_amount'),\r\n",
        "col('total_amount'),\r\n",
        "col('payment_type'),\r\n",
        "col('trip_type'),\r\n",
        "col('RatecodeID')\r\n",
        "\r\n",
        ")"
      ]
    },
    {
      "cell_type": "code",
      "execution_count": 214,
      "outputs": [
        {
          "output_type": "display_data",
          "data": {
            "application/vnd.livy.statement-meta+json": {
              "spark_pool": "sparkpool",
              "statement_id": 158,
              "statement_ids": [
                158
              ],
              "livy_statement_state": "available",
              "spark_jobs": null,
              "session_id": "1",
              "state": "finished",
              "normalized_state": "finished",
              "queued_time": "2024-07-18T07:48:05.5502088Z",
              "session_start_time": null,
              "execution_start_time": "2024-07-18T07:48:05.680918Z",
              "execution_finish_time": "2024-07-18T07:48:05.89815Z",
              "parent_msg_id": "6e7f2c02-5f99-4b81-b544-c27d1ff14955"
            },
            "text/plain": "StatementMeta(sparkpool, 1, 158, Finished, Available, Finished)"
          },
          "metadata": {}
        }
      ],
      "metadata": {
        "jupyter": {
          "source_hidden": false,
          "outputs_hidden": false
        },
        "nteract": {
          "transient": {
            "deleting": false
          }
        }
      },
      "source": [
        "# taxi_df_final.show()"
      ]
    },
    {
      "cell_type": "code",
      "execution_count": null,
      "outputs": [
        {
          "output_type": "display_data",
          "data": {
            "application/vnd.livy.statement-meta+json": {
              "spark_pool": null,
              "statement_id": null,
              "statement_ids": null,
              "livy_statement_state": null,
              "spark_jobs": null,
              "session_id": null,
              "state": "cancelled",
              "normalized_state": "cancelled",
              "queued_time": "2024-07-18T06:40:33.7381769Z",
              "session_start_time": null,
              "execution_start_time": null,
              "execution_finish_time": "2024-07-18T06:40:47.9307655Z",
              "parent_msg_id": "96306d07-e244-4000-9492-ee19a043a602"
            },
            "text/plain": "StatementMeta(, , , Cancelled, , Cancelled)"
          },
          "metadata": {}
        }
      ],
      "metadata": {
        "jupyter": {
          "source_hidden": false,
          "outputs_hidden": false
        },
        "nteract": {
          "transient": {
            "deleting": false
          }
        }
      },
      "source": [
        "taxi_df_1.withColumnRenamed('passenger_count','Passengercount')"
      ]
    },
    {
      "cell_type": "code",
      "execution_count": null,
      "outputs": [
        {
          "output_type": "display_data",
          "data": {
            "application/vnd.livy.statement-meta+json": {
              "spark_pool": null,
              "statement_id": null,
              "statement_ids": null,
              "livy_statement_state": null,
              "spark_jobs": null,
              "session_id": null,
              "state": "cancelled",
              "normalized_state": "cancelled",
              "queued_time": "2024-07-18T06:40:33.8730235Z",
              "session_start_time": null,
              "execution_start_time": null,
              "execution_finish_time": "2024-07-18T06:40:47.9316566Z",
              "parent_msg_id": "d06531cb-95b9-4dad-bef3-ad9759c23da8"
            },
            "text/plain": "StatementMeta(, , , Cancelled, , Cancelled)"
          },
          "metadata": {}
        }
      ],
      "metadata": {
        "jupyter": {
          "source_hidden": false,
          "outputs_hidden": false
        },
        "nteract": {
          "transient": {
            "deleting": false
          }
        }
      },
      "source": [
        "taxi_df_final.select(\"RatecodeID\").distinct().show()"
      ]
    },
    {
      "cell_type": "code",
      "execution_count": 124,
      "outputs": [
        {
          "output_type": "display_data",
          "data": {
            "application/vnd.livy.statement-meta+json": {
              "spark_pool": "sparkpool",
              "statement_id": 68,
              "statement_ids": [
                68
              ],
              "livy_statement_state": "available",
              "spark_jobs": null,
              "session_id": "1",
              "state": "finished",
              "normalized_state": "finished",
              "queued_time": "2024-07-18T06:58:46.8269414Z",
              "session_start_time": null,
              "execution_start_time": "2024-07-18T06:58:46.955324Z",
              "execution_finish_time": "2024-07-18T06:58:47.1112885Z",
              "parent_msg_id": "fcf53bb6-a89d-489b-b73f-0d457db607d2"
            },
            "text/plain": "StatementMeta(sparkpool, 1, 68, Finished, Available, Finished)"
          },
          "metadata": {}
        }
      ],
      "metadata": {
        "jupyter": {
          "source_hidden": false,
          "outputs_hidden": false
        },
        "nteract": {
          "transient": {
            "deleting": false
          }
        }
      },
      "source": [
        ""
      ]
    },
    {
      "cell_type": "markdown",
      "metadata": {
        "nteract": {
          "transient": {
            "deleting": false
          }
        }
      },
      "source": [
        ""
      ]
    },
    {
      "cell_type": "code",
      "execution_count": 202,
      "outputs": [
        {
          "output_type": "display_data",
          "data": {
            "application/vnd.livy.statement-meta+json": {
              "spark_pool": "sparkpool",
              "statement_id": 146,
              "statement_ids": [
                146
              ],
              "livy_statement_state": "available",
              "spark_jobs": null,
              "session_id": "1",
              "state": "finished",
              "normalized_state": "finished",
              "queued_time": "2024-07-18T07:45:08.3771284Z",
              "session_start_time": null,
              "execution_start_time": "2024-07-18T07:45:08.4852347Z",
              "execution_finish_time": "2024-07-18T07:45:08.6505835Z",
              "parent_msg_id": "0d456c86-dbbc-4516-a27f-8d287fe7d7a9"
            },
            "text/plain": "StatementMeta(sparkpool, 1, 146, Finished, Available, Finished)"
          },
          "metadata": {}
        }
      ],
      "metadata": {
        "jupyter": {
          "source_hidden": false,
          "outputs_hidden": false
        },
        "nteract": {
          "transient": {
            "deleting": false
          }
        }
      },
      "source": [
        "# taxi_df_final= taxi_df_final.withColumn(\"Droptime\", to_timestamp(col(\"Droptime\"),'dd/MM/yyyy HH:mm'))\r\n",
        "# # df_with_timestamp.show()\r\n",
        "# taxi_df_final=taxi_df_final.withColumn(\"Pickuptime\",to_timestamp(col(\"Pickuptime\"),'dd/MM/yyyy HH:mm'))\r\n",
        ""
      ]
    },
    {
      "cell_type": "code",
      "execution_count": 216,
      "outputs": [
        {
          "output_type": "display_data",
          "data": {
            "application/vnd.livy.statement-meta+json": {
              "spark_pool": "sparkpool",
              "statement_id": 160,
              "statement_ids": [
                160
              ],
              "livy_statement_state": "available",
              "spark_jobs": null,
              "session_id": "1",
              "state": "finished",
              "normalized_state": "finished",
              "queued_time": "2024-07-18T07:48:52.829897Z",
              "session_start_time": null,
              "execution_start_time": "2024-07-18T07:48:53.5386431Z",
              "execution_finish_time": "2024-07-18T07:48:53.6935875Z",
              "parent_msg_id": "d53e94a7-c6d7-4114-92bf-7312322f6648"
            },
            "text/plain": "StatementMeta(sparkpool, 1, 160, Finished, Available, Finished)"
          },
          "metadata": {}
        }
      ],
      "metadata": {
        "jupyter": {
          "source_hidden": false,
          "outputs_hidden": false
        },
        "nteract": {
          "transient": {
            "deleting": false
          }
        }
      },
      "source": [
        "# taxi_df_final.show()"
      ]
    },
    {
      "cell_type": "code",
      "execution_count": 217,
      "outputs": [
        {
          "output_type": "display_data",
          "data": {
            "application/vnd.livy.statement-meta+json": {
              "spark_pool": "sparkpool",
              "statement_id": 161,
              "statement_ids": [
                161
              ],
              "livy_statement_state": "available",
              "spark_jobs": null,
              "session_id": "1",
              "state": "finished",
              "normalized_state": "finished",
              "queued_time": "2024-07-18T07:48:58.2112202Z",
              "session_start_time": null,
              "execution_start_time": "2024-07-18T07:48:58.3221965Z",
              "execution_finish_time": "2024-07-18T07:48:58.4716816Z",
              "parent_msg_id": "78a9c942-95be-4bf2-a4d3-56a9daf05835"
            },
            "text/plain": "StatementMeta(sparkpool, 1, 161, Finished, Available, Finished)"
          },
          "metadata": {}
        }
      ],
      "metadata": {
        "jupyter": {
          "source_hidden": false,
          "outputs_hidden": false
        },
        "nteract": {
          "transient": {
            "deleting": false
          }
        }
      },
      "source": [
        "taxi_df_final=taxi_df_final.withColumn('Triptype',when(col('RateCodeID')==6,\"SharedTrip\").otherwise(\"SoloTrip\"))"
      ]
    },
    {
      "cell_type": "code",
      "execution_count": 132,
      "outputs": [
        {
          "output_type": "display_data",
          "data": {
            "application/vnd.livy.statement-meta+json": {
              "spark_pool": "sparkpool",
              "statement_id": 76,
              "statement_ids": [
                76
              ],
              "livy_statement_state": "available",
              "spark_jobs": null,
              "session_id": "1",
              "state": "finished",
              "normalized_state": "finished",
              "queued_time": "2024-07-18T07:05:48.8590739Z",
              "session_start_time": null,
              "execution_start_time": "2024-07-18T07:05:48.9839828Z",
              "execution_finish_time": "2024-07-18T07:06:00.3198126Z",
              "parent_msg_id": "27139196-9f36-403a-979b-56a4d4dc73d7"
            },
            "text/plain": "StatementMeta(sparkpool, 1, 76, Finished, Available, Finished)"
          },
          "metadata": {}
        },
        {
          "output_type": "execute_result",
          "data": {
            "text/plain": "DataFrame[]"
          },
          "execution_count": 153,
          "metadata": {}
        }
      ],
      "metadata": {
        "jupyter": {
          "source_hidden": false,
          "outputs_hidden": false
        },
        "nteract": {
          "transient": {
            "deleting": false
          }
        }
      },
      "source": [
        "spark.sql(\"Create database if not exists taxi_db \")\r\n",
        ""
      ]
    },
    {
      "cell_type": "code",
      "execution_count": 144,
      "outputs": [
        {
          "output_type": "display_data",
          "data": {
            "application/vnd.livy.statement-meta+json": {
              "spark_pool": "sparkpool",
              "statement_id": 88,
              "statement_ids": [
                88
              ],
              "livy_statement_state": "available",
              "spark_jobs": null,
              "session_id": "1",
              "state": "finished",
              "normalized_state": "finished",
              "queued_time": "2024-07-18T07:11:40.3356708Z",
              "session_start_time": null,
              "execution_start_time": "2024-07-18T07:11:40.4418858Z",
              "execution_finish_time": "2024-07-18T07:11:55.1626345Z",
              "parent_msg_id": "60342c7a-6958-4d86-8c37-e3fcee83ca0e"
            },
            "text/plain": "StatementMeta(sparkpool, 1, 88, Finished, Available, Finished)"
          },
          "metadata": {}
        }
      ],
      "metadata": {
        "jupyter": {
          "source_hidden": false,
          "outputs_hidden": false
        },
        "nteract": {
          "transient": {
            "deleting": false
          }
        }
      },
      "source": [
        "taxi_df_final.drop(\"RateCodeID\").repartition(4).write.mode(\"overwrite\").saveAsTable(\"taxi_tb\")"
      ]
    },
    {
      "cell_type": "code",
      "execution_count": 208,
      "outputs": [
        {
          "output_type": "display_data",
          "data": {
            "application/vnd.livy.statement-meta+json": {
              "spark_pool": "sparkpool",
              "statement_id": 152,
              "statement_ids": [
                152
              ],
              "livy_statement_state": "available",
              "spark_jobs": null,
              "session_id": "1",
              "state": "finished",
              "normalized_state": "finished",
              "queued_time": "2024-07-18T07:46:40.0310991Z",
              "session_start_time": null,
              "execution_start_time": "2024-07-18T07:46:40.1433982Z",
              "execution_finish_time": "2024-07-18T07:46:40.3297593Z",
              "parent_msg_id": "3fb38eb3-5b46-4621-ac60-c820efe080f3"
            },
            "text/plain": "StatementMeta(sparkpool, 1, 152, Finished, Available, Finished)"
          },
          "metadata": {}
        }
      ],
      "metadata": {
        "jupyter": {
          "source_hidden": false,
          "outputs_hidden": false
        },
        "nteract": {
          "transient": {
            "deleting": false
          }
        }
      },
      "source": [
        "# taxi_df_final.show()"
      ]
    },
    {
      "cell_type": "code",
      "execution_count": 220,
      "outputs": [
        {
          "output_type": "display_data",
          "data": {
            "application/vnd.livy.statement-meta+json": {
              "spark_pool": "sparkpool",
              "statement_id": 164,
              "statement_ids": [
                164
              ],
              "livy_statement_state": "available",
              "spark_jobs": null,
              "session_id": "1",
              "state": "finished",
              "normalized_state": "finished",
              "queued_time": "2024-07-18T07:51:49.7648494Z",
              "session_start_time": null,
              "execution_start_time": "2024-07-18T07:51:49.8748303Z",
              "execution_finish_time": "2024-07-18T07:51:53.8348015Z",
              "parent_msg_id": "2bb6ceb2-1977-4e35-a10f-35e5f0075a8b"
            },
            "text/plain": "StatementMeta(sparkpool, 1, 164, Finished, Available, Finished)"
          },
          "metadata": {}
        },
        {
          "output_type": "execute_result",
          "data": {
            "text/plain": "                      Droptime\n0       01/01/2021 09:04:13 AM\n1       01/01/2021 11:58:47 AM\n2       01/01/2021 12:23:19 PM\n3       01/01/2021 04:25:28 PM\n4       01/01/2021 09:59:26 PM\n...                        ...\n621005  12/31/2021 05:42:01 PM\n621006  12/31/2021 07:51:45 PM\n621007  12/31/2021 08:51:26 PM\n621008  12/31/2021 10:44:24 PM\n621009  12/31/2021 11:48:56 PM\n\n[621010 rows x 1 columns]",
            "text/html": "<div>\n<style scoped>\n    .dataframe tbody tr th:only-of-type {\n        vertical-align: middle;\n    }\n\n    .dataframe tbody tr th {\n        vertical-align: top;\n    }\n\n    .dataframe thead th {\n        text-align: right;\n    }\n</style>\n<table border=\"1\" class=\"dataframe\">\n  <thead>\n    <tr style=\"text-align: right;\">\n      <th></th>\n      <th>Droptime</th>\n    </tr>\n  </thead>\n  <tbody>\n    <tr>\n      <th>0</th>\n      <td>01/01/2021 09:04:13 AM</td>\n    </tr>\n    <tr>\n      <th>1</th>\n      <td>01/01/2021 11:58:47 AM</td>\n    </tr>\n    <tr>\n      <th>2</th>\n      <td>01/01/2021 12:23:19 PM</td>\n    </tr>\n    <tr>\n      <th>3</th>\n      <td>01/01/2021 04:25:28 PM</td>\n    </tr>\n    <tr>\n      <th>4</th>\n      <td>01/01/2021 09:59:26 PM</td>\n    </tr>\n    <tr>\n      <th>...</th>\n      <td>...</td>\n    </tr>\n    <tr>\n      <th>621005</th>\n      <td>12/31/2021 05:42:01 PM</td>\n    </tr>\n    <tr>\n      <th>621006</th>\n      <td>12/31/2021 07:51:45 PM</td>\n    </tr>\n    <tr>\n      <th>621007</th>\n      <td>12/31/2021 08:51:26 PM</td>\n    </tr>\n    <tr>\n      <th>621008</th>\n      <td>12/31/2021 10:44:24 PM</td>\n    </tr>\n    <tr>\n      <th>621009</th>\n      <td>12/31/2021 11:48:56 PM</td>\n    </tr>\n  </tbody>\n</table>\n<p>621010 rows × 1 columns</p>\n</div>"
          },
          "execution_count": 329,
          "metadata": {}
        }
      ],
      "metadata": {
        "jupyter": {
          "source_hidden": false,
          "outputs_hidden": false
        },
        "nteract": {
          "transient": {
            "deleting": false
          }
        }
      },
      "source": [
        "taxi_df_final.select(\"Droptime\").toPandas()"
      ]
    },
    {
      "cell_type": "code",
      "execution_count": 15,
      "outputs": [
        {
          "output_type": "display_data",
          "data": {
            "application/vnd.livy.statement-meta+json": {
              "spark_pool": "sparkpool",
              "statement_id": 16,
              "statement_ids": [
                16
              ],
              "livy_statement_state": "available",
              "spark_jobs": null,
              "session_id": "2",
              "state": "finished",
              "normalized_state": "finished",
              "queued_time": "2024-07-18T09:22:11.5295955Z",
              "session_start_time": null,
              "execution_start_time": "2024-07-18T09:22:11.6577998Z",
              "execution_finish_time": "2024-07-18T09:22:11.8137172Z",
              "parent_msg_id": "1542142a-dfb2-464e-951d-3af2eb616041"
            },
            "text/plain": "StatementMeta(sparkpool, 2, 16, Finished, Available, Finished)"
          },
          "metadata": {}
        },
        {
          "output_type": "stream",
          "name": "stdout",
          "text": "root\n |-- VendorID: integer (nullable = true)\n |-- Passengercount: integer (nullable = true)\n |-- Tripdistance: double (nullable = true)\n |-- Pickuptime: timestamp (nullable = true)\n |-- Droptime: timestamp (nullable = true)\n |-- PickuplocationID: integer (nullable = true)\n |-- DroplocationID: integer (nullable = true)\n |-- fare_amount: double (nullable = true)\n |-- total_amount: double (nullable = true)\n |-- payment_type: integer (nullable = true)\n |-- trip_type: integer (nullable = true)\n |-- RatecodeID: integer (nullable = true)\n\n"
        }
      ],
      "metadata": {
        "jupyter": {
          "source_hidden": false,
          "outputs_hidden": false
        },
        "nteract": {
          "transient": {
            "deleting": false
          }
        }
      },
      "source": [
        "from pyspark.sql.functions import to_timestamp\r\n",
        "\r\n",
        "# Convert string to timestamp\r\n",
        "taxi_df_final = taxi_df_final.withColumn(\"Pickuptime\", to_timestamp(col(\"Pickuptime\"), \"MM/dd/yyyy hh:mm:ss a\"))\r\n",
        "\r\n",
        "# Show the DataFrame with the timestamp column\r\n",
        "taxi_df_final.printSchema()\r\n",
        ""
      ]
    },
    {
      "cell_type": "code",
      "execution_count": 16,
      "outputs": [
        {
          "output_type": "display_data",
          "data": {
            "application/vnd.livy.statement-meta+json": {
              "spark_pool": "sparkpool",
              "statement_id": 17,
              "statement_ids": [
                17
              ],
              "livy_statement_state": "available",
              "spark_jobs": null,
              "session_id": "2",
              "state": "finished",
              "normalized_state": "finished",
              "queued_time": "2024-07-18T09:22:25.0482977Z",
              "session_start_time": null,
              "execution_start_time": "2024-07-18T09:22:25.1852996Z",
              "execution_finish_time": "2024-07-18T09:22:29.1246631Z",
              "parent_msg_id": "e78dfed6-e999-472d-be01-7255a5df2624"
            },
            "text/plain": "StatementMeta(sparkpool, 2, 17, Finished, Available, Finished)"
          },
          "metadata": {}
        },
        {
          "output_type": "stream",
          "name": "stdout",
          "text": "+--------+--------------+------------+-------------------+-------------------+----------------+--------------+-----------+------------+------------+---------+----------+\n|VendorID|Passengercount|Tripdistance|         Pickuptime|           Droptime|PickuplocationID|DroplocationID|fare_amount|total_amount|payment_type|trip_type|RatecodeID|\n+--------+--------------+------------+-------------------+-------------------+----------------+--------------+-----------+------------+------------+---------+----------+\n|       2|             1|        1.44|2021-01-01 08:59:00|2021-01-01 09:04:13|              74|            75|        6.5|        8.76|           1|        1|         1|\n|       1|             1|         0.8|2021-01-01 11:56:17|2021-01-01 11:58:47|              74|            75|        4.5|         6.5|           1|        1|         1|\n|       2|             2|         1.1|2021-01-01 12:15:47|2021-01-01 12:23:19|               7|           179|        7.0|         7.8|           2|        1|         1|\n|       2|             1|        7.15|2021-01-01 15:46:21|2021-01-01 16:25:28|             130|            61|       28.5|        29.3|           1|        1|         1|\n|       2|             1|        1.77|2021-01-01 21:51:36|2021-01-01 21:59:26|              74|           168|        8.0|         9.3|           1|        1|         1|\n|       2|             1|        5.32|2021-01-02 10:50:22|2021-01-02 11:07:11|              41|           143|       18.5|       22.05|           2|        1|         1|\n|       2|             1|        2.34|2021-01-02 12:28:31|2021-01-02 12:43:20|              69|            41|       12.0|        12.8|           2|        1|         1|\n|       2|             5|        0.93|2021-01-02 13:03:52|2021-01-02 13:07:21|              75|            74|        5.0|         5.8|           2|        1|         1|\n|       2|             1|        1.64|2021-01-02 14:32:06|2021-01-02 14:40:26|              74|            75|        8.0|       10.56|           1|        1|         1|\n|       2|             1|        8.61|2021-01-02 17:26:53|2021-01-02 17:55:41|             244|            90|       29.0|       32.55|           2|        1|         1|\n|       2|             1|        3.11|2021-01-02 17:06:12|2021-01-02 17:18:09|              75|           142|       12.0|       17.11|           1|        1|         1|\n|       2|             3|        2.15|2021-01-02 21:35:03|2021-01-02 21:48:19|             247|           147|       10.0|        10.3|           2|        2|         5|\n|       2|             1|       10.43|2021-01-03 12:05:38|2021-01-03 12:26:34|             116|            92|       30.0|       36.92|           2|        1|         1|\n|       2|             1|        2.03|2021-01-04 14:16:37|2021-01-04 14:31:42|              74|           151|       11.5|        12.3|           2|        1|         1|\n|       1|             1|         0.5|2021-01-04 14:39:09|2021-01-04 14:44:53|              25|            33|        5.5|         6.3|           2|        1|         1|\n|       2|             1|        0.99|2021-01-04 16:15:43|2021-01-04 16:21:43|              42|            74|        6.0|         7.8|           2|        1|         1|\n|       2|             1|        0.96|2021-01-04 18:29:23|2021-01-04 18:31:43|              75|            74|        4.5|        7.56|           1|        1|         1|\n|       2|             1|        2.62|2021-01-04 22:50:40|2021-01-04 22:59:12|              75|           140|       10.0|       14.05|           2|        1|         1|\n|       2|             1|        0.86|2021-01-05 08:24:20|2021-01-05 08:28:31|              61|            61|        5.0|         5.8|           2|        1|         1|\n|       1|             1|         5.2|2021-01-05 10:09:10|2021-01-05 10:34:15|              82|           141|       20.0|       23.55|           2|        1|         1|\n+--------+--------------+------------+-------------------+-------------------+----------------+--------------+-----------+------------+------------+---------+----------+\nonly showing top 20 rows\n\n"
        }
      ],
      "metadata": {
        "jupyter": {
          "source_hidden": false,
          "outputs_hidden": false
        },
        "nteract": {
          "transient": {
            "deleting": false
          }
        }
      },
      "source": [
        "taxi_df_final.show()"
      ]
    },
    {
      "cell_type": "code",
      "execution_count": null,
      "outputs": [],
      "metadata": {
        "jupyter": {
          "source_hidden": false,
          "outputs_hidden": false
        },
        "nteract": {
          "transient": {
            "deleting": false
          }
        }
      },
      "source": [
        "# from pyspark.sql.functions import date_format\r\n",
        "\r\n",
        "# # Format the timestamp to a 24-hour format\r\n",
        "# df_formatted = df_with_timestamp.withColumn(\"Pickuptime\", date_format(col(\"date_timestamp\"), \"yyyy-MM-dd HH:mm:ss\"))\r\n",
        "# df_formatted.show()\r\n",
        ""
      ]
    },
    {
      "cell_type": "code",
      "execution_count": 17,
      "outputs": [
        {
          "output_type": "display_data",
          "data": {
            "application/vnd.livy.statement-meta+json": {
              "spark_pool": "sparkpool",
              "statement_id": 18,
              "statement_ids": [
                18
              ],
              "livy_statement_state": "available",
              "spark_jobs": null,
              "session_id": "2",
              "state": "finished",
              "normalized_state": "finished",
              "queued_time": "2024-07-18T09:24:00.1096778Z",
              "session_start_time": null,
              "execution_start_time": "2024-07-18T09:24:00.7895091Z",
              "execution_finish_time": "2024-07-18T09:24:00.9799337Z",
              "parent_msg_id": "17937876-1a78-4bd5-af19-e5ffc11dc945"
            },
            "text/plain": "StatementMeta(sparkpool, 2, 18, Finished, Available, Finished)"
          },
          "metadata": {}
        }
      ],
      "metadata": {
        "jupyter": {
          "source_hidden": false,
          "outputs_hidden": false
        },
        "nteract": {
          "transient": {
            "deleting": false
          }
        }
      },
      "source": [
        "taxi_df_trans1=taxi_df_final.withColumn(\"Tripear\",year(\"Pickuptime\")).withColumn(\"TripMonth\",year(\"Pickuptime\")).withColumn(\"Day\",month(\"Pickuptime\")).\\\r\n",
        "withColumn(\"Tripdurationtime\",round(unix_timestamp('Droptime')-unix_timestamp(col('Pickuptime')))/60)"
      ]
    },
    {
      "cell_type": "code",
      "execution_count": 18,
      "outputs": [
        {
          "output_type": "display_data",
          "data": {
            "application/vnd.livy.statement-meta+json": {
              "spark_pool": "sparkpool",
              "statement_id": 19,
              "statement_ids": [
                19
              ],
              "livy_statement_state": "available",
              "spark_jobs": null,
              "session_id": "2",
              "state": "finished",
              "normalized_state": "finished",
              "queued_time": "2024-07-18T09:24:17.9049233Z",
              "session_start_time": null,
              "execution_start_time": "2024-07-18T09:24:18.4541129Z",
              "execution_finish_time": "2024-07-18T09:24:22.2209757Z",
              "parent_msg_id": "29a0025b-5b0e-4fa7-98cc-aa89c69159cc"
            },
            "text/plain": "StatementMeta(sparkpool, 2, 19, Finished, Available, Finished)"
          },
          "metadata": {}
        },
        {
          "output_type": "stream",
          "name": "stdout",
          "text": "+--------+--------------+------------+-------------------+-------------------+----------------+--------------+-----------+------------+------------+---------+----------+-------+---------+---+------------------+\n|VendorID|Passengercount|Tripdistance|         Pickuptime|           Droptime|PickuplocationID|DroplocationID|fare_amount|total_amount|payment_type|trip_type|RatecodeID|Tripear|TripMonth|Day|  Tripdurationtime|\n+--------+--------------+------------+-------------------+-------------------+----------------+--------------+-----------+------------+------------+---------+----------+-------+---------+---+------------------+\n|       2|             1|        1.44|2021-01-01 08:59:00|2021-01-01 09:04:13|              74|            75|        6.5|        8.76|           1|        1|         1|   2021|     2021|  1| 5.216666666666667|\n|       1|             1|         0.8|2021-01-01 11:56:17|2021-01-01 11:58:47|              74|            75|        4.5|         6.5|           1|        1|         1|   2021|     2021|  1|               2.5|\n|       2|             2|         1.1|2021-01-01 12:15:47|2021-01-01 12:23:19|               7|           179|        7.0|         7.8|           2|        1|         1|   2021|     2021|  1| 7.533333333333333|\n|       2|             1|        7.15|2021-01-01 15:46:21|2021-01-01 16:25:28|             130|            61|       28.5|        29.3|           1|        1|         1|   2021|     2021|  1| 39.11666666666667|\n|       2|             1|        1.77|2021-01-01 21:51:36|2021-01-01 21:59:26|              74|           168|        8.0|         9.3|           1|        1|         1|   2021|     2021|  1| 7.833333333333333|\n|       2|             1|        5.32|2021-01-02 10:50:22|2021-01-02 11:07:11|              41|           143|       18.5|       22.05|           2|        1|         1|   2021|     2021|  1|16.816666666666666|\n|       2|             1|        2.34|2021-01-02 12:28:31|2021-01-02 12:43:20|              69|            41|       12.0|        12.8|           2|        1|         1|   2021|     2021|  1|14.816666666666666|\n|       2|             5|        0.93|2021-01-02 13:03:52|2021-01-02 13:07:21|              75|            74|        5.0|         5.8|           2|        1|         1|   2021|     2021|  1|3.4833333333333334|\n|       2|             1|        1.64|2021-01-02 14:32:06|2021-01-02 14:40:26|              74|            75|        8.0|       10.56|           1|        1|         1|   2021|     2021|  1| 8.333333333333334|\n|       2|             1|        8.61|2021-01-02 17:26:53|2021-01-02 17:55:41|             244|            90|       29.0|       32.55|           2|        1|         1|   2021|     2021|  1|              28.8|\n|       2|             1|        3.11|2021-01-02 17:06:12|2021-01-02 17:18:09|              75|           142|       12.0|       17.11|           1|        1|         1|   2021|     2021|  1|             11.95|\n|       2|             3|        2.15|2021-01-02 21:35:03|2021-01-02 21:48:19|             247|           147|       10.0|        10.3|           2|        2|         5|   2021|     2021|  1|13.266666666666667|\n|       2|             1|       10.43|2021-01-03 12:05:38|2021-01-03 12:26:34|             116|            92|       30.0|       36.92|           2|        1|         1|   2021|     2021|  1|20.933333333333334|\n|       2|             1|        2.03|2021-01-04 14:16:37|2021-01-04 14:31:42|              74|           151|       11.5|        12.3|           2|        1|         1|   2021|     2021|  1|15.083333333333334|\n|       1|             1|         0.5|2021-01-04 14:39:09|2021-01-04 14:44:53|              25|            33|        5.5|         6.3|           2|        1|         1|   2021|     2021|  1| 5.733333333333333|\n|       2|             1|        0.99|2021-01-04 16:15:43|2021-01-04 16:21:43|              42|            74|        6.0|         7.8|           2|        1|         1|   2021|     2021|  1|               6.0|\n|       2|             1|        0.96|2021-01-04 18:29:23|2021-01-04 18:31:43|              75|            74|        4.5|        7.56|           1|        1|         1|   2021|     2021|  1|2.3333333333333335|\n|       2|             1|        2.62|2021-01-04 22:50:40|2021-01-04 22:59:12|              75|           140|       10.0|       14.05|           2|        1|         1|   2021|     2021|  1| 8.533333333333333|\n|       2|             1|        0.86|2021-01-05 08:24:20|2021-01-05 08:28:31|              61|            61|        5.0|         5.8|           2|        1|         1|   2021|     2021|  1| 4.183333333333334|\n|       1|             1|         5.2|2021-01-05 10:09:10|2021-01-05 10:34:15|              82|           141|       20.0|       23.55|           2|        1|         1|   2021|     2021|  1|25.083333333333332|\n+--------+--------------+------------+-------------------+-------------------+----------------+--------------+-----------+------------+------------+---------+----------+-------+---------+---+------------------+\nonly showing top 20 rows\n\n"
        }
      ],
      "metadata": {
        "jupyter": {
          "source_hidden": false,
          "outputs_hidden": false
        },
        "nteract": {
          "transient": {
            "deleting": false
          }
        }
      },
      "source": [
        "taxi_df_trans.show()"
      ]
    },
    {
      "cell_type": "code",
      "execution_count": 224,
      "outputs": [
        {
          "output_type": "display_data",
          "data": {
            "application/vnd.livy.statement-meta+json": {
              "spark_pool": "sparkpool",
              "statement_id": 168,
              "statement_ids": [
                168
              ],
              "livy_statement_state": "available",
              "spark_jobs": null,
              "session_id": "1",
              "state": "finished",
              "normalized_state": "finished",
              "queued_time": "2024-07-18T07:55:03.7310619Z",
              "session_start_time": null,
              "execution_start_time": "2024-07-18T07:55:03.8413634Z",
              "execution_finish_time": "2024-07-18T07:55:03.9960033Z",
              "parent_msg_id": "28acd3a0-8ff5-48ee-a57b-1c6a308c45f1"
            },
            "text/plain": "StatementMeta(sparkpool, 1, 168, Finished, Available, Finished)"
          },
          "metadata": {}
        }
      ],
      "metadata": {
        "jupyter": {
          "source_hidden": false,
          "outputs_hidden": false
        },
        "nteract": {
          "transient": {
            "deleting": false
          }
        }
      },
      "source": [
        ""
      ]
    },
    {
      "cell_type": "code",
      "execution_count": 225,
      "outputs": [
        {
          "output_type": "display_data",
          "data": {
            "application/vnd.livy.statement-meta+json": {
              "spark_pool": "sparkpool",
              "statement_id": 169,
              "statement_ids": [
                169
              ],
              "livy_statement_state": "available",
              "spark_jobs": null,
              "session_id": "1",
              "state": "finished",
              "normalized_state": "finished",
              "queued_time": "2024-07-18T07:55:06.0977555Z",
              "session_start_time": null,
              "execution_start_time": "2024-07-18T07:55:06.2137326Z",
              "execution_finish_time": "2024-07-18T07:55:10.1436121Z",
              "parent_msg_id": "bbeb212c-e336-45fa-9297-f88911ff55f3"
            },
            "text/plain": "StatementMeta(sparkpool, 1, 169, Finished, Available, Finished)"
          },
          "metadata": {}
        },
        {
          "output_type": "stream",
          "name": "stdout",
          "text": "+--------+--------------+------------+-------------------+-------------------+----------------+--------------+------------+-----------+------------+------------+---------+----------+--------+-------+\n|VendorID|Passengercount|Tripdistance|         Pickuptime|           Droptime|PickuplocationID|DroplocationID|Tripdistance|fare_amount|total_amount|payment_type|trip_type|RatecodeID|Triptype|TripDay|\n+--------+--------------+------------+-------------------+-------------------+----------------+--------------+------------+-----------+------------+------------+---------+----------+--------+-------+\n|       2|             1|        1.44|2021-01-01 08:59:00|2021-01-01 09:04:13|              74|            75|        1.44|        6.5|        8.76|           1|        1|         1|SoloTrip|      1|\n|       1|             1|         0.8|2021-01-01 11:56:17|2021-01-01 11:58:47|              74|            75|         0.8|        4.5|         6.5|           1|        1|         1|SoloTrip|      1|\n|       2|             2|         1.1|2021-01-01 12:15:47|2021-01-01 12:23:19|               7|           179|         1.1|        7.0|         7.8|           2|        1|         1|SoloTrip|      1|\n|       2|             1|        7.15|2021-01-01 15:46:21|2021-01-01 16:25:28|             130|            61|        7.15|       28.5|        29.3|           1|        1|         1|SoloTrip|      1|\n|       2|             1|        1.77|2021-01-01 21:51:36|2021-01-01 21:59:26|              74|           168|        1.77|        8.0|         9.3|           1|        1|         1|SoloTrip|      1|\n|       2|             1|        5.32|2021-01-02 10:50:22|2021-01-02 11:07:11|              41|           143|        5.32|       18.5|       22.05|           2|        1|         1|SoloTrip|      2|\n|       2|             1|        2.34|2021-01-02 12:28:31|2021-01-02 12:43:20|              69|            41|        2.34|       12.0|        12.8|           2|        1|         1|SoloTrip|      2|\n|       2|             5|        0.93|2021-01-02 13:03:52|2021-01-02 13:07:21|              75|            74|        0.93|        5.0|         5.8|           2|        1|         1|SoloTrip|      2|\n|       2|             1|        1.64|2021-01-02 14:32:06|2021-01-02 14:40:26|              74|            75|        1.64|        8.0|       10.56|           1|        1|         1|SoloTrip|      2|\n|       2|             1|        8.61|2021-01-02 17:26:53|2021-01-02 17:55:41|             244|            90|        8.61|       29.0|       32.55|           2|        1|         1|SoloTrip|      2|\n|       2|             1|        3.11|2021-01-02 17:06:12|2021-01-02 17:18:09|              75|           142|        3.11|       12.0|       17.11|           1|        1|         1|SoloTrip|      2|\n|       2|             3|        2.15|2021-01-02 21:35:03|2021-01-02 21:48:19|             247|           147|        2.15|       10.0|        10.3|           2|        2|         5|SoloTrip|      2|\n|       2|             1|       10.43|2021-01-03 12:05:38|2021-01-03 12:26:34|             116|            92|       10.43|       30.0|       36.92|           2|        1|         1|SoloTrip|      3|\n|       2|             1|        2.03|2021-01-04 14:16:37|2021-01-04 14:31:42|              74|           151|        2.03|       11.5|        12.3|           2|        1|         1|SoloTrip|      4|\n|       1|             1|         0.5|2021-01-04 14:39:09|2021-01-04 14:44:53|              25|            33|         0.5|        5.5|         6.3|           2|        1|         1|SoloTrip|      4|\n|       2|             1|        0.99|2021-01-04 16:15:43|2021-01-04 16:21:43|              42|            74|        0.99|        6.0|         7.8|           2|        1|         1|SoloTrip|      4|\n|       2|             1|        0.96|2021-01-04 18:29:23|2021-01-04 18:31:43|              75|            74|        0.96|        4.5|        7.56|           1|        1|         1|SoloTrip|      4|\n|       2|             1|        2.62|2021-01-04 22:50:40|2021-01-04 22:59:12|              75|           140|        2.62|       10.0|       14.05|           2|        1|         1|SoloTrip|      4|\n|       2|             1|        0.86|2021-01-05 08:24:20|2021-01-05 08:28:31|              61|            61|        0.86|        5.0|         5.8|           2|        1|         1|SoloTrip|      5|\n|       1|             1|         5.2|2021-01-05 10:09:10|2021-01-05 10:34:15|              82|           141|         5.2|       20.0|       23.55|           2|        1|         1|SoloTrip|      5|\n+--------+--------------+------------+-------------------+-------------------+----------------+--------------+------------+-----------+------------+------------+---------+----------+--------+-------+\nonly showing top 20 rows\n\n"
        }
      ],
      "metadata": {
        "jupyter": {
          "source_hidden": false,
          "outputs_hidden": false
        },
        "nteract": {
          "transient": {
            "deleting": false
          }
        }
      },
      "source": [
        "taxi_df_trans.show()"
      ]
    },
    {
      "cell_type": "code",
      "execution_count": 179,
      "outputs": [
        {
          "output_type": "display_data",
          "data": {
            "application/vnd.livy.statement-meta+json": {
              "spark_pool": "sparkpool",
              "statement_id": 123,
              "statement_ids": [
                123
              ],
              "livy_statement_state": "available",
              "spark_jobs": null,
              "session_id": "1",
              "state": "finished",
              "normalized_state": "finished",
              "queued_time": "2024-07-18T07:35:28.8254376Z",
              "session_start_time": null,
              "execution_start_time": "2024-07-18T07:35:28.9395661Z",
              "execution_finish_time": "2024-07-18T07:35:29.10275Z",
              "parent_msg_id": "25183512-6c16-48c6-880b-4ce90242b879"
            },
            "text/plain": "StatementMeta(sparkpool, 1, 123, Finished, Available, Finished)"
          },
          "metadata": {}
        }
      ],
      "metadata": {
        "jupyter": {
          "source_hidden": false,
          "outputs_hidden": false
        },
        "nteract": {
          "transient": {
            "deleting": false
          }
        }
      },
      "source": [
        "# taxi_df_final= taxi_df_final.withColumn(\"Droptime\", to_timestamp(col(\"Droptime\"),'dd/MM/yyyy HH:mm'))\r\n",
        "# # df_with_timestamp.show()\r\n",
        "# taxi_df_final=taxi_df_final.withColumn(\"Pickuptime\",to_timestamp(col(\"Pickuptime\"),'dd/MM/yyyy HH:mm'))\r\n",
        ""
      ]
    },
    {
      "cell_type": "code",
      "execution_count": 180,
      "outputs": [
        {
          "output_type": "display_data",
          "data": {
            "application/vnd.livy.statement-meta+json": {
              "spark_pool": "sparkpool",
              "statement_id": 124,
              "statement_ids": [
                124
              ],
              "livy_statement_state": "available",
              "spark_jobs": null,
              "session_id": "1",
              "state": "finished",
              "normalized_state": "finished",
              "queued_time": "2024-07-18T07:35:37.5160811Z",
              "session_start_time": null,
              "execution_start_time": "2024-07-18T07:35:37.6299347Z",
              "execution_finish_time": "2024-07-18T07:35:41.5578566Z",
              "parent_msg_id": "05c218c1-e04c-4db0-a8ba-044dc62fe90d"
            },
            "text/plain": "StatementMeta(sparkpool, 1, 124, Finished, Available, Finished)"
          },
          "metadata": {}
        },
        {
          "output_type": "stream",
          "name": "stdout",
          "text": "+--------+--------------+-------------+----------+--------+----------------+--------------+------------+-----------+------------+------------+---------+----------+-------+\n|VendorID|Passengercount|Tripdistances|Pickuptime|Droptime|PickuplocationID|DroplocationID|Tripdistance|fare_amount|total_amount|payment_type|trip_type|RatecodeID|TripDay|\n+--------+--------------+-------------+----------+--------+----------------+--------------+------------+-----------+------------+------------+---------+----------+-------+\n|       2|             1|         1.44|      null|    null|              74|            75|        1.44|        6.5|        8.76|           1|        1|         1|   null|\n|       1|             1|          0.8|      null|    null|              74|            75|         0.8|        4.5|         6.5|           1|        1|         1|   null|\n|       2|             2|          1.1|      null|    null|               7|           179|         1.1|        7.0|         7.8|           2|        1|         1|   null|\n|       2|             1|         7.15|      null|    null|             130|            61|        7.15|       28.5|        29.3|           1|        1|         1|   null|\n|       2|             1|         1.77|      null|    null|              74|           168|        1.77|        8.0|         9.3|           1|        1|         1|   null|\n|       2|             1|         5.32|      null|    null|              41|           143|        5.32|       18.5|       22.05|           2|        1|         1|   null|\n|       2|             1|         2.34|      null|    null|              69|            41|        2.34|       12.0|        12.8|           2|        1|         1|   null|\n|       2|             5|         0.93|      null|    null|              75|            74|        0.93|        5.0|         5.8|           2|        1|         1|   null|\n|       2|             1|         1.64|      null|    null|              74|            75|        1.64|        8.0|       10.56|           1|        1|         1|   null|\n|       2|             1|         8.61|      null|    null|             244|            90|        8.61|       29.0|       32.55|           2|        1|         1|   null|\n|       2|             1|         3.11|      null|    null|              75|           142|        3.11|       12.0|       17.11|           1|        1|         1|   null|\n|       2|             3|         2.15|      null|    null|             247|           147|        2.15|       10.0|        10.3|           2|        2|         5|   null|\n|       2|             1|        10.43|      null|    null|             116|            92|       10.43|       30.0|       36.92|           2|        1|         1|   null|\n|       2|             1|         2.03|      null|    null|              74|           151|        2.03|       11.5|        12.3|           2|        1|         1|   null|\n|       1|             1|          0.5|      null|    null|              25|            33|         0.5|        5.5|         6.3|           2|        1|         1|   null|\n|       2|             1|         0.99|      null|    null|              42|            74|        0.99|        6.0|         7.8|           2|        1|         1|   null|\n|       2|             1|         0.96|      null|    null|              75|            74|        0.96|        4.5|        7.56|           1|        1|         1|   null|\n|       2|             1|         2.62|      null|    null|              75|           140|        2.62|       10.0|       14.05|           2|        1|         1|   null|\n|       2|             1|         0.86|      null|    null|              61|            61|        0.86|        5.0|         5.8|           2|        1|         1|   null|\n|       1|             1|          5.2|      null|    null|              82|           141|         5.2|       20.0|       23.55|           2|        1|         1|   null|\n+--------+--------------+-------------+----------+--------+----------------+--------------+------------+-----------+------------+------------+---------+----------+-------+\nonly showing top 20 rows\n\n"
        }
      ],
      "metadata": {
        "jupyter": {
          "source_hidden": false,
          "outputs_hidden": false
        },
        "nteract": {
          "transient": {
            "deleting": false
          }
        }
      },
      "source": [
        "taxi_df_trans.show()"
      ]
    },
    {
      "cell_type": "code",
      "execution_count": 20,
      "outputs": [
        {
          "output_type": "display_data",
          "data": {
            "application/vnd.livy.statement-meta+json": {
              "spark_pool": "sparkpool",
              "statement_id": 21,
              "statement_ids": [
                21
              ],
              "livy_statement_state": "available",
              "spark_jobs": null,
              "session_id": "2",
              "state": "finished",
              "normalized_state": "finished",
              "queued_time": "2024-07-18T09:32:20.6691369Z",
              "session_start_time": null,
              "execution_start_time": "2024-07-18T09:32:20.7872581Z",
              "execution_finish_time": "2024-07-18T09:32:34.2931471Z",
              "parent_msg_id": "b18b7bad-badc-4a90-9591-fc623ae73c6f"
            },
            "text/plain": "StatementMeta(sparkpool, 2, 21, Finished, Available, Finished)"
          },
          "metadata": {}
        },
        {
          "output_type": "execute_result",
          "data": {
            "text/plain": "DataFrame[]"
          },
          "execution_count": 43,
          "metadata": {}
        }
      ],
      "metadata": {
        "jupyter": {
          "source_hidden": false,
          "outputs_hidden": false
        },
        "nteract": {
          "transient": {
            "deleting": false
          }
        }
      },
      "source": [
        "spark.sql(\"use taxi_db\")"
      ]
    },
    {
      "cell_type": "code",
      "execution_count": 21,
      "outputs": [
        {
          "output_type": "display_data",
          "data": {
            "application/vnd.livy.statement-meta+json": {
              "spark_pool": "sparkpool",
              "statement_id": 22,
              "statement_ids": [
                22
              ],
              "livy_statement_state": "available",
              "spark_jobs": null,
              "session_id": "2",
              "state": "finished",
              "normalized_state": "finished",
              "queued_time": "2024-07-18T09:32:54.7048418Z",
              "session_start_time": null,
              "execution_start_time": "2024-07-18T09:32:55.1541126Z",
              "execution_finish_time": "2024-07-18T09:33:22.6782973Z",
              "parent_msg_id": "9884da7c-b88d-4df5-9d66-0b99ae14fe84"
            },
            "text/plain": "StatementMeta(sparkpool, 2, 22, Finished, Available, Finished)"
          },
          "metadata": {}
        }
      ],
      "metadata": {
        "jupyter": {
          "source_hidden": false,
          "outputs_hidden": false
        },
        "nteract": {
          "transient": {
            "deleting": false
          }
        }
      },
      "source": [
        "taxi_df_trans.drop(\"RateCodeID\").repartition(4).write.mode(\"overwrite\").saveAsTable(\"taxi_tb\")"
      ]
    },
    {
      "cell_type": "code",
      "execution_count": 23,
      "outputs": [
        {
          "output_type": "display_data",
          "data": {
            "application/vnd.livy.statement-meta+json": {
              "spark_pool": "sparkpool",
              "statement_id": 24,
              "statement_ids": [
                24
              ],
              "livy_statement_state": "available",
              "spark_jobs": null,
              "session_id": "2",
              "state": "finished",
              "normalized_state": "finished",
              "queued_time": "2024-07-18T09:35:31.6677164Z",
              "session_start_time": null,
              "execution_start_time": "2024-07-18T09:35:31.7836398Z",
              "execution_finish_time": "2024-07-18T09:35:37.194101Z",
              "parent_msg_id": "1fbb6c89-7846-47a4-bd2e-174375506a4a"
            },
            "text/plain": "StatementMeta(sparkpool, 2, 24, Finished, Available, Finished)"
          },
          "metadata": {}
        },
        {
          "output_type": "stream",
          "name": "stdout",
          "text": "+--------+--------------+------------+-------------------+-------------------+----------------+--------------+-----------+------------+------------+---------+-------+---------+---+-------------------+\n|VendorID|Passengercount|Tripdistance|         Pickuptime|           Droptime|PickuplocationID|DroplocationID|fare_amount|total_amount|payment_type|trip_type|Tripear|TripMonth|Day|   Tripdurationtime|\n+--------+--------------+------------+-------------------+-------------------+----------------+--------------+-----------+------------+------------+---------+-------+---------+---+-------------------+\n|       2|             1|        3.02|2021-06-27 17:01:52|2021-06-27 17:12:31|              74|           236|       10.5|       14.05|           2|        1|   2021|     2021|  6|              10.65|\n|       2|             1|        0.03|2021-01-10 20:43:33|2021-01-10 20:43:37|              42|            42|        2.5|         3.8|           2|        1|   2021|     2021|  1|0.06666666666666667|\n|       2|             1|        1.05|2021-01-08 19:55:34|2021-01-08 20:01:56|              41|            74|        6.5|         8.3|           2|        1|   2021|     2021|  1|  6.366666666666666|\n|       2|             1|        2.55|2021-03-20 08:55:37|2021-03-20 09:07:36|              41|           142|       11.0|       14.55|           2|        1|   2021|     2021|  3| 11.983333333333333|\n|       2|             1|        3.21|2021-03-12 19:42:12|2021-03-12 19:55:47|              43|           230|       12.5|       20.05|           1|        1|   2021|     2021|  3| 13.583333333333334|\n|       2|             1|        3.45|2021-05-16 11:42:22|2021-05-16 11:56:10|              41|           237|       13.0|       19.86|           1|        1|   2021|     2021|  5|               13.8|\n|       2|             1|       12.19|2021-11-09 13:28:04|2021-11-09 14:54:57|              92|           253|       57.5|        58.3|           2|        1|   2021|     2021| 11|  86.88333333333334|\n|       2|             1|        3.23|2021-11-26 06:48:20|2021-11-26 06:58:56|              41|           161|       11.5|       15.05|           1|        1|   2021|     2021| 11|               10.6|\n|       2|             1|        2.52|2021-11-29 11:53:50|2021-11-29 12:07:19|              75|           142|       11.5|       15.05|           2|        1|   2021|     2021| 11| 13.483333333333333|\n|       2|             1|        9.89|2021-10-21 05:12:08|2021-10-21 05:32:56|             235|           127|       28.0|        29.3|           2|        1|   2021|     2021| 10|               20.8|\n|       2|             1|         3.2|2021-06-06 14:02:08|2021-06-06 14:15:04|              43|           161|       12.0|       15.55|           2|        1|   2021|     2021|  6| 12.933333333333334|\n|       2|             1|       28.69|2021-05-21 12:24:06|2021-05-21 13:30:21|             136|           265|       81.5|       88.85|           1|        1|   2021|     2021|  5|              66.25|\n|       2|             1|        6.57|2021-09-16 15:21:34|2021-09-16 15:54:41|              40|            90|       26.0|       29.55|           2|        1|   2021|     2021|  9|  33.11666666666667|\n|       2|             5|         0.8|2021-10-06 02:17:19|2021-10-06 02:20:11|              97|            49|        4.5|        12.8|           1|        1|   2021|     2021| 10| 2.8666666666666667|\n|       2|             1|        1.65|2021-10-12 12:28:49|2021-10-12 12:42:15|             166|            75|       10.5|       13.56|           1|        1|   2021|     2021| 10| 13.433333333333334|\n|       2|             1|        1.16|2021-11-09 14:37:57|2021-11-09 14:45:04|              92|            92|        7.0|         7.8|           2|        1|   2021|     2021| 11|  7.116666666666666|\n|       2|             1|        0.18|2021-12-31 18:04:38|2021-12-31 18:05:08|              75|            75|        2.5|         4.3|           2|        1|   2021|     2021| 12|                0.5|\n|       2|             1|        1.46|2021-01-20 09:00:22|2021-01-20 09:11:47|              74|            75|        9.0|         9.8|           2|        1|   2021|     2021|  1| 11.416666666666666|\n|       1|             2|         3.4|2021-04-21 12:22:14|2021-04-21 12:35:32|             244|           264|       13.0|        13.8|           2|        1|   2021|     2021|  4|               13.3|\n|       2|             1|        5.99|2021-11-03 19:33:20|2021-11-03 19:57:39|              95|            53|       22.5|        24.3|           2|        1|   2021|     2021| 11| 24.316666666666666|\n+--------+--------------+------------+-------------------+-------------------+----------------+--------------+-----------+------------+------------+---------+-------+---------+---+-------------------+\nonly showing top 20 rows\n\n"
        }
      ],
      "metadata": {
        "jupyter": {
          "source_hidden": false,
          "outputs_hidden": false
        },
        "nteract": {
          "transient": {
            "deleting": false
          }
        }
      },
      "source": [
        "spark.sql(\"select * from taxi_tb\").show()"
      ]
    }
  ],
  "metadata": {
    "description": null,
    "save_output": true,
    "language_info": {
      "name": "python"
    },
    "synapse_widget": {
      "version": "0.1",
      "state": {}
    }
  }
}