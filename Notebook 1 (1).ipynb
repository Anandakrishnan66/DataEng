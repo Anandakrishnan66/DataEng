{
  "cells": [
    {
      "cell_type": "code",
      "source": [
        "sc"
      ],
      "outputs": [
        {
          "output_type": "display_data",
          "data": {
            "application/vnd.livy.statement-meta+json": {
              "spark_pool": "sparkpool",
              "statement_id": 2,
              "statement_ids": [
                2
              ],
              "livy_statement_state": "available",
              "spark_jobs": null,
              "session_id": "20",
              "state": "finished",
              "normalized_state": "finished",
              "queued_time": "2024-07-19T07:25:56.832202Z",
              "session_start_time": "2024-07-19T07:25:56.875871Z",
              "execution_start_time": "2024-07-19T07:29:24.9964503Z",
              "execution_finish_time": "2024-07-19T07:29:25.6784716Z",
              "parent_msg_id": "c25af866-7850-4906-8495-029e85992111"
            },
            "text/plain": "StatementMeta(sparkpool, 20, 2, Finished, Available, Finished)"
          },
          "metadata": {}
        },
        {
          "output_type": "execute_result",
          "execution_count": 5,
          "data": {
            "text/plain": "<SparkContext master=yarn appName=Notebook 1_sparkpool_1721373956>",
            "text/html": "\n        <div>\n            <p><b>SparkContext</b></p>\n\n            <p><a href=\"https://web.azuresynapse.net/sparkui/84d16d2d-d167-4eed-8209-f12cd1de2bc5/workspaces/azuresynapseworks/sparkpools/sparkpool/sessions/20/applications/application_1721374035595_0001\">Spark UI</a></p>\n\n            <dl>\n              <dt>Version</dt>\n                <dd><code>v3.4.1.5.3.20240528.1</code></dd>\n              <dt>Master</dt>\n                <dd><code>yarn</code></dd>\n              <dt>AppName</dt>\n                <dd><code>Notebook 1_sparkpool_1721373956</code></dd>\n            </dl>\n        </div>\n        "
          },
          "metadata": {}
        }
      ],
      "execution_count": 1,
      "metadata": {}
    },
    {
      "cell_type": "code",
      "source": [],
      "outputs": [],
      "execution_count": null,
      "metadata": {
        "jupyter": {
          "source_hidden": false,
          "outputs_hidden": false
        },
        "nteract": {
          "transient": {
            "deleting": false
          }
        }
      }
    },
    {
      "cell_type": "code",
      "source": [
        "userSchema = spark.read.parquet(\"abfss://datasynapsefs@datasynapselake.dfs.core.windows.net/synapse/workspaces/azuresynapseworks/warehouse/taxi_tb/\").schema\r\n",
        "taxi_df=spark.readStream.schema(schema=userSchema).format(\"parquet\").option(\"path\",\"abfss://datasynapsefs@datasynapselake.dfs.core.windows.net/synapse/workspaces/azuresynapseworks/warehouse/taxi_tb/*.parquet\").load()"
      ],
      "outputs": [],
      "execution_count": null,
      "metadata": {
        "jupyter": {
          "source_hidden": false,
          "outputs_hidden": false
        },
        "nteract": {
          "transient": {
            "deleting": false
          }
        }
      }
    },
    {
      "cell_type": "code",
      "source": [
        "taxi_df.writeStream.outputMode(\"\")\\\r\n",
        ".format(\"json\")\\\r\n",
        ".option(\"path\",\"abfss://datasynapsefs@datasynapselake.dfs.core.windows.net/output_data1/\")\\\r\n",
        ".option(\"checkpointlocation\",\"abfss://datasynapsefs@datasynapselake.dfs.core.windows.net/checkpoint1\")\\\r\n",
        ".start()"
      ],
      "outputs": [],
      "execution_count": null,
      "metadata": {
        "jupyter": {
          "source_hidden": false,
          "outputs_hidden": false
        },
        "nteract": {
          "transient": {
            "deleting": false
          }
        }
      }
    },
    {
      "cell_type": "code",
      "source": [
        "userSchema = spark.read.parquet(\"abfss://datasynapsefs@datasynapselake.dfs.core.windows.net/synapse/workspaces/azuresynapseworks/warehouse/taxi_tb/\").schema\r\n",
        "taxi_df=spark.readStream.schema(schema=userSchema).format(\"parquet\").option(\"path\",\"abfss://datasynapsefs@datasynapselake.dfs.core.windows.net/synapse/workspaces/azuresynapseworks/warehouse/taxi_tb/*.parquet\").load()\r\n",
        "\r\n",
        "taxi_df=taxi_df.select('VendorID',\r\n",
        " 'payment_type',\r\n",
        " 'trip_type',\r\n",
        " (col('FareAmount') + col('TotalAmount')).alias('TotalAmount'))\r\n",
        " ).\\\r\n",
        " groupBy('VendorID','Triptype','payment_type').agg(sum(col('TotalAmount')),max('TotalAmount'),min('TotalAmount'))\r\n",
        "\r\n",
        "taxi_df.writeStream.outputMode(\"append\")\\\r\n",
        ".format(\"json\")\\\r\n",
        ".option(\"path\",\"abfss://datasynapsefs@datasynapselake.dfs.core.windows.net/output_data3/\")\\\r\n",
        ".option(\"checkpointlocation\",\"abfss://datasynapsefs@datasynapselake.dfs.core.windows.net/checkpoint3\")\\\r\n",
        ".start()"
      ],
      "outputs": [],
      "execution_count": null,
      "metadata": {
        "jupyter": {
          "source_hidden": false,
          "outputs_hidden": false
        },
        "nteract": {
          "transient": {
            "deleting": false
          }
        }
      }
    }
  ],
  "metadata": {
    "language_info": {
      "name": "python"
    },
    "kernelspec": {
      "name": "synapse_pyspark",
      "language": "Python",
      "display_name": "Synapse PySpark"
    },
    "kernel_info": {
      "name": "synapse_pyspark"
    },
    "save_output": true,
    "synapse_widget": {
      "version": "0.1",
      "state": {}
    }
  },
  "nbformat": 4,
  "nbformat_minor": 2
}