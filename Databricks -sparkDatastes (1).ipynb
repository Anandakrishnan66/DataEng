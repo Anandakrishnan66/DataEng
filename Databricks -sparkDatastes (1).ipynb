{
 "cells": [
  {
   "cell_type": "code",
   "execution_count": 0,
   "metadata": {
    "application/vnd.databricks.v1+cell": {
     "cellMetadata": {
      "byteLimit": 2048000,
      "rowLimit": 10000
     },
     "inputWidgets": {},
     "nuid": "e0396479-7c53-4e09-a2f9-7c558e1576e6",
     "showTitle": false,
     "title": ""
    }
   },
   "outputs": [
    {
     "output_type": "execute_result",
     "data": {
      "text/html": [
       "\n",
       "        <div>\n",
       "            <p><b>SparkContext</b></p>\n",
       "\n",
       "            <p><a href=\"/?o=3197823526264055#setting/sparkui/0724-044622-t9g6hw7b/driver-3372474715648954056\">Spark UI</a></p>\n",
       "\n",
       "            <dl>\n",
       "              <dt>Version</dt>\n",
       "                <dd><code>v3.5.0</code></dd>\n",
       "              <dt>Master</dt>\n",
       "                <dd><code>spark://10.139.64.4:7077</code></dd>\n",
       "              <dt>AppName</dt>\n",
       "                <dd><code>Databricks Shell</code></dd>\n",
       "            </dl>\n",
       "        </div>\n",
       "        "
      ],
      "text/plain": [
       "<SparkContext master=spark://10.139.64.4:7077 appName=Databricks Shell>"
      ]
     },
     "execution_count": 1,
     "metadata": {},
     "output_type": "execute_result"
    }
   ],
   "source": [
    "sc"
   ]
  },
  {
   "cell_type": "code",
   "execution_count": 0,
   "metadata": {
    "application/vnd.databricks.v1+cell": {
     "cellMetadata": {
      "byteLimit": 2048000,
      "rowLimit": 10000
     },
     "inputWidgets": {},
     "nuid": "590f74d2-6823-4ff0-9765-0579e54eb606",
     "showTitle": false,
     "title": ""
    }
   },
   "outputs": [],
   "source": [
    "from pyspark import SparkConf,SparkContext\n",
    "from pyspark.sql import SparkSession\n"
   ]
  },
  {
   "cell_type": "code",
   "execution_count": 0,
   "metadata": {
    "application/vnd.databricks.v1+cell": {
     "cellMetadata": {
      "byteLimit": 2048000,
      "rowLimit": 10000
     },
     "inputWidgets": {},
     "nuid": "a9f73a82-9630-47ae-b620-f7dfaa35f1ba",
     "showTitle": false,
     "title": ""
    }
   },
   "outputs": [
    {
     "output_type": "display_data",
     "data": {
      "text/plain": [
       "com.databricks.backend.common.rpc.SparkStoppedException: Spark down: \n",
       "\tat com.databricks.backend.daemon.driver.DriverWrapper.executeCommandAndGetError(DriverWrapper.scala:693)\n",
       "\tat com.databricks.backend.daemon.driver.DriverWrapper.executeCommand(DriverWrapper.scala:730)\n",
       "\tat com.databricks.backend.daemon.driver.DriverWrapper.$anonfun$runInnerLoop$1(DriverWrapper.scala:560)\n",
       "\tat scala.runtime.java8.JFunction0$mcV$sp.apply(JFunction0$mcV$sp.java:23)\n",
       "\tat com.databricks.logging.UsageLogging.$anonfun$withAttributionContext$1(UsageLogging.scala:426)\n",
       "\tat scala.util.DynamicVariable.withValue(DynamicVariable.scala:62)\n",
       "\tat com.databricks.logging.AttributionContext$.withValue(AttributionContext.scala:216)\n",
       "\tat com.databricks.logging.UsageLogging.withAttributionContext(UsageLogging.scala:424)\n",
       "\tat com.databricks.logging.UsageLogging.withAttributionContext$(UsageLogging.scala:418)\n",
       "\tat com.databricks.backend.daemon.driver.DriverWrapper.withAttributionContext(DriverWrapper.scala:72)\n",
       "\tat com.databricks.backend.daemon.driver.DriverWrapper.runInnerLoop(DriverWrapper.scala:560)\n",
       "\tat com.databricks.backend.daemon.driver.DriverWrapper.runInner(DriverWrapper.scala:482)\n",
       "\tat com.databricks.backend.daemon.driver.DriverWrapper.run(DriverWrapper.scala:290)\n",
       "\tat java.lang.Thread.run(Thread.java:750)"
      ]
     },
     "metadata": {
      "application/vnd.databricks.v1+output": {
       "addedWidgets": {},
       "arguments": {},
       "datasetInfos": [],
       "jupyterProps": null,
       "metadata": {
        "errorSummary": "The spark context has stopped and the driver is restarting. Your notebook will be automatically reattached."
       },
       "removedWidgets": [],
       "sqlProps": null,
       "stackFrames": [
        "com.databricks.backend.common.rpc.SparkStoppedException: Spark down: ",
        "\tat com.databricks.backend.daemon.driver.DriverWrapper.executeCommandAndGetError(DriverWrapper.scala:693)",
        "\tat com.databricks.backend.daemon.driver.DriverWrapper.executeCommand(DriverWrapper.scala:730)",
        "\tat com.databricks.backend.daemon.driver.DriverWrapper.$anonfun$runInnerLoop$1(DriverWrapper.scala:560)",
        "\tat scala.runtime.java8.JFunction0$mcV$sp.apply(JFunction0$mcV$sp.java:23)",
        "\tat com.databricks.logging.UsageLogging.$anonfun$withAttributionContext$1(UsageLogging.scala:426)",
        "\tat scala.util.DynamicVariable.withValue(DynamicVariable.scala:62)",
        "\tat com.databricks.logging.AttributionContext$.withValue(AttributionContext.scala:216)",
        "\tat com.databricks.logging.UsageLogging.withAttributionContext(UsageLogging.scala:424)",
        "\tat com.databricks.logging.UsageLogging.withAttributionContext$(UsageLogging.scala:418)",
        "\tat com.databricks.backend.daemon.driver.DriverWrapper.withAttributionContext(DriverWrapper.scala:72)",
        "\tat com.databricks.backend.daemon.driver.DriverWrapper.runInnerLoop(DriverWrapper.scala:560)",
        "\tat com.databricks.backend.daemon.driver.DriverWrapper.runInner(DriverWrapper.scala:482)",
        "\tat com.databricks.backend.daemon.driver.DriverWrapper.run(DriverWrapper.scala:290)",
        "\tat java.lang.Thread.run(Thread.java:750)"
       ],
       "type": "baseError"
      }
     },
     "output_type": "display_data"
    }
   ],
   "source": [
    "spark.stop()\n",
    "\n",
    "\n"
   ]
  },
  {
   "cell_type": "code",
   "execution_count": 0,
   "metadata": {
    "application/vnd.databricks.v1+cell": {
     "cellMetadata": {
      "byteLimit": 2048000,
      "rowLimit": 10000
     },
     "inputWidgets": {},
     "nuid": "ca48af17-c404-4e34-88a5-590e19a9d37c",
     "showTitle": false,
     "title": ""
    }
   },
   "outputs": [
    {
     "output_type": "execute_result",
     "data": {
      "text/html": [
       "\n",
       "            <div>\n",
       "                <p><b>SparkSession - hive</b></p>\n",
       "                \n",
       "        <div>\n",
       "            <p><b>SparkContext</b></p>\n",
       "\n",
       "            <p><a href=\"/?o=3197823526264055#setting/sparkui/0724-044622-t9g6hw7b/driver-8268429045387300894\">Spark UI</a></p>\n",
       "\n",
       "            <dl>\n",
       "              <dt>Version</dt>\n",
       "                <dd><code>v3.5.0</code></dd>\n",
       "              <dt>Master</dt>\n",
       "                <dd><code>spark://10.139.64.4:7077</code></dd>\n",
       "              <dt>AppName</dt>\n",
       "                <dd><code>Databricks Shell</code></dd>\n",
       "            </dl>\n",
       "        </div>\n",
       "        \n",
       "            </div>\n",
       "        "
      ],
      "text/plain": [
       "<pyspark.sql.session.SparkSession at 0x7efe140e6e90>"
      ]
     },
     "execution_count": 3,
     "metadata": {},
     "output_type": "execute_result"
    }
   ],
   "source": [
    "spark=SparkSession.builder.appName(\"Datasets\").getOrCreate()\n",
    "spark"
   ]
  },
  {
   "cell_type": "code",
   "execution_count": 0,
   "metadata": {
    "application/vnd.databricks.v1+cell": {
     "cellMetadata": {
      "byteLimit": 2048000,
      "rowLimit": 10000
     },
     "inputWidgets": {},
     "nuid": "a4cad06d-fcd7-45fd-ac24-3c4ea502e2c3",
     "showTitle": false,
     "title": ""
    }
   },
   "outputs": [
    {
     "output_type": "execute_result",
     "data": {
      "text/html": [
       "\n",
       "        <div>\n",
       "            <p><b>SparkContext</b></p>\n",
       "\n",
       "            <p><a href=\"/?o=3197823526264055#setting/sparkui/0724-044622-t9g6hw7b/driver-8268429045387300894\">Spark UI</a></p>\n",
       "\n",
       "            <dl>\n",
       "              <dt>Version</dt>\n",
       "                <dd><code>v3.5.0</code></dd>\n",
       "              <dt>Master</dt>\n",
       "                <dd><code>spark://10.139.64.4:7077</code></dd>\n",
       "              <dt>AppName</dt>\n",
       "                <dd><code>Databricks Shell</code></dd>\n",
       "            </dl>\n",
       "        </div>\n",
       "        "
      ],
      "text/plain": [
       "<SparkContext master=spark://10.139.64.4:7077 appName=Databricks Shell>"
      ]
     },
     "execution_count": 6,
     "metadata": {},
     "output_type": "execute_result"
    }
   ],
   "source": [
    "sc"
   ]
  },
  {
   "cell_type": "markdown",
   "metadata": {
    "application/vnd.databricks.v1+cell": {
     "cellMetadata": {},
     "inputWidgets": {},
     "nuid": "3f2de2ca-6282-410e-82cb-ffd273d82ed7",
     "showTitle": false,
     "title": ""
    }
   },
   "source": [
    "### 1.Creat a dataset "
   ]
  },
  {
   "cell_type": "code",
   "execution_count": 0,
   "metadata": {
    "application/vnd.databricks.v1+cell": {
     "cellMetadata": {
      "byteLimit": 2048000,
      "rowLimit": 10000
     },
     "inputWidgets": {},
     "nuid": "50af9662-3493-4266-925e-d58ea9ccf4a7",
     "showTitle": false,
     "title": ""
    }
   },
   "outputs": [],
   "source": [
    "# Original data\n",
    "data = [\n",
    "    (\"P001\", \"Wireless Mouse\", 1200, \"2023-01\", 150, \"Credit Card\"),\n",
    "    (\"P002\", \"Bluetooth Speaker\", 1350, \"2023-01\", 200, \"PayPal\"),\n",
    "    (\"P003\", \"USB Keyboard\", 1600, \"2023-02\", 250, \"Credit Card\"),\n",
    "    (\"P004\", \"Smartphone Stand\", 1750, \"2023-02\", 300, \"Debit Card\"),\n",
    "    (\"P005\", \"Noise Cancelling Headphones\", 2100, \"2023-03\", 400, \"Credit Card\"),\n",
    "    (\"P006\", \"Smartwatch\", 2200, \"2023-03\", 420, \"Apple Pay\"),\n",
    "    (\"P007\", \"Laptop Bag\", 2500, \"2023-04\", 500, \"PayPal\"),\n",
    "    (\"P008\", \"Wireless Charger\", 2600, \"2023-04\", 520, \"Credit Card\"),\n",
    "    (\"P009\", \"Portable SSD\", 1400, \"2023-05\", 280, \"Debit Card\"),\n",
    "    (\"P010\", \"Ergonomic Chair\", 1550, \"2023-05\", 310, \"Credit Card\"),\n",
    "    (\"P011\", \"Webcam\", 1700, \"2023-06\", 340, \"PayPal\"),\n",
    "    (\"P012\", \"Home Router\", 1800, \"2023-06\", 360, \"Credit Card\"),\n",
    "    (\"P013\", \"Desk Lamp\", 1900, \"2023-07\", 380, \"Debit Card\"),\n",
    "    (\"P014\", \"Tablet Stand\", 2000, \"2023-07\", 400, \"Apple Pay\"),\n",
    "    (\"P015\", \"External Hard Drive\", 2100, \"2023-08\", 420, \"Credit Card\"),\n",
    "    (\"P016\", \"Gaming Keyboard\", 2300, \"2023-08\", 460, \"PayPal\"),\n",
    "    (\"P017\", \"Office Desk\", 2400, \"2023-09\", 480, \"Credit Card\"),\n",
    "    (\"P018\", \"Desk Organizer\", 2500, \"2023-09\", 500, \"Debit Card\"),\n",
    "    (\"P019\", \"Monitor Stand\", 2600, \"2023-10\", 520, \"Apple Pay\"),\n",
    "    (\"P020\", \"Adjustable Chair\", 2700, \"2023-10\", 540, \"Credit Card\"),\n",
    "\n",
    "    (\"P021\", \"Wireless Earbuds\", 1300, \"2023-11\", 260, \"PayPal\"),\n",
    "    (\"P022\", \"Smart Home Hub\", 1500, \"2023-11\", 300, \"Credit Card\"),\n",
    "    (\"P023\", \"Bluetooth Headphones\", 1700, \"2023-12\", 340, \"Debit Card\"),\n",
    "    (\"P024\", \"Webcam Cover\", 1800, \"2023-12\", 360, \"Apple Pay\"),\n",
    "    (\"P025\", \"Fitness Tracker\", 2000, \"2024-01\", 400, \"Credit Card\"),\n",
    "    (\"P026\", \"USB Hub\", 1900, \"2024-01\", 380, \"PayPal\"),\n",
    "    (\"P027\", \"Gaming Mouse\", 2100, \"2024-02\", 420, \"Credit Card\"),\n",
    "    (\"P028\", \"Portable Speaker\", 2200, \"2024-02\", 440, \"Debit Card\"),\n",
    "    (\"P029\", \"Smart Light Bulb\", 1600, \"2024-03\", 320, \"Apple Pay\"),\n",
    "    (\"P030\", \"Ergonomic Keyboard\", 1750, \"2024-03\", 350, \"Credit Card\"),\n",
    "    (\"P031\", \"Docking Station\", 2300, \"2024-04\", 460, \"PayPal\"),\n",
    "    (\"P032\", \"Monitor Stand Riser\", 2400, \"2024-04\", 480, \"Debit Card\"),\n",
    "    (\"P033\", \"Gaming Chair\", 2600, \"2024-05\", 520, \"Credit Card\"),\n",
    "    (\"P034\", \"Wireless Charger Pad\", 1800, \"2024-05\", 360, \"Apple Pay\")]\n"
   ]
  },
  {
   "cell_type": "code",
   "execution_count": 0,
   "metadata": {
    "application/vnd.databricks.v1+cell": {
     "cellMetadata": {
      "byteLimit": 2048000,
      "rowLimit": 10000
     },
     "inputWidgets": {},
     "nuid": "5e65da8a-5451-41d2-ac18-ec824990f85f",
     "showTitle": false,
     "title": ""
    }
   },
   "outputs": [],
   "source": [
    "rdd=sc.parallelize(data)"
   ]
  },
  {
   "cell_type": "code",
   "execution_count": 0,
   "metadata": {
    "application/vnd.databricks.v1+cell": {
     "cellMetadata": {
      "byteLimit": 2048000,
      "rowLimit": 10000
     },
     "inputWidgets": {},
     "nuid": "3b05f107-7bdc-40d6-b62c-668cb0ee937b",
     "showTitle": false,
     "title": ""
    }
   },
   "outputs": [],
   "source": [
    "from pyspark.sql.types import *\n",
    "\n",
    "schema = StructType([\n",
    "    StructField(\"Productcode\", StringType(), False),\n",
    "    StructField(\"Productname\", StringType(), False),\n",
    "    StructField(\"Sales\", IntegerType(), False),\n",
    "    StructField(\"Month_and_Year\", StringType(), False),\n",
    "    StructField(\"Profit\", IntegerType(), False),\n",
    "    StructField(\"Payment_Method\", StringType(), False)\n",
    "])"
   ]
  },
  {
   "cell_type": "code",
   "execution_count": 0,
   "metadata": {
    "application/vnd.databricks.v1+cell": {
     "cellMetadata": {
      "byteLimit": 2048000,
      "rowLimit": 10000
     },
     "inputWidgets": {},
     "nuid": "d0792e8d-09ee-427d-b30d-d79177bfd02a",
     "showTitle": false,
     "title": ""
    }
   },
   "outputs": [],
   "source": [
    "dff=spark.createDataFrame(rdd,schema)"
   ]
  },
  {
   "cell_type": "code",
   "execution_count": 0,
   "metadata": {
    "application/vnd.databricks.v1+cell": {
     "cellMetadata": {
      "byteLimit": 2048000,
      "rowLimit": 10000
     },
     "inputWidgets": {},
     "nuid": "e25097ee-9173-4579-b31f-4e9fa913f897",
     "showTitle": false,
     "title": ""
    }
   },
   "outputs": [],
   "source": [
    "df=dff"
   ]
  },
  {
   "cell_type": "code",
   "execution_count": 0,
   "metadata": {
    "application/vnd.databricks.v1+cell": {
     "cellMetadata": {
      "byteLimit": 2048000,
      "rowLimit": 10000
     },
     "inputWidgets": {},
     "nuid": "62ac08db-3112-4b35-b4f4-57f33ba16944",
     "showTitle": false,
     "title": ""
    }
   },
   "outputs": [
    {
     "output_type": "stream",
     "name": "stdout",
     "output_type": "stream",
     "text": [
      "+-----------+--------------------+-----+--------------+------+--------------+\n|Productcode|         Productname|Sales|Month_and_Year|Profit|Payment_Method|\n+-----------+--------------------+-----+--------------+------+--------------+\n|       P001|      Wireless Mouse| 1200|       2023-01|   150|   Credit Card|\n|       P002|   Bluetooth Speaker| 1350|       2023-01|   200|        PayPal|\n|       P003|        USB Keyboard| 1600|       2023-02|   250|   Credit Card|\n|       P004|    Smartphone Stand| 1750|       2023-02|   300|    Debit Card|\n|       P005|Noise Cancelling ...| 2100|       2023-03|   400|   Credit Card|\n|       P006|          Smartwatch| 2200|       2023-03|   420|     Apple Pay|\n|       P007|          Laptop Bag| 2500|       2023-04|   500|        PayPal|\n|       P008|    Wireless Charger| 2600|       2023-04|   520|   Credit Card|\n|       P009|        Portable SSD| 1400|       2023-05|   280|    Debit Card|\n|       P010|     Ergonomic Chair| 1550|       2023-05|   310|   Credit Card|\n|       P011|              Webcam| 1700|       2023-06|   340|        PayPal|\n|       P012|         Home Router| 1800|       2023-06|   360|   Credit Card|\n|       P013|           Desk Lamp| 1900|       2023-07|   380|    Debit Card|\n|       P014|        Tablet Stand| 2000|       2023-07|   400|     Apple Pay|\n|       P015| External Hard Drive| 2100|       2023-08|   420|   Credit Card|\n|       P016|     Gaming Keyboard| 2300|       2023-08|   460|        PayPal|\n|       P017|         Office Desk| 2400|       2023-09|   480|   Credit Card|\n|       P018|      Desk Organizer| 2500|       2023-09|   500|    Debit Card|\n|       P019|       Monitor Stand| 2600|       2023-10|   520|     Apple Pay|\n|       P020|    Adjustable Chair| 2700|       2023-10|   540|   Credit Card|\n+-----------+--------------------+-----+--------------+------+--------------+\nonly showing top 20 rows\n\n"
     ]
    }
   ],
   "source": [
    "df.show()"
   ]
  },
  {
   "cell_type": "code",
   "execution_count": 0,
   "metadata": {
    "application/vnd.databricks.v1+cell": {
     "cellMetadata": {
      "byteLimit": 2048000,
      "rowLimit": 10000
     },
     "inputWidgets": {},
     "nuid": "fc262d7b-5a8a-4889-bdb9-9771306caa40",
     "showTitle": false,
     "title": ""
    }
   },
   "outputs": [],
   "source": [
    "from pyspark.sql import Row\n",
    "\n",
    "#Define a case class \n",
    "sales=Row(\"productcode\",\"productname\",\"sales\",\"datetime\",\"profit\",\"paymentmethod\")\n",
    "datasets=df.rdd.map(lambda row:sales(*row)).toDF()"
   ]
  },
  {
   "cell_type": "code",
   "execution_count": 0,
   "metadata": {
    "application/vnd.databricks.v1+cell": {
     "cellMetadata": {
      "byteLimit": 2048000,
      "rowLimit": 10000
     },
     "inputWidgets": {},
     "nuid": "4691a016-dcbb-4796-ba8e-93fc78704f63",
     "showTitle": false,
     "title": ""
    }
   },
   "outputs": [],
   "source": []
  },
  {
   "cell_type": "code",
   "execution_count": 0,
   "metadata": {
    "application/vnd.databricks.v1+cell": {
     "cellMetadata": {
      "byteLimit": 2048000,
      "rowLimit": 10000
     },
     "inputWidgets": {},
     "nuid": "29dfefee-c7af-4ca1-89fa-28c5e3915fbd",
     "showTitle": false,
     "title": ""
    }
   },
   "outputs": [
    {
     "output_type": "stream",
     "name": "stdout",
     "output_type": "stream",
     "text": [
      "+-----------+--------------------+-----+--------+------+-------------+\n|productcode|         productname|sales|datetime|profit|paymentmethod|\n+-----------+--------------------+-----+--------+------+-------------+\n|       P001|      Wireless Mouse| 1200| 2023-01|   150|  Credit Card|\n|       P002|   Bluetooth Speaker| 1350| 2023-01|   200|       PayPal|\n|       P003|        USB Keyboard| 1600| 2023-02|   250|  Credit Card|\n|       P004|    Smartphone Stand| 1750| 2023-02|   300|   Debit Card|\n|       P005|Noise Cancelling ...| 2100| 2023-03|   400|  Credit Card|\n|       P006|          Smartwatch| 2200| 2023-03|   420|    Apple Pay|\n|       P007|          Laptop Bag| 2500| 2023-04|   500|       PayPal|\n|       P008|    Wireless Charger| 2600| 2023-04|   520|  Credit Card|\n|       P009|        Portable SSD| 1400| 2023-05|   280|   Debit Card|\n|       P010|     Ergonomic Chair| 1550| 2023-05|   310|  Credit Card|\n|       P011|              Webcam| 1700| 2023-06|   340|       PayPal|\n|       P012|         Home Router| 1800| 2023-06|   360|  Credit Card|\n|       P013|           Desk Lamp| 1900| 2023-07|   380|   Debit Card|\n|       P014|        Tablet Stand| 2000| 2023-07|   400|    Apple Pay|\n|       P015| External Hard Drive| 2100| 2023-08|   420|  Credit Card|\n|       P016|     Gaming Keyboard| 2300| 2023-08|   460|       PayPal|\n|       P017|         Office Desk| 2400| 2023-09|   480|  Credit Card|\n|       P018|      Desk Organizer| 2500| 2023-09|   500|   Debit Card|\n|       P019|       Monitor Stand| 2600| 2023-10|   520|    Apple Pay|\n|       P020|    Adjustable Chair| 2700| 2023-10|   540|  Credit Card|\n+-----------+--------------------+-----+--------+------+-------------+\nonly showing top 20 rows\n\n"
     ]
    }
   ],
   "source": [
    "datasets.show()"
   ]
  },
  {
   "cell_type": "code",
   "execution_count": 0,
   "metadata": {
    "application/vnd.databricks.v1+cell": {
     "cellMetadata": {},
     "inputWidgets": {},
     "nuid": "d7992098-e268-45f9-bf10-075aa164a054",
     "showTitle": false,
     "title": ""
    }
   },
   "outputs": [],
   "source": []
  }
 ],
 "metadata": {
  "application/vnd.databricks.v1+notebook": {
   "dashboards": [],
   "environmentMetadata": null,
   "language": "python",
   "notebookMetadata": {
    "pythonIndentUnit": 4
   },
   "notebookName": "Databricks -sparkDatastes",
   "widgets": {}
  }
 },
 "nbformat": 4,
 "nbformat_minor": 0
}
